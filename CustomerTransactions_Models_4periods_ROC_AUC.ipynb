{
  "cells": [
    {
      "cell_type": "markdown",
      "metadata": {
        "id": "WIIjcoy499Ar"
      },
      "source": [
        "# Customer Transactions Models **4 Periods**<br>ROC-AUC\n",
        "\n",
        "**by David Cochran**<br/>\n",
        "**Data Analytics @ Newman University**\n",
        "\n",
        "**Contents:**\n",
        "1. Read and Review Data\n",
        "2. Prepare Data Splits\n",
        "3. Train Models & Tune Hyperparameters\n",
        "4. Test & Evaluate Tuned Models\n",
        "5. View under hood of models"
      ]
    },
    {
      "cell_type": "code",
      "execution_count": 1,
      "metadata": {
        "id": "RGcFM8GR99Av"
      },
      "outputs": [],
      "source": [
        "# Essential Libraries\n",
        "import numpy as np\n",
        "import pandas as pd\n",
        "import matplotlib.pyplot as plt\n",
        "import seaborn as sns\n",
        "%matplotlib inline\n",
        "from time import time\n",
        "\n",
        "# Libraries for Machine Learning Process\n",
        "from sklearn.model_selection import train_test_split, GridSearchCV\n",
        "from sklearn.metrics import make_scorer, accuracy_score, precision_score, recall_score, f1_score, roc_auc_score, confusion_matrix\n",
        "\n",
        "# Algorithms\n",
        "from sklearn.linear_model import LogisticRegression\n",
        "from sklearn.tree import DecisionTreeClassifier\n",
        "from sklearn.ensemble import RandomForestClassifier\n",
        "from sklearn.ensemble import GradientBoostingClassifier\n",
        "\n",
        "# Customize seaborn plot styles\n",
        "import matplotlib_inline.backend_inline\n",
        "matplotlib_inline.backend_inline.set_matplotlib_formats(\"retina\")\n",
        "sns.set(rc={\"figure.dpi\":100, 'savefig.dpi':300})\n",
        "sns.set_context('notebook', font_scale = 0.8)\n",
        "sns.set_style('ticks')\n",
        "plt.rc('axes.spines', top=False, right=False, left=False, bottom=False)"
      ]
    },
    {
      "cell_type": "markdown",
      "metadata": {
        "id": "vHp63oGi99Ax"
      },
      "source": [
        "# 1. Read and Review Data\n",
        "\n",
        "This data has been cleaned in a previous EDA and preparation process."
      ]
    },
    {
      "cell_type": "code",
      "source": [
        "from google.colab import drive\n",
        "drive.mount('/content/drive')"
      ],
      "metadata": {
        "colab": {
          "base_uri": "https://localhost:8080/"
        },
        "id": "1cpYiOqEWTPj",
        "outputId": "a7abe28d-bde6-484f-f958-cb24ffde2c64"
      },
      "execution_count": 2,
      "outputs": [
        {
          "output_type": "stream",
          "name": "stdout",
          "text": [
            "Drive already mounted at /content/drive; to attempt to forcibly remount, call drive.mount(\"/content/drive\", force_remount=True).\n"
          ]
        }
      ]
    },
    {
      "cell_type": "code",
      "execution_count": 3,
      "metadata": {
        "colab": {
          "base_uri": "https://localhost:8080/",
          "height": 417
        },
        "id": "JGPNqlEh99Ay",
        "outputId": "9e6c693a-8f27-4ce0-9854-3bb07e784d17"
      },
      "outputs": [
        {
          "output_type": "execute_result",
          "data": {
            "text/plain": [
              "                    p1  ts2018-20  ts2015-17  ts2010-14  ts2009-bf\n",
              "Customer Id                                                       \n",
              "001E000000B7IbwIAF   0          2          5         22        155\n",
              "0014400001igKBlAAM   0          3          0         31        138\n",
              "001E000000B7UTkIAN   1          2         12         13        102\n",
              "001E000000B7R7cIAF   1          3         34         48         33\n",
              "001E000000B7Mw5IAF   0          0          0          5        105\n",
              "001E000000kT4zzIAC   1          9         48         27          0\n",
              "001E000000Djh3FIAR   1         23         29          8         13\n",
              "001E000000B7LLiIAN   0          5         43         35         22\n",
              "001E000000WpGMJIA3   1          5         35         38          4\n",
              "001E000001PkkhzIAB   1         18         40         25          9"
            ],
            "text/html": [
              "\n",
              "  <div id=\"df-41ad5ac4-f420-4a55-adc0-6b6ba1e4332d\">\n",
              "    <div class=\"colab-df-container\">\n",
              "      <div>\n",
              "<style scoped>\n",
              "    .dataframe tbody tr th:only-of-type {\n",
              "        vertical-align: middle;\n",
              "    }\n",
              "\n",
              "    .dataframe tbody tr th {\n",
              "        vertical-align: top;\n",
              "    }\n",
              "\n",
              "    .dataframe thead th {\n",
              "        text-align: right;\n",
              "    }\n",
              "</style>\n",
              "<table border=\"1\" class=\"dataframe\">\n",
              "  <thead>\n",
              "    <tr style=\"text-align: right;\">\n",
              "      <th></th>\n",
              "      <th>p1</th>\n",
              "      <th>ts2018-20</th>\n",
              "      <th>ts2015-17</th>\n",
              "      <th>ts2010-14</th>\n",
              "      <th>ts2009-bf</th>\n",
              "    </tr>\n",
              "    <tr>\n",
              "      <th>Customer Id</th>\n",
              "      <th></th>\n",
              "      <th></th>\n",
              "      <th></th>\n",
              "      <th></th>\n",
              "      <th></th>\n",
              "    </tr>\n",
              "  </thead>\n",
              "  <tbody>\n",
              "    <tr>\n",
              "      <th>001E000000B7IbwIAF</th>\n",
              "      <td>0</td>\n",
              "      <td>2</td>\n",
              "      <td>5</td>\n",
              "      <td>22</td>\n",
              "      <td>155</td>\n",
              "    </tr>\n",
              "    <tr>\n",
              "      <th>0014400001igKBlAAM</th>\n",
              "      <td>0</td>\n",
              "      <td>3</td>\n",
              "      <td>0</td>\n",
              "      <td>31</td>\n",
              "      <td>138</td>\n",
              "    </tr>\n",
              "    <tr>\n",
              "      <th>001E000000B7UTkIAN</th>\n",
              "      <td>1</td>\n",
              "      <td>2</td>\n",
              "      <td>12</td>\n",
              "      <td>13</td>\n",
              "      <td>102</td>\n",
              "    </tr>\n",
              "    <tr>\n",
              "      <th>001E000000B7R7cIAF</th>\n",
              "      <td>1</td>\n",
              "      <td>3</td>\n",
              "      <td>34</td>\n",
              "      <td>48</td>\n",
              "      <td>33</td>\n",
              "    </tr>\n",
              "    <tr>\n",
              "      <th>001E000000B7Mw5IAF</th>\n",
              "      <td>0</td>\n",
              "      <td>0</td>\n",
              "      <td>0</td>\n",
              "      <td>5</td>\n",
              "      <td>105</td>\n",
              "    </tr>\n",
              "    <tr>\n",
              "      <th>001E000000kT4zzIAC</th>\n",
              "      <td>1</td>\n",
              "      <td>9</td>\n",
              "      <td>48</td>\n",
              "      <td>27</td>\n",
              "      <td>0</td>\n",
              "    </tr>\n",
              "    <tr>\n",
              "      <th>001E000000Djh3FIAR</th>\n",
              "      <td>1</td>\n",
              "      <td>23</td>\n",
              "      <td>29</td>\n",
              "      <td>8</td>\n",
              "      <td>13</td>\n",
              "    </tr>\n",
              "    <tr>\n",
              "      <th>001E000000B7LLiIAN</th>\n",
              "      <td>0</td>\n",
              "      <td>5</td>\n",
              "      <td>43</td>\n",
              "      <td>35</td>\n",
              "      <td>22</td>\n",
              "    </tr>\n",
              "    <tr>\n",
              "      <th>001E000000WpGMJIA3</th>\n",
              "      <td>1</td>\n",
              "      <td>5</td>\n",
              "      <td>35</td>\n",
              "      <td>38</td>\n",
              "      <td>4</td>\n",
              "    </tr>\n",
              "    <tr>\n",
              "      <th>001E000001PkkhzIAB</th>\n",
              "      <td>1</td>\n",
              "      <td>18</td>\n",
              "      <td>40</td>\n",
              "      <td>25</td>\n",
              "      <td>9</td>\n",
              "    </tr>\n",
              "  </tbody>\n",
              "</table>\n",
              "</div>\n",
              "      <button class=\"colab-df-convert\" onclick=\"convertToInteractive('df-41ad5ac4-f420-4a55-adc0-6b6ba1e4332d')\"\n",
              "              title=\"Convert this dataframe to an interactive table.\"\n",
              "              style=\"display:none;\">\n",
              "        \n",
              "  <svg xmlns=\"http://www.w3.org/2000/svg\" height=\"24px\"viewBox=\"0 0 24 24\"\n",
              "       width=\"24px\">\n",
              "    <path d=\"M0 0h24v24H0V0z\" fill=\"none\"/>\n",
              "    <path d=\"M18.56 5.44l.94 2.06.94-2.06 2.06-.94-2.06-.94-.94-2.06-.94 2.06-2.06.94zm-11 1L8.5 8.5l.94-2.06 2.06-.94-2.06-.94L8.5 2.5l-.94 2.06-2.06.94zm10 10l.94 2.06.94-2.06 2.06-.94-2.06-.94-.94-2.06-.94 2.06-2.06.94z\"/><path d=\"M17.41 7.96l-1.37-1.37c-.4-.4-.92-.59-1.43-.59-.52 0-1.04.2-1.43.59L10.3 9.45l-7.72 7.72c-.78.78-.78 2.05 0 2.83L4 21.41c.39.39.9.59 1.41.59.51 0 1.02-.2 1.41-.59l7.78-7.78 2.81-2.81c.8-.78.8-2.07 0-2.86zM5.41 20L4 18.59l7.72-7.72 1.47 1.35L5.41 20z\"/>\n",
              "  </svg>\n",
              "      </button>\n",
              "      \n",
              "  <style>\n",
              "    .colab-df-container {\n",
              "      display:flex;\n",
              "      flex-wrap:wrap;\n",
              "      gap: 12px;\n",
              "    }\n",
              "\n",
              "    .colab-df-convert {\n",
              "      background-color: #E8F0FE;\n",
              "      border: none;\n",
              "      border-radius: 50%;\n",
              "      cursor: pointer;\n",
              "      display: none;\n",
              "      fill: #1967D2;\n",
              "      height: 32px;\n",
              "      padding: 0 0 0 0;\n",
              "      width: 32px;\n",
              "    }\n",
              "\n",
              "    .colab-df-convert:hover {\n",
              "      background-color: #E2EBFA;\n",
              "      box-shadow: 0px 1px 2px rgba(60, 64, 67, 0.3), 0px 1px 3px 1px rgba(60, 64, 67, 0.15);\n",
              "      fill: #174EA6;\n",
              "    }\n",
              "\n",
              "    [theme=dark] .colab-df-convert {\n",
              "      background-color: #3B4455;\n",
              "      fill: #D2E3FC;\n",
              "    }\n",
              "\n",
              "    [theme=dark] .colab-df-convert:hover {\n",
              "      background-color: #434B5C;\n",
              "      box-shadow: 0px 1px 3px 1px rgba(0, 0, 0, 0.15);\n",
              "      filter: drop-shadow(0px 1px 2px rgba(0, 0, 0, 0.3));\n",
              "      fill: #FFFFFF;\n",
              "    }\n",
              "  </style>\n",
              "\n",
              "      <script>\n",
              "        const buttonEl =\n",
              "          document.querySelector('#df-41ad5ac4-f420-4a55-adc0-6b6ba1e4332d button.colab-df-convert');\n",
              "        buttonEl.style.display =\n",
              "          google.colab.kernel.accessAllowed ? 'block' : 'none';\n",
              "\n",
              "        async function convertToInteractive(key) {\n",
              "          const element = document.querySelector('#df-41ad5ac4-f420-4a55-adc0-6b6ba1e4332d');\n",
              "          const dataTable =\n",
              "            await google.colab.kernel.invokeFunction('convertToInteractive',\n",
              "                                                     [key], {});\n",
              "          if (!dataTable) return;\n",
              "\n",
              "          const docLinkHtml = 'Like what you see? Visit the ' +\n",
              "            '<a target=\"_blank\" href=https://colab.research.google.com/notebooks/data_table.ipynb>data table notebook</a>'\n",
              "            + ' to learn more about interactive tables.';\n",
              "          element.innerHTML = '';\n",
              "          dataTable['output_type'] = 'display_data';\n",
              "          await google.colab.output.renderOutput(dataTable, element);\n",
              "          const docLink = document.createElement('div');\n",
              "          docLink.innerHTML = docLinkHtml;\n",
              "          element.appendChild(docLink);\n",
              "        }\n",
              "      </script>\n",
              "    </div>\n",
              "  </div>\n",
              "  "
            ]
          },
          "metadata": {},
          "execution_count": 3
        }
      ],
      "source": [
        "# Read cleaned version of the data\n",
        "df = pd.read_csv('/content/drive/MyDrive/Predictive Analytics/Customer Transactions - TA/Predictive Modeling/data/customer_tranactions_4periods.csv', index_col='Customer Id')\n",
        "df.head(10)"
      ]
    },
    {
      "cell_type": "code",
      "execution_count": 4,
      "metadata": {
        "colab": {
          "base_uri": "https://localhost:8080/"
        },
        "id": "mXAMcpCD99Az",
        "outputId": "c3dd4ebc-0d8c-45a9-edc0-d82b32f5d1c7",
        "scrolled": true
      },
      "outputs": [
        {
          "output_type": "stream",
          "name": "stdout",
          "text": [
            "<class 'pandas.core.frame.DataFrame'>\n",
            "Index: 28368 entries, 001E000000B7IbwIAF to 001E000001Z3rbvIAB\n",
            "Data columns (total 5 columns):\n",
            " #   Column     Non-Null Count  Dtype\n",
            "---  ------     --------------  -----\n",
            " 0   p1         28368 non-null  int64\n",
            " 1   ts2018-20  28368 non-null  int64\n",
            " 2   ts2015-17  28368 non-null  int64\n",
            " 3   ts2010-14  28368 non-null  int64\n",
            " 4   ts2009-bf  28368 non-null  int64\n",
            "dtypes: int64(5)\n",
            "memory usage: 1.3+ MB\n"
          ]
        }
      ],
      "source": [
        "# Dataframe fundamental info\n",
        "df.info()"
      ]
    },
    {
      "cell_type": "markdown",
      "metadata": {
        "id": "t5RA9tAdWQSo"
      },
      "source": [
        "## Check the distribution of target classes"
      ]
    },
    {
      "cell_type": "code",
      "execution_count": 5,
      "metadata": {
        "scrolled": true,
        "colab": {
          "base_uri": "https://localhost:8080/"
        },
        "id": "rX1lkLWDWQSo",
        "outputId": "3308a302-65c9-4e6a-c2cf-551fec5ee198"
      },
      "outputs": [
        {
          "output_type": "execute_result",
          "data": {
            "text/plain": [
              "0    23843\n",
              "1     4525\n",
              "Name: p1, dtype: int64"
            ]
          },
          "metadata": {},
          "execution_count": 5
        }
      ],
      "source": [
        "df['p1'].value_counts()"
      ]
    },
    {
      "cell_type": "code",
      "execution_count": 6,
      "metadata": {
        "colab": {
          "base_uri": "https://localhost:8080/"
        },
        "id": "Ei66ACEXWQSp",
        "outputId": "ac6c42ff-1290-492f-f573-f8661766379e"
      },
      "outputs": [
        {
          "output_type": "execute_result",
          "data": {
            "text/plain": [
              "0    84.048928\n",
              "1    15.951072\n",
              "Name: p1, dtype: float64"
            ]
          },
          "metadata": {},
          "execution_count": 6
        }
      ],
      "source": [
        "df['p1'].value_counts(normalize=True) * 100"
      ]
    },
    {
      "cell_type": "markdown",
      "metadata": {
        "id": "3tdQC6hiWQSp"
      },
      "source": [
        "**Our target classes are quite imbalanced.**\n",
        "\n",
        "The minority class (1) is the value that most interests us.\n",
        "\n",
        "Thus our models will likely benefit from weighting the minority class to balance the model training process.\n",
        "\n",
        "These algorithms have a `class_weight` parameter that we can use:\n",
        "- Logistic Regression\n",
        "- Decision Tree\n",
        "- Random Forest"
      ]
    },
    {
      "cell_type": "markdown",
      "metadata": {
        "id": "MVnwjqzO99Az"
      },
      "source": [
        "# 2. Prepare Data Splits"
      ]
    },
    {
      "cell_type": "code",
      "execution_count": 7,
      "metadata": {
        "id": "W9jCChYi99A0"
      },
      "outputs": [],
      "source": [
        "# features — all columns except target variable\n",
        "features = df.drop('p1', axis=1)\n",
        "\n",
        "# labels — only the target variable column\n",
        "labels = df['p1']"
      ]
    },
    {
      "cell_type": "code",
      "execution_count": 8,
      "metadata": {
        "colab": {
          "base_uri": "https://localhost:8080/",
          "height": 260
        },
        "id": "LKOWnm2CWQSq",
        "outputId": "ed57727c-0847-4712-fe3f-7946236bebc8"
      },
      "outputs": [
        {
          "output_type": "execute_result",
          "data": {
            "text/plain": [
              "                    ts2018-20  ts2015-17  ts2010-14  ts2009-bf\n",
              "Customer Id                                                   \n",
              "001E000000B7IbwIAF          2          5         22        155\n",
              "0014400001igKBlAAM          3          0         31        138\n",
              "001E000000B7UTkIAN          2         12         13        102\n",
              "001E000000B7R7cIAF          3         34         48         33\n",
              "001E000000B7Mw5IAF          0          0          5        105"
            ],
            "text/html": [
              "\n",
              "  <div id=\"df-812371ad-3c40-448c-9a0f-4921e4ac1e7b\">\n",
              "    <div class=\"colab-df-container\">\n",
              "      <div>\n",
              "<style scoped>\n",
              "    .dataframe tbody tr th:only-of-type {\n",
              "        vertical-align: middle;\n",
              "    }\n",
              "\n",
              "    .dataframe tbody tr th {\n",
              "        vertical-align: top;\n",
              "    }\n",
              "\n",
              "    .dataframe thead th {\n",
              "        text-align: right;\n",
              "    }\n",
              "</style>\n",
              "<table border=\"1\" class=\"dataframe\">\n",
              "  <thead>\n",
              "    <tr style=\"text-align: right;\">\n",
              "      <th></th>\n",
              "      <th>ts2018-20</th>\n",
              "      <th>ts2015-17</th>\n",
              "      <th>ts2010-14</th>\n",
              "      <th>ts2009-bf</th>\n",
              "    </tr>\n",
              "    <tr>\n",
              "      <th>Customer Id</th>\n",
              "      <th></th>\n",
              "      <th></th>\n",
              "      <th></th>\n",
              "      <th></th>\n",
              "    </tr>\n",
              "  </thead>\n",
              "  <tbody>\n",
              "    <tr>\n",
              "      <th>001E000000B7IbwIAF</th>\n",
              "      <td>2</td>\n",
              "      <td>5</td>\n",
              "      <td>22</td>\n",
              "      <td>155</td>\n",
              "    </tr>\n",
              "    <tr>\n",
              "      <th>0014400001igKBlAAM</th>\n",
              "      <td>3</td>\n",
              "      <td>0</td>\n",
              "      <td>31</td>\n",
              "      <td>138</td>\n",
              "    </tr>\n",
              "    <tr>\n",
              "      <th>001E000000B7UTkIAN</th>\n",
              "      <td>2</td>\n",
              "      <td>12</td>\n",
              "      <td>13</td>\n",
              "      <td>102</td>\n",
              "    </tr>\n",
              "    <tr>\n",
              "      <th>001E000000B7R7cIAF</th>\n",
              "      <td>3</td>\n",
              "      <td>34</td>\n",
              "      <td>48</td>\n",
              "      <td>33</td>\n",
              "    </tr>\n",
              "    <tr>\n",
              "      <th>001E000000B7Mw5IAF</th>\n",
              "      <td>0</td>\n",
              "      <td>0</td>\n",
              "      <td>5</td>\n",
              "      <td>105</td>\n",
              "    </tr>\n",
              "  </tbody>\n",
              "</table>\n",
              "</div>\n",
              "      <button class=\"colab-df-convert\" onclick=\"convertToInteractive('df-812371ad-3c40-448c-9a0f-4921e4ac1e7b')\"\n",
              "              title=\"Convert this dataframe to an interactive table.\"\n",
              "              style=\"display:none;\">\n",
              "        \n",
              "  <svg xmlns=\"http://www.w3.org/2000/svg\" height=\"24px\"viewBox=\"0 0 24 24\"\n",
              "       width=\"24px\">\n",
              "    <path d=\"M0 0h24v24H0V0z\" fill=\"none\"/>\n",
              "    <path d=\"M18.56 5.44l.94 2.06.94-2.06 2.06-.94-2.06-.94-.94-2.06-.94 2.06-2.06.94zm-11 1L8.5 8.5l.94-2.06 2.06-.94-2.06-.94L8.5 2.5l-.94 2.06-2.06.94zm10 10l.94 2.06.94-2.06 2.06-.94-2.06-.94-.94-2.06-.94 2.06-2.06.94z\"/><path d=\"M17.41 7.96l-1.37-1.37c-.4-.4-.92-.59-1.43-.59-.52 0-1.04.2-1.43.59L10.3 9.45l-7.72 7.72c-.78.78-.78 2.05 0 2.83L4 21.41c.39.39.9.59 1.41.59.51 0 1.02-.2 1.41-.59l7.78-7.78 2.81-2.81c.8-.78.8-2.07 0-2.86zM5.41 20L4 18.59l7.72-7.72 1.47 1.35L5.41 20z\"/>\n",
              "  </svg>\n",
              "      </button>\n",
              "      \n",
              "  <style>\n",
              "    .colab-df-container {\n",
              "      display:flex;\n",
              "      flex-wrap:wrap;\n",
              "      gap: 12px;\n",
              "    }\n",
              "\n",
              "    .colab-df-convert {\n",
              "      background-color: #E8F0FE;\n",
              "      border: none;\n",
              "      border-radius: 50%;\n",
              "      cursor: pointer;\n",
              "      display: none;\n",
              "      fill: #1967D2;\n",
              "      height: 32px;\n",
              "      padding: 0 0 0 0;\n",
              "      width: 32px;\n",
              "    }\n",
              "\n",
              "    .colab-df-convert:hover {\n",
              "      background-color: #E2EBFA;\n",
              "      box-shadow: 0px 1px 2px rgba(60, 64, 67, 0.3), 0px 1px 3px 1px rgba(60, 64, 67, 0.15);\n",
              "      fill: #174EA6;\n",
              "    }\n",
              "\n",
              "    [theme=dark] .colab-df-convert {\n",
              "      background-color: #3B4455;\n",
              "      fill: #D2E3FC;\n",
              "    }\n",
              "\n",
              "    [theme=dark] .colab-df-convert:hover {\n",
              "      background-color: #434B5C;\n",
              "      box-shadow: 0px 1px 3px 1px rgba(0, 0, 0, 0.15);\n",
              "      filter: drop-shadow(0px 1px 2px rgba(0, 0, 0, 0.3));\n",
              "      fill: #FFFFFF;\n",
              "    }\n",
              "  </style>\n",
              "\n",
              "      <script>\n",
              "        const buttonEl =\n",
              "          document.querySelector('#df-812371ad-3c40-448c-9a0f-4921e4ac1e7b button.colab-df-convert');\n",
              "        buttonEl.style.display =\n",
              "          google.colab.kernel.accessAllowed ? 'block' : 'none';\n",
              "\n",
              "        async function convertToInteractive(key) {\n",
              "          const element = document.querySelector('#df-812371ad-3c40-448c-9a0f-4921e4ac1e7b');\n",
              "          const dataTable =\n",
              "            await google.colab.kernel.invokeFunction('convertToInteractive',\n",
              "                                                     [key], {});\n",
              "          if (!dataTable) return;\n",
              "\n",
              "          const docLinkHtml = 'Like what you see? Visit the ' +\n",
              "            '<a target=\"_blank\" href=https://colab.research.google.com/notebooks/data_table.ipynb>data table notebook</a>'\n",
              "            + ' to learn more about interactive tables.';\n",
              "          element.innerHTML = '';\n",
              "          dataTable['output_type'] = 'display_data';\n",
              "          await google.colab.output.renderOutput(dataTable, element);\n",
              "          const docLink = document.createElement('div');\n",
              "          docLink.innerHTML = docLinkHtml;\n",
              "          element.appendChild(docLink);\n",
              "        }\n",
              "      </script>\n",
              "    </div>\n",
              "  </div>\n",
              "  "
            ]
          },
          "metadata": {},
          "execution_count": 8
        }
      ],
      "source": [
        "features.head()"
      ]
    },
    {
      "cell_type": "code",
      "execution_count": 9,
      "metadata": {
        "colab": {
          "base_uri": "https://localhost:8080/"
        },
        "id": "fPQdxpJiWQSr",
        "outputId": "e180c836-3210-4231-cd58-8b0262bad4ec"
      },
      "outputs": [
        {
          "output_type": "execute_result",
          "data": {
            "text/plain": [
              "Customer Id\n",
              "001E000000B7IbwIAF    0\n",
              "0014400001igKBlAAM    0\n",
              "001E000000B7UTkIAN    1\n",
              "001E000000B7R7cIAF    1\n",
              "001E000000B7Mw5IAF    0\n",
              "Name: p1, dtype: int64"
            ]
          },
          "metadata": {},
          "execution_count": 9
        }
      ],
      "source": [
        "labels.head()"
      ]
    },
    {
      "cell_type": "code",
      "execution_count": 10,
      "metadata": {
        "colab": {
          "base_uri": "https://localhost:8080/"
        },
        "id": "YZLNvI0Go3RQ",
        "outputId": "9eb9fc7c-d188-4764-fc6a-34421cd7118a"
      },
      "outputs": [
        {
          "output_type": "stream",
          "name": "stdout",
          "text": [
            "Train Split: 22694 Records, 22694 Labels = 80.0%\n",
            "Test Split: 5674 Records, 5674 Labels = 20.0%\n"
          ]
        }
      ],
      "source": [
        "# Create Train and Test Splits\n",
        "X_train, X_test, y_train, y_test = train_test_split(features, labels, test_size=0.2, random_state=42)\n",
        "\n",
        "# Report Number and Proportion of Train and Test Features and Labels\n",
        "print(f'Train Split: {X_train.shape[0]} Records, {len(y_train)} Labels = {round(len(y_train)/len(labels), 4) * 100}%')\n",
        "print(f'Test Split: {X_test.shape[0]} Records, {len(y_test)} Labels = {round(len(y_test)/len(labels), 4) * 100}%')"
      ]
    },
    {
      "cell_type": "code",
      "execution_count": 11,
      "metadata": {
        "colab": {
          "base_uri": "https://localhost:8080/",
          "height": 260
        },
        "id": "vn3mH1nhWQSs",
        "outputId": "eb1739d1-a867-41fc-d1d5-e1dee261c613"
      },
      "outputs": [
        {
          "output_type": "execute_result",
          "data": {
            "text/plain": [
              "                    ts2018-20  ts2015-17  ts2010-14  ts2009-bf\n",
              "Customer Id                                                   \n",
              "001E000000B7RbGIAV          0          0          0          1\n",
              "0012S00002IadTSQAZ          1          0          0          0\n",
              "001E000000B7QynIAF          1          0          0          1\n",
              "001E000001PlZVvIAN          0          2          0          0\n",
              "001E000000B7KmuIAF          0          0          1          2"
            ],
            "text/html": [
              "\n",
              "  <div id=\"df-7a4457e6-c24f-433a-951f-640296581d83\">\n",
              "    <div class=\"colab-df-container\">\n",
              "      <div>\n",
              "<style scoped>\n",
              "    .dataframe tbody tr th:only-of-type {\n",
              "        vertical-align: middle;\n",
              "    }\n",
              "\n",
              "    .dataframe tbody tr th {\n",
              "        vertical-align: top;\n",
              "    }\n",
              "\n",
              "    .dataframe thead th {\n",
              "        text-align: right;\n",
              "    }\n",
              "</style>\n",
              "<table border=\"1\" class=\"dataframe\">\n",
              "  <thead>\n",
              "    <tr style=\"text-align: right;\">\n",
              "      <th></th>\n",
              "      <th>ts2018-20</th>\n",
              "      <th>ts2015-17</th>\n",
              "      <th>ts2010-14</th>\n",
              "      <th>ts2009-bf</th>\n",
              "    </tr>\n",
              "    <tr>\n",
              "      <th>Customer Id</th>\n",
              "      <th></th>\n",
              "      <th></th>\n",
              "      <th></th>\n",
              "      <th></th>\n",
              "    </tr>\n",
              "  </thead>\n",
              "  <tbody>\n",
              "    <tr>\n",
              "      <th>001E000000B7RbGIAV</th>\n",
              "      <td>0</td>\n",
              "      <td>0</td>\n",
              "      <td>0</td>\n",
              "      <td>1</td>\n",
              "    </tr>\n",
              "    <tr>\n",
              "      <th>0012S00002IadTSQAZ</th>\n",
              "      <td>1</td>\n",
              "      <td>0</td>\n",
              "      <td>0</td>\n",
              "      <td>0</td>\n",
              "    </tr>\n",
              "    <tr>\n",
              "      <th>001E000000B7QynIAF</th>\n",
              "      <td>1</td>\n",
              "      <td>0</td>\n",
              "      <td>0</td>\n",
              "      <td>1</td>\n",
              "    </tr>\n",
              "    <tr>\n",
              "      <th>001E000001PlZVvIAN</th>\n",
              "      <td>0</td>\n",
              "      <td>2</td>\n",
              "      <td>0</td>\n",
              "      <td>0</td>\n",
              "    </tr>\n",
              "    <tr>\n",
              "      <th>001E000000B7KmuIAF</th>\n",
              "      <td>0</td>\n",
              "      <td>0</td>\n",
              "      <td>1</td>\n",
              "      <td>2</td>\n",
              "    </tr>\n",
              "  </tbody>\n",
              "</table>\n",
              "</div>\n",
              "      <button class=\"colab-df-convert\" onclick=\"convertToInteractive('df-7a4457e6-c24f-433a-951f-640296581d83')\"\n",
              "              title=\"Convert this dataframe to an interactive table.\"\n",
              "              style=\"display:none;\">\n",
              "        \n",
              "  <svg xmlns=\"http://www.w3.org/2000/svg\" height=\"24px\"viewBox=\"0 0 24 24\"\n",
              "       width=\"24px\">\n",
              "    <path d=\"M0 0h24v24H0V0z\" fill=\"none\"/>\n",
              "    <path d=\"M18.56 5.44l.94 2.06.94-2.06 2.06-.94-2.06-.94-.94-2.06-.94 2.06-2.06.94zm-11 1L8.5 8.5l.94-2.06 2.06-.94-2.06-.94L8.5 2.5l-.94 2.06-2.06.94zm10 10l.94 2.06.94-2.06 2.06-.94-2.06-.94-.94-2.06-.94 2.06-2.06.94z\"/><path d=\"M17.41 7.96l-1.37-1.37c-.4-.4-.92-.59-1.43-.59-.52 0-1.04.2-1.43.59L10.3 9.45l-7.72 7.72c-.78.78-.78 2.05 0 2.83L4 21.41c.39.39.9.59 1.41.59.51 0 1.02-.2 1.41-.59l7.78-7.78 2.81-2.81c.8-.78.8-2.07 0-2.86zM5.41 20L4 18.59l7.72-7.72 1.47 1.35L5.41 20z\"/>\n",
              "  </svg>\n",
              "      </button>\n",
              "      \n",
              "  <style>\n",
              "    .colab-df-container {\n",
              "      display:flex;\n",
              "      flex-wrap:wrap;\n",
              "      gap: 12px;\n",
              "    }\n",
              "\n",
              "    .colab-df-convert {\n",
              "      background-color: #E8F0FE;\n",
              "      border: none;\n",
              "      border-radius: 50%;\n",
              "      cursor: pointer;\n",
              "      display: none;\n",
              "      fill: #1967D2;\n",
              "      height: 32px;\n",
              "      padding: 0 0 0 0;\n",
              "      width: 32px;\n",
              "    }\n",
              "\n",
              "    .colab-df-convert:hover {\n",
              "      background-color: #E2EBFA;\n",
              "      box-shadow: 0px 1px 2px rgba(60, 64, 67, 0.3), 0px 1px 3px 1px rgba(60, 64, 67, 0.15);\n",
              "      fill: #174EA6;\n",
              "    }\n",
              "\n",
              "    [theme=dark] .colab-df-convert {\n",
              "      background-color: #3B4455;\n",
              "      fill: #D2E3FC;\n",
              "    }\n",
              "\n",
              "    [theme=dark] .colab-df-convert:hover {\n",
              "      background-color: #434B5C;\n",
              "      box-shadow: 0px 1px 3px 1px rgba(0, 0, 0, 0.15);\n",
              "      filter: drop-shadow(0px 1px 2px rgba(0, 0, 0, 0.3));\n",
              "      fill: #FFFFFF;\n",
              "    }\n",
              "  </style>\n",
              "\n",
              "      <script>\n",
              "        const buttonEl =\n",
              "          document.querySelector('#df-7a4457e6-c24f-433a-951f-640296581d83 button.colab-df-convert');\n",
              "        buttonEl.style.display =\n",
              "          google.colab.kernel.accessAllowed ? 'block' : 'none';\n",
              "\n",
              "        async function convertToInteractive(key) {\n",
              "          const element = document.querySelector('#df-7a4457e6-c24f-433a-951f-640296581d83');\n",
              "          const dataTable =\n",
              "            await google.colab.kernel.invokeFunction('convertToInteractive',\n",
              "                                                     [key], {});\n",
              "          if (!dataTable) return;\n",
              "\n",
              "          const docLinkHtml = 'Like what you see? Visit the ' +\n",
              "            '<a target=\"_blank\" href=https://colab.research.google.com/notebooks/data_table.ipynb>data table notebook</a>'\n",
              "            + ' to learn more about interactive tables.';\n",
              "          element.innerHTML = '';\n",
              "          dataTable['output_type'] = 'display_data';\n",
              "          await google.colab.output.renderOutput(dataTable, element);\n",
              "          const docLink = document.createElement('div');\n",
              "          docLink.innerHTML = docLinkHtml;\n",
              "          element.appendChild(docLink);\n",
              "        }\n",
              "      </script>\n",
              "    </div>\n",
              "  </div>\n",
              "  "
            ]
          },
          "metadata": {},
          "execution_count": 11
        }
      ],
      "source": [
        "X_train.head()"
      ]
    },
    {
      "cell_type": "code",
      "execution_count": 12,
      "metadata": {
        "colab": {
          "base_uri": "https://localhost:8080/",
          "height": 260
        },
        "id": "u7GQ4hA7WQSs",
        "outputId": "2e873a6a-d017-4469-f34f-48ed4028783b"
      },
      "outputs": [
        {
          "output_type": "execute_result",
          "data": {
            "text/plain": [
              "                    ts2018-20  ts2015-17  ts2010-14  ts2009-bf\n",
              "Customer Id                                                   \n",
              "001E000000B7IeXIAV          0          0          1          0\n",
              "001E000000B7M3FIAV          1          0          0          0\n",
              "001E000000B7OxgIAF          0          0          2          1\n",
              "001E000000B7Ml2IAF          0          1          0          0\n",
              "001E000000B8xSQIAZ          1          0          1          0"
            ],
            "text/html": [
              "\n",
              "  <div id=\"df-5ab255f6-ac29-4338-8783-cab0039094cd\">\n",
              "    <div class=\"colab-df-container\">\n",
              "      <div>\n",
              "<style scoped>\n",
              "    .dataframe tbody tr th:only-of-type {\n",
              "        vertical-align: middle;\n",
              "    }\n",
              "\n",
              "    .dataframe tbody tr th {\n",
              "        vertical-align: top;\n",
              "    }\n",
              "\n",
              "    .dataframe thead th {\n",
              "        text-align: right;\n",
              "    }\n",
              "</style>\n",
              "<table border=\"1\" class=\"dataframe\">\n",
              "  <thead>\n",
              "    <tr style=\"text-align: right;\">\n",
              "      <th></th>\n",
              "      <th>ts2018-20</th>\n",
              "      <th>ts2015-17</th>\n",
              "      <th>ts2010-14</th>\n",
              "      <th>ts2009-bf</th>\n",
              "    </tr>\n",
              "    <tr>\n",
              "      <th>Customer Id</th>\n",
              "      <th></th>\n",
              "      <th></th>\n",
              "      <th></th>\n",
              "      <th></th>\n",
              "    </tr>\n",
              "  </thead>\n",
              "  <tbody>\n",
              "    <tr>\n",
              "      <th>001E000000B7IeXIAV</th>\n",
              "      <td>0</td>\n",
              "      <td>0</td>\n",
              "      <td>1</td>\n",
              "      <td>0</td>\n",
              "    </tr>\n",
              "    <tr>\n",
              "      <th>001E000000B7M3FIAV</th>\n",
              "      <td>1</td>\n",
              "      <td>0</td>\n",
              "      <td>0</td>\n",
              "      <td>0</td>\n",
              "    </tr>\n",
              "    <tr>\n",
              "      <th>001E000000B7OxgIAF</th>\n",
              "      <td>0</td>\n",
              "      <td>0</td>\n",
              "      <td>2</td>\n",
              "      <td>1</td>\n",
              "    </tr>\n",
              "    <tr>\n",
              "      <th>001E000000B7Ml2IAF</th>\n",
              "      <td>0</td>\n",
              "      <td>1</td>\n",
              "      <td>0</td>\n",
              "      <td>0</td>\n",
              "    </tr>\n",
              "    <tr>\n",
              "      <th>001E000000B8xSQIAZ</th>\n",
              "      <td>1</td>\n",
              "      <td>0</td>\n",
              "      <td>1</td>\n",
              "      <td>0</td>\n",
              "    </tr>\n",
              "  </tbody>\n",
              "</table>\n",
              "</div>\n",
              "      <button class=\"colab-df-convert\" onclick=\"convertToInteractive('df-5ab255f6-ac29-4338-8783-cab0039094cd')\"\n",
              "              title=\"Convert this dataframe to an interactive table.\"\n",
              "              style=\"display:none;\">\n",
              "        \n",
              "  <svg xmlns=\"http://www.w3.org/2000/svg\" height=\"24px\"viewBox=\"0 0 24 24\"\n",
              "       width=\"24px\">\n",
              "    <path d=\"M0 0h24v24H0V0z\" fill=\"none\"/>\n",
              "    <path d=\"M18.56 5.44l.94 2.06.94-2.06 2.06-.94-2.06-.94-.94-2.06-.94 2.06-2.06.94zm-11 1L8.5 8.5l.94-2.06 2.06-.94-2.06-.94L8.5 2.5l-.94 2.06-2.06.94zm10 10l.94 2.06.94-2.06 2.06-.94-2.06-.94-.94-2.06-.94 2.06-2.06.94z\"/><path d=\"M17.41 7.96l-1.37-1.37c-.4-.4-.92-.59-1.43-.59-.52 0-1.04.2-1.43.59L10.3 9.45l-7.72 7.72c-.78.78-.78 2.05 0 2.83L4 21.41c.39.39.9.59 1.41.59.51 0 1.02-.2 1.41-.59l7.78-7.78 2.81-2.81c.8-.78.8-2.07 0-2.86zM5.41 20L4 18.59l7.72-7.72 1.47 1.35L5.41 20z\"/>\n",
              "  </svg>\n",
              "      </button>\n",
              "      \n",
              "  <style>\n",
              "    .colab-df-container {\n",
              "      display:flex;\n",
              "      flex-wrap:wrap;\n",
              "      gap: 12px;\n",
              "    }\n",
              "\n",
              "    .colab-df-convert {\n",
              "      background-color: #E8F0FE;\n",
              "      border: none;\n",
              "      border-radius: 50%;\n",
              "      cursor: pointer;\n",
              "      display: none;\n",
              "      fill: #1967D2;\n",
              "      height: 32px;\n",
              "      padding: 0 0 0 0;\n",
              "      width: 32px;\n",
              "    }\n",
              "\n",
              "    .colab-df-convert:hover {\n",
              "      background-color: #E2EBFA;\n",
              "      box-shadow: 0px 1px 2px rgba(60, 64, 67, 0.3), 0px 1px 3px 1px rgba(60, 64, 67, 0.15);\n",
              "      fill: #174EA6;\n",
              "    }\n",
              "\n",
              "    [theme=dark] .colab-df-convert {\n",
              "      background-color: #3B4455;\n",
              "      fill: #D2E3FC;\n",
              "    }\n",
              "\n",
              "    [theme=dark] .colab-df-convert:hover {\n",
              "      background-color: #434B5C;\n",
              "      box-shadow: 0px 1px 3px 1px rgba(0, 0, 0, 0.15);\n",
              "      filter: drop-shadow(0px 1px 2px rgba(0, 0, 0, 0.3));\n",
              "      fill: #FFFFFF;\n",
              "    }\n",
              "  </style>\n",
              "\n",
              "      <script>\n",
              "        const buttonEl =\n",
              "          document.querySelector('#df-5ab255f6-ac29-4338-8783-cab0039094cd button.colab-df-convert');\n",
              "        buttonEl.style.display =\n",
              "          google.colab.kernel.accessAllowed ? 'block' : 'none';\n",
              "\n",
              "        async function convertToInteractive(key) {\n",
              "          const element = document.querySelector('#df-5ab255f6-ac29-4338-8783-cab0039094cd');\n",
              "          const dataTable =\n",
              "            await google.colab.kernel.invokeFunction('convertToInteractive',\n",
              "                                                     [key], {});\n",
              "          if (!dataTable) return;\n",
              "\n",
              "          const docLinkHtml = 'Like what you see? Visit the ' +\n",
              "            '<a target=\"_blank\" href=https://colab.research.google.com/notebooks/data_table.ipynb>data table notebook</a>'\n",
              "            + ' to learn more about interactive tables.';\n",
              "          element.innerHTML = '';\n",
              "          dataTable['output_type'] = 'display_data';\n",
              "          await google.colab.output.renderOutput(dataTable, element);\n",
              "          const docLink = document.createElement('div');\n",
              "          docLink.innerHTML = docLinkHtml;\n",
              "          element.appendChild(docLink);\n",
              "        }\n",
              "      </script>\n",
              "    </div>\n",
              "  </div>\n",
              "  "
            ]
          },
          "metadata": {},
          "execution_count": 12
        }
      ],
      "source": [
        "X_test.head()"
      ]
    },
    {
      "cell_type": "markdown",
      "metadata": {
        "id": "BXIxVJZBN8PD"
      },
      "source": [
        "# 3. Train Models and Tune Hyperparameters\n",
        "\n",
        "- Train models and using cross-validation with GridSearchCV.\n",
        "- Prioritize Recall score."
      ]
    },
    {
      "cell_type": "markdown",
      "metadata": {
        "id": "KStJ6xbVWQSt"
      },
      "source": [
        "### Set Folds, Priority Score, and Random Seed"
      ]
    },
    {
      "cell_type": "code",
      "execution_count": 13,
      "metadata": {
        "id": "e6FP8Se7WQSu"
      },
      "outputs": [],
      "source": [
        "# Specify number of folds for cross-validation\n",
        "k = 5\n",
        "\n",
        "# Specify default priority score: accuracy, precision, recall, f1, or roc_auc\n",
        "priority_score = 'roc_auc'\n",
        "\n",
        "# Specify random seed value to ensure results are reproducible\n",
        "seed = 42"
      ]
    },
    {
      "cell_type": "markdown",
      "metadata": {
        "id": "C-IviultWQSu"
      },
      "source": [
        "### Define Function for Executing and Reporting Cross-Validation"
      ]
    },
    {
      "cell_type": "code",
      "execution_count": 14,
      "metadata": {
        "id": "cBZ1g4gBWQSu"
      },
      "outputs": [],
      "source": [
        "# Define an empty list to hold our best models\n",
        "models_tuned = []\n",
        "\n",
        "# Scorers we desire during training from GridSearchCV\n",
        "# zero_division=1 eliminates unnecessary UndefinedMetricWarning see https://scikit-learn.org/stable/modules/generated/sklearn.metrics.precision_score.html\n",
        "scoring = {\n",
        "            'roc_auc': make_scorer(roc_auc_score, greater_is_better=True, needs_threshold=False),\n",
        "            'recall': make_scorer(recall_score),\n",
        "            'precision': make_scorer(precision_score, zero_division=1),\n",
        "            'accuracy': make_scorer(accuracy_score)\n",
        "            # , 'f1': make_scorer(f1_score, zero_division=1)\n",
        "          }\n",
        "\n",
        "# Metrics that we desire for report of GridSearchCV results\n",
        "metrics = ['params',\n",
        "           'mean_test_roc_auc',\n",
        "           'mean_test_recall',\n",
        "           'mean_test_precision',\n",
        "           'mean_test_accuracy'\n",
        "           #, 'mean_test_f1'\n",
        "          ]\n",
        "\n",
        "\n",
        "# Define function for cross-validation, reporting, and storing top model to models list\n",
        "def crossval_func(name, algorithm, hparam_grid, priority_score, k):\n",
        "    cv = GridSearchCV(\n",
        "                estimator = algorithm,\n",
        "                param_grid = hparam_grid, \n",
        "                scoring = scoring,\n",
        "                refit = priority_score, \n",
        "                cv = k,\n",
        "                verbose=1\n",
        "             )\n",
        "\n",
        "    # Keep track of training time\n",
        "    start = time()\n",
        "\n",
        "    # Activate gridsearch\n",
        "    cv.fit(X_train, y_train)\n",
        "\n",
        "    end = time()\n",
        "    latency = round((end-start), 2)\n",
        "\n",
        "    # Store top model to models list\n",
        "    model = cv.best_estimator_\n",
        "    hparams = cv.best_params_\n",
        "    score = round(cv.best_score_ * 100, 3)\n",
        "    models_tuned.append({'Name': name, 'Hparams': hparams, 'Model': model, 'Priority': priority_score, 'Score': score})\n",
        "    \n",
        "    # Create dataframe from gridsearch cv_results_\n",
        "    cv_results = pd.DataFrame.from_dict(cv.cv_results_)\n",
        "\n",
        "    # Specify desired data from our results dataframe\n",
        "    # cv_results_metrics = cv_results.loc[:, metrics]\n",
        "    cv_results_metrics = cv_results[metrics].copy()\n",
        "\n",
        "    #  Sort values and reset index\n",
        "    sortby = 'mean_test_' + priority_score\n",
        "    cv_results_metrics.sort_values(sortby, ascending=False, inplace=True)\n",
        "\n",
        "    # Set new index starting at 1 for sorted dataframe\n",
        "    cv_results_metrics.index = range(1, cv_results_metrics.shape[0] + 1)\n",
        "\n",
        "    # Report results\n",
        "    print(f'Training Time: {latency}s')\n",
        "    \n",
        "    \n",
        "    print(f'\\n{name} CROSS-VALIDATION RESULTS')\n",
        "    howmany = 1\n",
        "    print(f'Tuned for {sortby} in cross-validation:')\n",
        "    display(cv_results_metrics.head(howmany))  \n",
        "    print('Topmost model added to list of models for testing:')\n",
        "    print(f'\\t{cv.best_estimator_}\\n')"
      ]
    },
    {
      "cell_type": "markdown",
      "metadata": {
        "id": "uACdAzdeWQSv"
      },
      "source": [
        "## Logistic Regression"
      ]
    },
    {
      "cell_type": "code",
      "execution_count": 15,
      "metadata": {
        "colab": {
          "base_uri": "https://localhost:8080/",
          "height": 260
        },
        "id": "dOSLmdl9WQSw",
        "outputId": "9ad460eb-9918-483b-b257-1161a95b735e"
      },
      "outputs": [
        {
          "output_type": "stream",
          "name": "stdout",
          "text": [
            "Fitting 5 folds for each of 6 candidates, totalling 30 fits\n",
            "Training Time: 6.16s\n",
            "\n",
            "Logistic Regression CROSS-VALIDATION RESULTS\n",
            "Tuned for mean_test_roc_auc in cross-validation:\n"
          ]
        },
        {
          "output_type": "display_data",
          "data": {
            "text/plain": [
              "     params  mean_test_roc_auc  mean_test_recall  mean_test_precision  \\\n",
              "1  {'C': 1}           0.513022          0.028878             0.657442   \n",
              "\n",
              "   mean_test_accuracy  \n",
              "1            0.842029  "
            ],
            "text/html": [
              "\n",
              "  <div id=\"df-d328e60c-9b76-432a-9b1c-7f755662fb99\">\n",
              "    <div class=\"colab-df-container\">\n",
              "      <div>\n",
              "<style scoped>\n",
              "    .dataframe tbody tr th:only-of-type {\n",
              "        vertical-align: middle;\n",
              "    }\n",
              "\n",
              "    .dataframe tbody tr th {\n",
              "        vertical-align: top;\n",
              "    }\n",
              "\n",
              "    .dataframe thead th {\n",
              "        text-align: right;\n",
              "    }\n",
              "</style>\n",
              "<table border=\"1\" class=\"dataframe\">\n",
              "  <thead>\n",
              "    <tr style=\"text-align: right;\">\n",
              "      <th></th>\n",
              "      <th>params</th>\n",
              "      <th>mean_test_roc_auc</th>\n",
              "      <th>mean_test_recall</th>\n",
              "      <th>mean_test_precision</th>\n",
              "      <th>mean_test_accuracy</th>\n",
              "    </tr>\n",
              "  </thead>\n",
              "  <tbody>\n",
              "    <tr>\n",
              "      <th>1</th>\n",
              "      <td>{'C': 1}</td>\n",
              "      <td>0.513022</td>\n",
              "      <td>0.028878</td>\n",
              "      <td>0.657442</td>\n",
              "      <td>0.842029</td>\n",
              "    </tr>\n",
              "  </tbody>\n",
              "</table>\n",
              "</div>\n",
              "      <button class=\"colab-df-convert\" onclick=\"convertToInteractive('df-d328e60c-9b76-432a-9b1c-7f755662fb99')\"\n",
              "              title=\"Convert this dataframe to an interactive table.\"\n",
              "              style=\"display:none;\">\n",
              "        \n",
              "  <svg xmlns=\"http://www.w3.org/2000/svg\" height=\"24px\"viewBox=\"0 0 24 24\"\n",
              "       width=\"24px\">\n",
              "    <path d=\"M0 0h24v24H0V0z\" fill=\"none\"/>\n",
              "    <path d=\"M18.56 5.44l.94 2.06.94-2.06 2.06-.94-2.06-.94-.94-2.06-.94 2.06-2.06.94zm-11 1L8.5 8.5l.94-2.06 2.06-.94-2.06-.94L8.5 2.5l-.94 2.06-2.06.94zm10 10l.94 2.06.94-2.06 2.06-.94-2.06-.94-.94-2.06-.94 2.06-2.06.94z\"/><path d=\"M17.41 7.96l-1.37-1.37c-.4-.4-.92-.59-1.43-.59-.52 0-1.04.2-1.43.59L10.3 9.45l-7.72 7.72c-.78.78-.78 2.05 0 2.83L4 21.41c.39.39.9.59 1.41.59.51 0 1.02-.2 1.41-.59l7.78-7.78 2.81-2.81c.8-.78.8-2.07 0-2.86zM5.41 20L4 18.59l7.72-7.72 1.47 1.35L5.41 20z\"/>\n",
              "  </svg>\n",
              "      </button>\n",
              "      \n",
              "  <style>\n",
              "    .colab-df-container {\n",
              "      display:flex;\n",
              "      flex-wrap:wrap;\n",
              "      gap: 12px;\n",
              "    }\n",
              "\n",
              "    .colab-df-convert {\n",
              "      background-color: #E8F0FE;\n",
              "      border: none;\n",
              "      border-radius: 50%;\n",
              "      cursor: pointer;\n",
              "      display: none;\n",
              "      fill: #1967D2;\n",
              "      height: 32px;\n",
              "      padding: 0 0 0 0;\n",
              "      width: 32px;\n",
              "    }\n",
              "\n",
              "    .colab-df-convert:hover {\n",
              "      background-color: #E2EBFA;\n",
              "      box-shadow: 0px 1px 2px rgba(60, 64, 67, 0.3), 0px 1px 3px 1px rgba(60, 64, 67, 0.15);\n",
              "      fill: #174EA6;\n",
              "    }\n",
              "\n",
              "    [theme=dark] .colab-df-convert {\n",
              "      background-color: #3B4455;\n",
              "      fill: #D2E3FC;\n",
              "    }\n",
              "\n",
              "    [theme=dark] .colab-df-convert:hover {\n",
              "      background-color: #434B5C;\n",
              "      box-shadow: 0px 1px 3px 1px rgba(0, 0, 0, 0.15);\n",
              "      filter: drop-shadow(0px 1px 2px rgba(0, 0, 0, 0.3));\n",
              "      fill: #FFFFFF;\n",
              "    }\n",
              "  </style>\n",
              "\n",
              "      <script>\n",
              "        const buttonEl =\n",
              "          document.querySelector('#df-d328e60c-9b76-432a-9b1c-7f755662fb99 button.colab-df-convert');\n",
              "        buttonEl.style.display =\n",
              "          google.colab.kernel.accessAllowed ? 'block' : 'none';\n",
              "\n",
              "        async function convertToInteractive(key) {\n",
              "          const element = document.querySelector('#df-d328e60c-9b76-432a-9b1c-7f755662fb99');\n",
              "          const dataTable =\n",
              "            await google.colab.kernel.invokeFunction('convertToInteractive',\n",
              "                                                     [key], {});\n",
              "          if (!dataTable) return;\n",
              "\n",
              "          const docLinkHtml = 'Like what you see? Visit the ' +\n",
              "            '<a target=\"_blank\" href=https://colab.research.google.com/notebooks/data_table.ipynb>data table notebook</a>'\n",
              "            + ' to learn more about interactive tables.';\n",
              "          element.innerHTML = '';\n",
              "          dataTable['output_type'] = 'display_data';\n",
              "          await google.colab.output.renderOutput(dataTable, element);\n",
              "          const docLink = document.createElement('div');\n",
              "          docLink.innerHTML = docLinkHtml;\n",
              "          element.appendChild(docLink);\n",
              "        }\n",
              "      </script>\n",
              "    </div>\n",
              "  </div>\n",
              "  "
            ]
          },
          "metadata": {}
        },
        {
          "output_type": "stream",
          "name": "stdout",
          "text": [
            "Topmost model added to list of models for testing:\n",
            "\tLogisticRegression(C=1, fit_intercept=False, max_iter=500, n_jobs=-1,\n",
            "                   random_state=42)\n",
            "\n"
          ]
        }
      ],
      "source": [
        "# Specify Algorithm shortname\n",
        "name = 'Logistic Regression'\n",
        "\n",
        "# Specify algorithm with desired default hyperparameters\n",
        "algorithm = LogisticRegression(random_state=seed, fit_intercept=False, max_iter=500, n_jobs=-1)\n",
        "\n",
        "# Hyperparameter options for GridSearch to test and identify best hyperparameters combination\n",
        "hparam_grid = {\n",
        "    'C': [.001, .01, 1, 10, 100, 1000]\n",
        "}\n",
        "\n",
        "# Execute cross validation, report results, and store top model to models list\n",
        "crossval_func(name, algorithm, hparam_grid, priority_score, k)"
      ]
    },
    {
      "cell_type": "markdown",
      "metadata": {
        "id": "17eqgUKZidqq"
      },
      "source": [
        "## Logistic Regression Balanced"
      ]
    },
    {
      "cell_type": "code",
      "execution_count": 16,
      "metadata": {
        "colab": {
          "base_uri": "https://localhost:8080/",
          "height": 260
        },
        "id": "2HBjMcoqi1_U",
        "outputId": "ef01a983-fb26-4cef-8e68-550cd0882e5a"
      },
      "outputs": [
        {
          "output_type": "stream",
          "name": "stdout",
          "text": [
            "Fitting 5 folds for each of 6 candidates, totalling 30 fits\n",
            "Training Time: 4.22s\n",
            "\n",
            "Logistic Regression Balanced CROSS-VALIDATION RESULTS\n",
            "Tuned for mean_test_roc_auc in cross-validation:\n"
          ]
        },
        {
          "output_type": "display_data",
          "data": {
            "text/plain": [
              "     params  mean_test_roc_auc  mean_test_recall  mean_test_precision  \\\n",
              "1  {'C': 1}           0.402495          0.315175             0.106511   \n",
              "\n",
              "   mean_test_accuracy  \n",
              "1            0.461839  "
            ],
            "text/html": [
              "\n",
              "  <div id=\"df-0d58d917-9736-41d8-ac31-d40c04560cdd\">\n",
              "    <div class=\"colab-df-container\">\n",
              "      <div>\n",
              "<style scoped>\n",
              "    .dataframe tbody tr th:only-of-type {\n",
              "        vertical-align: middle;\n",
              "    }\n",
              "\n",
              "    .dataframe tbody tr th {\n",
              "        vertical-align: top;\n",
              "    }\n",
              "\n",
              "    .dataframe thead th {\n",
              "        text-align: right;\n",
              "    }\n",
              "</style>\n",
              "<table border=\"1\" class=\"dataframe\">\n",
              "  <thead>\n",
              "    <tr style=\"text-align: right;\">\n",
              "      <th></th>\n",
              "      <th>params</th>\n",
              "      <th>mean_test_roc_auc</th>\n",
              "      <th>mean_test_recall</th>\n",
              "      <th>mean_test_precision</th>\n",
              "      <th>mean_test_accuracy</th>\n",
              "    </tr>\n",
              "  </thead>\n",
              "  <tbody>\n",
              "    <tr>\n",
              "      <th>1</th>\n",
              "      <td>{'C': 1}</td>\n",
              "      <td>0.402495</td>\n",
              "      <td>0.315175</td>\n",
              "      <td>0.106511</td>\n",
              "      <td>0.461839</td>\n",
              "    </tr>\n",
              "  </tbody>\n",
              "</table>\n",
              "</div>\n",
              "      <button class=\"colab-df-convert\" onclick=\"convertToInteractive('df-0d58d917-9736-41d8-ac31-d40c04560cdd')\"\n",
              "              title=\"Convert this dataframe to an interactive table.\"\n",
              "              style=\"display:none;\">\n",
              "        \n",
              "  <svg xmlns=\"http://www.w3.org/2000/svg\" height=\"24px\"viewBox=\"0 0 24 24\"\n",
              "       width=\"24px\">\n",
              "    <path d=\"M0 0h24v24H0V0z\" fill=\"none\"/>\n",
              "    <path d=\"M18.56 5.44l.94 2.06.94-2.06 2.06-.94-2.06-.94-.94-2.06-.94 2.06-2.06.94zm-11 1L8.5 8.5l.94-2.06 2.06-.94-2.06-.94L8.5 2.5l-.94 2.06-2.06.94zm10 10l.94 2.06.94-2.06 2.06-.94-2.06-.94-.94-2.06-.94 2.06-2.06.94z\"/><path d=\"M17.41 7.96l-1.37-1.37c-.4-.4-.92-.59-1.43-.59-.52 0-1.04.2-1.43.59L10.3 9.45l-7.72 7.72c-.78.78-.78 2.05 0 2.83L4 21.41c.39.39.9.59 1.41.59.51 0 1.02-.2 1.41-.59l7.78-7.78 2.81-2.81c.8-.78.8-2.07 0-2.86zM5.41 20L4 18.59l7.72-7.72 1.47 1.35L5.41 20z\"/>\n",
              "  </svg>\n",
              "      </button>\n",
              "      \n",
              "  <style>\n",
              "    .colab-df-container {\n",
              "      display:flex;\n",
              "      flex-wrap:wrap;\n",
              "      gap: 12px;\n",
              "    }\n",
              "\n",
              "    .colab-df-convert {\n",
              "      background-color: #E8F0FE;\n",
              "      border: none;\n",
              "      border-radius: 50%;\n",
              "      cursor: pointer;\n",
              "      display: none;\n",
              "      fill: #1967D2;\n",
              "      height: 32px;\n",
              "      padding: 0 0 0 0;\n",
              "      width: 32px;\n",
              "    }\n",
              "\n",
              "    .colab-df-convert:hover {\n",
              "      background-color: #E2EBFA;\n",
              "      box-shadow: 0px 1px 2px rgba(60, 64, 67, 0.3), 0px 1px 3px 1px rgba(60, 64, 67, 0.15);\n",
              "      fill: #174EA6;\n",
              "    }\n",
              "\n",
              "    [theme=dark] .colab-df-convert {\n",
              "      background-color: #3B4455;\n",
              "      fill: #D2E3FC;\n",
              "    }\n",
              "\n",
              "    [theme=dark] .colab-df-convert:hover {\n",
              "      background-color: #434B5C;\n",
              "      box-shadow: 0px 1px 3px 1px rgba(0, 0, 0, 0.15);\n",
              "      filter: drop-shadow(0px 1px 2px rgba(0, 0, 0, 0.3));\n",
              "      fill: #FFFFFF;\n",
              "    }\n",
              "  </style>\n",
              "\n",
              "      <script>\n",
              "        const buttonEl =\n",
              "          document.querySelector('#df-0d58d917-9736-41d8-ac31-d40c04560cdd button.colab-df-convert');\n",
              "        buttonEl.style.display =\n",
              "          google.colab.kernel.accessAllowed ? 'block' : 'none';\n",
              "\n",
              "        async function convertToInteractive(key) {\n",
              "          const element = document.querySelector('#df-0d58d917-9736-41d8-ac31-d40c04560cdd');\n",
              "          const dataTable =\n",
              "            await google.colab.kernel.invokeFunction('convertToInteractive',\n",
              "                                                     [key], {});\n",
              "          if (!dataTable) return;\n",
              "\n",
              "          const docLinkHtml = 'Like what you see? Visit the ' +\n",
              "            '<a target=\"_blank\" href=https://colab.research.google.com/notebooks/data_table.ipynb>data table notebook</a>'\n",
              "            + ' to learn more about interactive tables.';\n",
              "          element.innerHTML = '';\n",
              "          dataTable['output_type'] = 'display_data';\n",
              "          await google.colab.output.renderOutput(dataTable, element);\n",
              "          const docLink = document.createElement('div');\n",
              "          docLink.innerHTML = docLinkHtml;\n",
              "          element.appendChild(docLink);\n",
              "        }\n",
              "      </script>\n",
              "    </div>\n",
              "  </div>\n",
              "  "
            ]
          },
          "metadata": {}
        },
        {
          "output_type": "stream",
          "name": "stdout",
          "text": [
            "Topmost model added to list of models for testing:\n",
            "\tLogisticRegression(C=1, class_weight='balanced', fit_intercept=False,\n",
            "                   max_iter=500, n_jobs=-1, random_state=42)\n",
            "\n"
          ]
        }
      ],
      "source": [
        "# Specify Algorithm shortname\n",
        "name = 'Logistic Regression Balanced'\n",
        "\n",
        "# Specify algorithm with desired default parameters\n",
        "algorithm = LogisticRegression(class_weight='balanced', random_state=seed, fit_intercept=False, max_iter=500, n_jobs=-1)\n",
        "\n",
        "# Hyperparameter options for GridSearch to test and identify best hyperparameters combination\n",
        "hparam_grid = {\n",
        "    'C': [.001, .01, 1, 10, 100, 1000]\n",
        "}\n",
        "\n",
        "# Execute cross validation, report results, and store top model to models list\n",
        "crossval_func(name, algorithm, hparam_grid, priority_score, k)"
      ]
    },
    {
      "cell_type": "markdown",
      "metadata": {
        "id": "eyAjhs8yN8PF"
      },
      "source": [
        "## Decision Tree Classifier"
      ]
    },
    {
      "cell_type": "code",
      "execution_count": 17,
      "metadata": {
        "colab": {
          "base_uri": "https://localhost:8080/",
          "height": 260
        },
        "id": "B4u-3fTYN8PG",
        "outputId": "f469bae0-6339-4bcd-e551-490f7b0a5ee9",
        "scrolled": false
      },
      "outputs": [
        {
          "output_type": "stream",
          "name": "stdout",
          "text": [
            "Fitting 5 folds for each of 54 candidates, totalling 270 fits\n",
            "Training Time: 13.66s\n",
            "\n",
            "Decision Tree CROSS-VALIDATION RESULTS\n",
            "Tuned for mean_test_roc_auc in cross-validation:\n"
          ]
        },
        {
          "output_type": "display_data",
          "data": {
            "text/plain": [
              "                                              params  mean_test_roc_auc  \\\n",
              "1  {'criterion': 'entropy', 'max_depth': 5, 'min_...           0.772019   \n",
              "\n",
              "   mean_test_recall  mean_test_precision  mean_test_accuracy  \n",
              "1          0.550334             0.943489            0.922667  "
            ],
            "text/html": [
              "\n",
              "  <div id=\"df-f0994f1c-3916-44d2-9090-e920e5900b7b\">\n",
              "    <div class=\"colab-df-container\">\n",
              "      <div>\n",
              "<style scoped>\n",
              "    .dataframe tbody tr th:only-of-type {\n",
              "        vertical-align: middle;\n",
              "    }\n",
              "\n",
              "    .dataframe tbody tr th {\n",
              "        vertical-align: top;\n",
              "    }\n",
              "\n",
              "    .dataframe thead th {\n",
              "        text-align: right;\n",
              "    }\n",
              "</style>\n",
              "<table border=\"1\" class=\"dataframe\">\n",
              "  <thead>\n",
              "    <tr style=\"text-align: right;\">\n",
              "      <th></th>\n",
              "      <th>params</th>\n",
              "      <th>mean_test_roc_auc</th>\n",
              "      <th>mean_test_recall</th>\n",
              "      <th>mean_test_precision</th>\n",
              "      <th>mean_test_accuracy</th>\n",
              "    </tr>\n",
              "  </thead>\n",
              "  <tbody>\n",
              "    <tr>\n",
              "      <th>1</th>\n",
              "      <td>{'criterion': 'entropy', 'max_depth': 5, 'min_...</td>\n",
              "      <td>0.772019</td>\n",
              "      <td>0.550334</td>\n",
              "      <td>0.943489</td>\n",
              "      <td>0.922667</td>\n",
              "    </tr>\n",
              "  </tbody>\n",
              "</table>\n",
              "</div>\n",
              "      <button class=\"colab-df-convert\" onclick=\"convertToInteractive('df-f0994f1c-3916-44d2-9090-e920e5900b7b')\"\n",
              "              title=\"Convert this dataframe to an interactive table.\"\n",
              "              style=\"display:none;\">\n",
              "        \n",
              "  <svg xmlns=\"http://www.w3.org/2000/svg\" height=\"24px\"viewBox=\"0 0 24 24\"\n",
              "       width=\"24px\">\n",
              "    <path d=\"M0 0h24v24H0V0z\" fill=\"none\"/>\n",
              "    <path d=\"M18.56 5.44l.94 2.06.94-2.06 2.06-.94-2.06-.94-.94-2.06-.94 2.06-2.06.94zm-11 1L8.5 8.5l.94-2.06 2.06-.94-2.06-.94L8.5 2.5l-.94 2.06-2.06.94zm10 10l.94 2.06.94-2.06 2.06-.94-2.06-.94-.94-2.06-.94 2.06-2.06.94z\"/><path d=\"M17.41 7.96l-1.37-1.37c-.4-.4-.92-.59-1.43-.59-.52 0-1.04.2-1.43.59L10.3 9.45l-7.72 7.72c-.78.78-.78 2.05 0 2.83L4 21.41c.39.39.9.59 1.41.59.51 0 1.02-.2 1.41-.59l7.78-7.78 2.81-2.81c.8-.78.8-2.07 0-2.86zM5.41 20L4 18.59l7.72-7.72 1.47 1.35L5.41 20z\"/>\n",
              "  </svg>\n",
              "      </button>\n",
              "      \n",
              "  <style>\n",
              "    .colab-df-container {\n",
              "      display:flex;\n",
              "      flex-wrap:wrap;\n",
              "      gap: 12px;\n",
              "    }\n",
              "\n",
              "    .colab-df-convert {\n",
              "      background-color: #E8F0FE;\n",
              "      border: none;\n",
              "      border-radius: 50%;\n",
              "      cursor: pointer;\n",
              "      display: none;\n",
              "      fill: #1967D2;\n",
              "      height: 32px;\n",
              "      padding: 0 0 0 0;\n",
              "      width: 32px;\n",
              "    }\n",
              "\n",
              "    .colab-df-convert:hover {\n",
              "      background-color: #E2EBFA;\n",
              "      box-shadow: 0px 1px 2px rgba(60, 64, 67, 0.3), 0px 1px 3px 1px rgba(60, 64, 67, 0.15);\n",
              "      fill: #174EA6;\n",
              "    }\n",
              "\n",
              "    [theme=dark] .colab-df-convert {\n",
              "      background-color: #3B4455;\n",
              "      fill: #D2E3FC;\n",
              "    }\n",
              "\n",
              "    [theme=dark] .colab-df-convert:hover {\n",
              "      background-color: #434B5C;\n",
              "      box-shadow: 0px 1px 3px 1px rgba(0, 0, 0, 0.15);\n",
              "      filter: drop-shadow(0px 1px 2px rgba(0, 0, 0, 0.3));\n",
              "      fill: #FFFFFF;\n",
              "    }\n",
              "  </style>\n",
              "\n",
              "      <script>\n",
              "        const buttonEl =\n",
              "          document.querySelector('#df-f0994f1c-3916-44d2-9090-e920e5900b7b button.colab-df-convert');\n",
              "        buttonEl.style.display =\n",
              "          google.colab.kernel.accessAllowed ? 'block' : 'none';\n",
              "\n",
              "        async function convertToInteractive(key) {\n",
              "          const element = document.querySelector('#df-f0994f1c-3916-44d2-9090-e920e5900b7b');\n",
              "          const dataTable =\n",
              "            await google.colab.kernel.invokeFunction('convertToInteractive',\n",
              "                                                     [key], {});\n",
              "          if (!dataTable) return;\n",
              "\n",
              "          const docLinkHtml = 'Like what you see? Visit the ' +\n",
              "            '<a target=\"_blank\" href=https://colab.research.google.com/notebooks/data_table.ipynb>data table notebook</a>'\n",
              "            + ' to learn more about interactive tables.';\n",
              "          element.innerHTML = '';\n",
              "          dataTable['output_type'] = 'display_data';\n",
              "          await google.colab.output.renderOutput(dataTable, element);\n",
              "          const docLink = document.createElement('div');\n",
              "          docLink.innerHTML = docLinkHtml;\n",
              "          element.appendChild(docLink);\n",
              "        }\n",
              "      </script>\n",
              "    </div>\n",
              "  </div>\n",
              "  "
            ]
          },
          "metadata": {}
        },
        {
          "output_type": "stream",
          "name": "stdout",
          "text": [
            "Topmost model added to list of models for testing:\n",
            "\tDecisionTreeClassifier(criterion='entropy', max_depth=5, min_samples_leaf=2,\n",
            "                       random_state=42)\n",
            "\n"
          ]
        }
      ],
      "source": [
        "# Specify Algorithm shortname\n",
        "name = 'Decision Tree'\n",
        "\n",
        "# Specify algorithm with desired default parameters\n",
        "algorithm = DecisionTreeClassifier(random_state=seed)\n",
        "\n",
        "# Hyperparameter options for GridSearch to test \n",
        "# and identify best hyperparameters combination\n",
        "hparam_grid = {\n",
        "    'criterion': ['gini', 'entropy'],\n",
        "    'max_depth': [2,5,10],\n",
        "    'min_samples_split': [2,5,10],\n",
        "    'min_samples_leaf': [2,3,5]\n",
        "}\n",
        "\n",
        "# Execute cross validation, report results, and store top model to models list\n",
        "crossval_func(name, algorithm, hparam_grid, priority_score, k)"
      ]
    },
    {
      "cell_type": "markdown",
      "metadata": {
        "id": "8pEd0_aFjWxd"
      },
      "source": [
        "## Decision Tree Balanced"
      ]
    },
    {
      "cell_type": "code",
      "execution_count": 18,
      "metadata": {
        "colab": {
          "base_uri": "https://localhost:8080/",
          "height": 260
        },
        "id": "o1VNt-14jVNn",
        "outputId": "e453ced4-589c-4339-9249-34afc93b647d"
      },
      "outputs": [
        {
          "output_type": "stream",
          "name": "stdout",
          "text": [
            "Fitting 5 folds for each of 54 candidates, totalling 270 fits\n",
            "Training Time: 11.45s\n",
            "\n",
            "Decision Tree Balanced CROSS-VALIDATION RESULTS\n",
            "Tuned for mean_test_roc_auc in cross-validation:\n"
          ]
        },
        {
          "output_type": "display_data",
          "data": {
            "text/plain": [
              "                                              params  mean_test_roc_auc  \\\n",
              "1  {'criterion': 'gini', 'max_depth': 5, 'min_sam...           0.788207   \n",
              "\n",
              "   mean_test_recall  mean_test_precision  mean_test_accuracy  \n",
              "1          0.658427             0.607471            0.876399  "
            ],
            "text/html": [
              "\n",
              "  <div id=\"df-31975f20-6cea-46c2-a885-6ef1d26c7568\">\n",
              "    <div class=\"colab-df-container\">\n",
              "      <div>\n",
              "<style scoped>\n",
              "    .dataframe tbody tr th:only-of-type {\n",
              "        vertical-align: middle;\n",
              "    }\n",
              "\n",
              "    .dataframe tbody tr th {\n",
              "        vertical-align: top;\n",
              "    }\n",
              "\n",
              "    .dataframe thead th {\n",
              "        text-align: right;\n",
              "    }\n",
              "</style>\n",
              "<table border=\"1\" class=\"dataframe\">\n",
              "  <thead>\n",
              "    <tr style=\"text-align: right;\">\n",
              "      <th></th>\n",
              "      <th>params</th>\n",
              "      <th>mean_test_roc_auc</th>\n",
              "      <th>mean_test_recall</th>\n",
              "      <th>mean_test_precision</th>\n",
              "      <th>mean_test_accuracy</th>\n",
              "    </tr>\n",
              "  </thead>\n",
              "  <tbody>\n",
              "    <tr>\n",
              "      <th>1</th>\n",
              "      <td>{'criterion': 'gini', 'max_depth': 5, 'min_sam...</td>\n",
              "      <td>0.788207</td>\n",
              "      <td>0.658427</td>\n",
              "      <td>0.607471</td>\n",
              "      <td>0.876399</td>\n",
              "    </tr>\n",
              "  </tbody>\n",
              "</table>\n",
              "</div>\n",
              "      <button class=\"colab-df-convert\" onclick=\"convertToInteractive('df-31975f20-6cea-46c2-a885-6ef1d26c7568')\"\n",
              "              title=\"Convert this dataframe to an interactive table.\"\n",
              "              style=\"display:none;\">\n",
              "        \n",
              "  <svg xmlns=\"http://www.w3.org/2000/svg\" height=\"24px\"viewBox=\"0 0 24 24\"\n",
              "       width=\"24px\">\n",
              "    <path d=\"M0 0h24v24H0V0z\" fill=\"none\"/>\n",
              "    <path d=\"M18.56 5.44l.94 2.06.94-2.06 2.06-.94-2.06-.94-.94-2.06-.94 2.06-2.06.94zm-11 1L8.5 8.5l.94-2.06 2.06-.94-2.06-.94L8.5 2.5l-.94 2.06-2.06.94zm10 10l.94 2.06.94-2.06 2.06-.94-2.06-.94-.94-2.06-.94 2.06-2.06.94z\"/><path d=\"M17.41 7.96l-1.37-1.37c-.4-.4-.92-.59-1.43-.59-.52 0-1.04.2-1.43.59L10.3 9.45l-7.72 7.72c-.78.78-.78 2.05 0 2.83L4 21.41c.39.39.9.59 1.41.59.51 0 1.02-.2 1.41-.59l7.78-7.78 2.81-2.81c.8-.78.8-2.07 0-2.86zM5.41 20L4 18.59l7.72-7.72 1.47 1.35L5.41 20z\"/>\n",
              "  </svg>\n",
              "      </button>\n",
              "      \n",
              "  <style>\n",
              "    .colab-df-container {\n",
              "      display:flex;\n",
              "      flex-wrap:wrap;\n",
              "      gap: 12px;\n",
              "    }\n",
              "\n",
              "    .colab-df-convert {\n",
              "      background-color: #E8F0FE;\n",
              "      border: none;\n",
              "      border-radius: 50%;\n",
              "      cursor: pointer;\n",
              "      display: none;\n",
              "      fill: #1967D2;\n",
              "      height: 32px;\n",
              "      padding: 0 0 0 0;\n",
              "      width: 32px;\n",
              "    }\n",
              "\n",
              "    .colab-df-convert:hover {\n",
              "      background-color: #E2EBFA;\n",
              "      box-shadow: 0px 1px 2px rgba(60, 64, 67, 0.3), 0px 1px 3px 1px rgba(60, 64, 67, 0.15);\n",
              "      fill: #174EA6;\n",
              "    }\n",
              "\n",
              "    [theme=dark] .colab-df-convert {\n",
              "      background-color: #3B4455;\n",
              "      fill: #D2E3FC;\n",
              "    }\n",
              "\n",
              "    [theme=dark] .colab-df-convert:hover {\n",
              "      background-color: #434B5C;\n",
              "      box-shadow: 0px 1px 3px 1px rgba(0, 0, 0, 0.15);\n",
              "      filter: drop-shadow(0px 1px 2px rgba(0, 0, 0, 0.3));\n",
              "      fill: #FFFFFF;\n",
              "    }\n",
              "  </style>\n",
              "\n",
              "      <script>\n",
              "        const buttonEl =\n",
              "          document.querySelector('#df-31975f20-6cea-46c2-a885-6ef1d26c7568 button.colab-df-convert');\n",
              "        buttonEl.style.display =\n",
              "          google.colab.kernel.accessAllowed ? 'block' : 'none';\n",
              "\n",
              "        async function convertToInteractive(key) {\n",
              "          const element = document.querySelector('#df-31975f20-6cea-46c2-a885-6ef1d26c7568');\n",
              "          const dataTable =\n",
              "            await google.colab.kernel.invokeFunction('convertToInteractive',\n",
              "                                                     [key], {});\n",
              "          if (!dataTable) return;\n",
              "\n",
              "          const docLinkHtml = 'Like what you see? Visit the ' +\n",
              "            '<a target=\"_blank\" href=https://colab.research.google.com/notebooks/data_table.ipynb>data table notebook</a>'\n",
              "            + ' to learn more about interactive tables.';\n",
              "          element.innerHTML = '';\n",
              "          dataTable['output_type'] = 'display_data';\n",
              "          await google.colab.output.renderOutput(dataTable, element);\n",
              "          const docLink = document.createElement('div');\n",
              "          docLink.innerHTML = docLinkHtml;\n",
              "          element.appendChild(docLink);\n",
              "        }\n",
              "      </script>\n",
              "    </div>\n",
              "  </div>\n",
              "  "
            ]
          },
          "metadata": {}
        },
        {
          "output_type": "stream",
          "name": "stdout",
          "text": [
            "Topmost model added to list of models for testing:\n",
            "\tDecisionTreeClassifier(class_weight='balanced', max_depth=5, min_samples_leaf=5,\n",
            "                       random_state=42)\n",
            "\n"
          ]
        }
      ],
      "source": [
        "# Specify Algorithm shortname\n",
        "name = 'Decision Tree Balanced'\n",
        "\n",
        "# Specify algorithm with desired default parameters\n",
        "algorithm = DecisionTreeClassifier(class_weight='balanced', random_state=seed)\n",
        "\n",
        "# Hyperparameter options for GridSearch to test and identify best hyperparameters combination\n",
        "hparam_grid = {\n",
        "    'criterion': ['gini', 'entropy'],\n",
        "    'max_depth': [2,5,10],\n",
        "    'min_samples_split': [2,5,10],\n",
        "    'min_samples_leaf': [2,3,5]\n",
        "}\n",
        "\n",
        "# Execute cross validation, report results, and store top model to models list\n",
        "crossval_func(name, algorithm, hparam_grid, priority_score, k)"
      ]
    },
    {
      "cell_type": "markdown",
      "metadata": {
        "id": "zpC6zL6jN8PG"
      },
      "source": [
        "## Random Forest Classifier"
      ]
    },
    {
      "cell_type": "code",
      "execution_count": 19,
      "metadata": {
        "colab": {
          "base_uri": "https://localhost:8080/",
          "height": 242
        },
        "id": "kek8BuRYN8PG",
        "outputId": "8c7cc202-dd1f-481d-b5c0-27ddc8dbbd73"
      },
      "outputs": [
        {
          "output_type": "stream",
          "name": "stdout",
          "text": [
            "Fitting 5 folds for each of 18 candidates, totalling 90 fits\n",
            "Training Time: 56.08s\n",
            "\n",
            "Random Forest CROSS-VALIDATION RESULTS\n",
            "Tuned for mean_test_roc_auc in cross-validation:\n"
          ]
        },
        {
          "output_type": "display_data",
          "data": {
            "text/plain": [
              "                                 params  mean_test_roc_auc  mean_test_recall  \\\n",
              "1  {'max_depth': 32, 'n_estimators': 5}           0.771624          0.552536   \n",
              "\n",
              "   mean_test_precision  mean_test_accuracy  \n",
              "1             0.919383            0.920508  "
            ],
            "text/html": [
              "\n",
              "  <div id=\"df-460d2c57-525d-42f3-b8a8-01d1f8478563\">\n",
              "    <div class=\"colab-df-container\">\n",
              "      <div>\n",
              "<style scoped>\n",
              "    .dataframe tbody tr th:only-of-type {\n",
              "        vertical-align: middle;\n",
              "    }\n",
              "\n",
              "    .dataframe tbody tr th {\n",
              "        vertical-align: top;\n",
              "    }\n",
              "\n",
              "    .dataframe thead th {\n",
              "        text-align: right;\n",
              "    }\n",
              "</style>\n",
              "<table border=\"1\" class=\"dataframe\">\n",
              "  <thead>\n",
              "    <tr style=\"text-align: right;\">\n",
              "      <th></th>\n",
              "      <th>params</th>\n",
              "      <th>mean_test_roc_auc</th>\n",
              "      <th>mean_test_recall</th>\n",
              "      <th>mean_test_precision</th>\n",
              "      <th>mean_test_accuracy</th>\n",
              "    </tr>\n",
              "  </thead>\n",
              "  <tbody>\n",
              "    <tr>\n",
              "      <th>1</th>\n",
              "      <td>{'max_depth': 32, 'n_estimators': 5}</td>\n",
              "      <td>0.771624</td>\n",
              "      <td>0.552536</td>\n",
              "      <td>0.919383</td>\n",
              "      <td>0.920508</td>\n",
              "    </tr>\n",
              "  </tbody>\n",
              "</table>\n",
              "</div>\n",
              "      <button class=\"colab-df-convert\" onclick=\"convertToInteractive('df-460d2c57-525d-42f3-b8a8-01d1f8478563')\"\n",
              "              title=\"Convert this dataframe to an interactive table.\"\n",
              "              style=\"display:none;\">\n",
              "        \n",
              "  <svg xmlns=\"http://www.w3.org/2000/svg\" height=\"24px\"viewBox=\"0 0 24 24\"\n",
              "       width=\"24px\">\n",
              "    <path d=\"M0 0h24v24H0V0z\" fill=\"none\"/>\n",
              "    <path d=\"M18.56 5.44l.94 2.06.94-2.06 2.06-.94-2.06-.94-.94-2.06-.94 2.06-2.06.94zm-11 1L8.5 8.5l.94-2.06 2.06-.94-2.06-.94L8.5 2.5l-.94 2.06-2.06.94zm10 10l.94 2.06.94-2.06 2.06-.94-2.06-.94-.94-2.06-.94 2.06-2.06.94z\"/><path d=\"M17.41 7.96l-1.37-1.37c-.4-.4-.92-.59-1.43-.59-.52 0-1.04.2-1.43.59L10.3 9.45l-7.72 7.72c-.78.78-.78 2.05 0 2.83L4 21.41c.39.39.9.59 1.41.59.51 0 1.02-.2 1.41-.59l7.78-7.78 2.81-2.81c.8-.78.8-2.07 0-2.86zM5.41 20L4 18.59l7.72-7.72 1.47 1.35L5.41 20z\"/>\n",
              "  </svg>\n",
              "      </button>\n",
              "      \n",
              "  <style>\n",
              "    .colab-df-container {\n",
              "      display:flex;\n",
              "      flex-wrap:wrap;\n",
              "      gap: 12px;\n",
              "    }\n",
              "\n",
              "    .colab-df-convert {\n",
              "      background-color: #E8F0FE;\n",
              "      border: none;\n",
              "      border-radius: 50%;\n",
              "      cursor: pointer;\n",
              "      display: none;\n",
              "      fill: #1967D2;\n",
              "      height: 32px;\n",
              "      padding: 0 0 0 0;\n",
              "      width: 32px;\n",
              "    }\n",
              "\n",
              "    .colab-df-convert:hover {\n",
              "      background-color: #E2EBFA;\n",
              "      box-shadow: 0px 1px 2px rgba(60, 64, 67, 0.3), 0px 1px 3px 1px rgba(60, 64, 67, 0.15);\n",
              "      fill: #174EA6;\n",
              "    }\n",
              "\n",
              "    [theme=dark] .colab-df-convert {\n",
              "      background-color: #3B4455;\n",
              "      fill: #D2E3FC;\n",
              "    }\n",
              "\n",
              "    [theme=dark] .colab-df-convert:hover {\n",
              "      background-color: #434B5C;\n",
              "      box-shadow: 0px 1px 3px 1px rgba(0, 0, 0, 0.15);\n",
              "      filter: drop-shadow(0px 1px 2px rgba(0, 0, 0, 0.3));\n",
              "      fill: #FFFFFF;\n",
              "    }\n",
              "  </style>\n",
              "\n",
              "      <script>\n",
              "        const buttonEl =\n",
              "          document.querySelector('#df-460d2c57-525d-42f3-b8a8-01d1f8478563 button.colab-df-convert');\n",
              "        buttonEl.style.display =\n",
              "          google.colab.kernel.accessAllowed ? 'block' : 'none';\n",
              "\n",
              "        async function convertToInteractive(key) {\n",
              "          const element = document.querySelector('#df-460d2c57-525d-42f3-b8a8-01d1f8478563');\n",
              "          const dataTable =\n",
              "            await google.colab.kernel.invokeFunction('convertToInteractive',\n",
              "                                                     [key], {});\n",
              "          if (!dataTable) return;\n",
              "\n",
              "          const docLinkHtml = 'Like what you see? Visit the ' +\n",
              "            '<a target=\"_blank\" href=https://colab.research.google.com/notebooks/data_table.ipynb>data table notebook</a>'\n",
              "            + ' to learn more about interactive tables.';\n",
              "          element.innerHTML = '';\n",
              "          dataTable['output_type'] = 'display_data';\n",
              "          await google.colab.output.renderOutput(dataTable, element);\n",
              "          const docLink = document.createElement('div');\n",
              "          docLink.innerHTML = docLinkHtml;\n",
              "          element.appendChild(docLink);\n",
              "        }\n",
              "      </script>\n",
              "    </div>\n",
              "  </div>\n",
              "  "
            ]
          },
          "metadata": {}
        },
        {
          "output_type": "stream",
          "name": "stdout",
          "text": [
            "Topmost model added to list of models for testing:\n",
            "\tRandomForestClassifier(max_depth=32, n_estimators=5, random_state=42)\n",
            "\n"
          ]
        }
      ],
      "source": [
        "# Specify Algorithm shortname\n",
        "name = 'Random Forest'\n",
        "\n",
        "# Specify algorithm with desired default parameters\n",
        "algorithm = RandomForestClassifier(random_state=seed)\n",
        "\n",
        "# Hyperparameter options for GridSearch to test and identify best hyperparameters combination\n",
        "hparam_grid = {\n",
        "    'max_depth': [2, 4, 8, 16, 32, None],\n",
        "    'n_estimators': [5, 50, 250]\n",
        "}\n",
        "\n",
        "# Execute cross validation, report results, and store top model to models list\n",
        "crossval_func(name, algorithm, hparam_grid, priority_score, k)"
      ]
    },
    {
      "cell_type": "markdown",
      "metadata": {
        "id": "j-cOsxXyjyD7"
      },
      "source": [
        "## Random Forest Balanced"
      ]
    },
    {
      "cell_type": "code",
      "execution_count": 20,
      "metadata": {
        "colab": {
          "base_uri": "https://localhost:8080/",
          "height": 260
        },
        "id": "oSi6tsiLj10-",
        "outputId": "a973a4c8-11f5-4b88-a4a8-50921f3ec66f"
      },
      "outputs": [
        {
          "output_type": "stream",
          "name": "stdout",
          "text": [
            "Fitting 5 folds for each of 18 candidates, totalling 90 fits\n",
            "Training Time: 56.88s\n",
            "\n",
            "Random Forest Balanced CROSS-VALIDATION RESULTS\n",
            "Tuned for mean_test_roc_auc in cross-validation:\n"
          ]
        },
        {
          "output_type": "display_data",
          "data": {
            "text/plain": [
              "                                 params  mean_test_roc_auc  mean_test_recall  \\\n",
              "1  {'max_depth': 4, 'n_estimators': 50}           0.788865          0.626792   \n",
              "\n",
              "   mean_test_precision  mean_test_accuracy  \n",
              "1             0.709657            0.899004  "
            ],
            "text/html": [
              "\n",
              "  <div id=\"df-f29b47f7-5ac7-4075-8dd8-8b1bcab21a35\">\n",
              "    <div class=\"colab-df-container\">\n",
              "      <div>\n",
              "<style scoped>\n",
              "    .dataframe tbody tr th:only-of-type {\n",
              "        vertical-align: middle;\n",
              "    }\n",
              "\n",
              "    .dataframe tbody tr th {\n",
              "        vertical-align: top;\n",
              "    }\n",
              "\n",
              "    .dataframe thead th {\n",
              "        text-align: right;\n",
              "    }\n",
              "</style>\n",
              "<table border=\"1\" class=\"dataframe\">\n",
              "  <thead>\n",
              "    <tr style=\"text-align: right;\">\n",
              "      <th></th>\n",
              "      <th>params</th>\n",
              "      <th>mean_test_roc_auc</th>\n",
              "      <th>mean_test_recall</th>\n",
              "      <th>mean_test_precision</th>\n",
              "      <th>mean_test_accuracy</th>\n",
              "    </tr>\n",
              "  </thead>\n",
              "  <tbody>\n",
              "    <tr>\n",
              "      <th>1</th>\n",
              "      <td>{'max_depth': 4, 'n_estimators': 50}</td>\n",
              "      <td>0.788865</td>\n",
              "      <td>0.626792</td>\n",
              "      <td>0.709657</td>\n",
              "      <td>0.899004</td>\n",
              "    </tr>\n",
              "  </tbody>\n",
              "</table>\n",
              "</div>\n",
              "      <button class=\"colab-df-convert\" onclick=\"convertToInteractive('df-f29b47f7-5ac7-4075-8dd8-8b1bcab21a35')\"\n",
              "              title=\"Convert this dataframe to an interactive table.\"\n",
              "              style=\"display:none;\">\n",
              "        \n",
              "  <svg xmlns=\"http://www.w3.org/2000/svg\" height=\"24px\"viewBox=\"0 0 24 24\"\n",
              "       width=\"24px\">\n",
              "    <path d=\"M0 0h24v24H0V0z\" fill=\"none\"/>\n",
              "    <path d=\"M18.56 5.44l.94 2.06.94-2.06 2.06-.94-2.06-.94-.94-2.06-.94 2.06-2.06.94zm-11 1L8.5 8.5l.94-2.06 2.06-.94-2.06-.94L8.5 2.5l-.94 2.06-2.06.94zm10 10l.94 2.06.94-2.06 2.06-.94-2.06-.94-.94-2.06-.94 2.06-2.06.94z\"/><path d=\"M17.41 7.96l-1.37-1.37c-.4-.4-.92-.59-1.43-.59-.52 0-1.04.2-1.43.59L10.3 9.45l-7.72 7.72c-.78.78-.78 2.05 0 2.83L4 21.41c.39.39.9.59 1.41.59.51 0 1.02-.2 1.41-.59l7.78-7.78 2.81-2.81c.8-.78.8-2.07 0-2.86zM5.41 20L4 18.59l7.72-7.72 1.47 1.35L5.41 20z\"/>\n",
              "  </svg>\n",
              "      </button>\n",
              "      \n",
              "  <style>\n",
              "    .colab-df-container {\n",
              "      display:flex;\n",
              "      flex-wrap:wrap;\n",
              "      gap: 12px;\n",
              "    }\n",
              "\n",
              "    .colab-df-convert {\n",
              "      background-color: #E8F0FE;\n",
              "      border: none;\n",
              "      border-radius: 50%;\n",
              "      cursor: pointer;\n",
              "      display: none;\n",
              "      fill: #1967D2;\n",
              "      height: 32px;\n",
              "      padding: 0 0 0 0;\n",
              "      width: 32px;\n",
              "    }\n",
              "\n",
              "    .colab-df-convert:hover {\n",
              "      background-color: #E2EBFA;\n",
              "      box-shadow: 0px 1px 2px rgba(60, 64, 67, 0.3), 0px 1px 3px 1px rgba(60, 64, 67, 0.15);\n",
              "      fill: #174EA6;\n",
              "    }\n",
              "\n",
              "    [theme=dark] .colab-df-convert {\n",
              "      background-color: #3B4455;\n",
              "      fill: #D2E3FC;\n",
              "    }\n",
              "\n",
              "    [theme=dark] .colab-df-convert:hover {\n",
              "      background-color: #434B5C;\n",
              "      box-shadow: 0px 1px 3px 1px rgba(0, 0, 0, 0.15);\n",
              "      filter: drop-shadow(0px 1px 2px rgba(0, 0, 0, 0.3));\n",
              "      fill: #FFFFFF;\n",
              "    }\n",
              "  </style>\n",
              "\n",
              "      <script>\n",
              "        const buttonEl =\n",
              "          document.querySelector('#df-f29b47f7-5ac7-4075-8dd8-8b1bcab21a35 button.colab-df-convert');\n",
              "        buttonEl.style.display =\n",
              "          google.colab.kernel.accessAllowed ? 'block' : 'none';\n",
              "\n",
              "        async function convertToInteractive(key) {\n",
              "          const element = document.querySelector('#df-f29b47f7-5ac7-4075-8dd8-8b1bcab21a35');\n",
              "          const dataTable =\n",
              "            await google.colab.kernel.invokeFunction('convertToInteractive',\n",
              "                                                     [key], {});\n",
              "          if (!dataTable) return;\n",
              "\n",
              "          const docLinkHtml = 'Like what you see? Visit the ' +\n",
              "            '<a target=\"_blank\" href=https://colab.research.google.com/notebooks/data_table.ipynb>data table notebook</a>'\n",
              "            + ' to learn more about interactive tables.';\n",
              "          element.innerHTML = '';\n",
              "          dataTable['output_type'] = 'display_data';\n",
              "          await google.colab.output.renderOutput(dataTable, element);\n",
              "          const docLink = document.createElement('div');\n",
              "          docLink.innerHTML = docLinkHtml;\n",
              "          element.appendChild(docLink);\n",
              "        }\n",
              "      </script>\n",
              "    </div>\n",
              "  </div>\n",
              "  "
            ]
          },
          "metadata": {}
        },
        {
          "output_type": "stream",
          "name": "stdout",
          "text": [
            "Topmost model added to list of models for testing:\n",
            "\tRandomForestClassifier(class_weight='balanced', max_depth=4, n_estimators=50,\n",
            "                       random_state=42)\n",
            "\n"
          ]
        }
      ],
      "source": [
        "# Specify Algorithm shortname\n",
        "name = 'Random Forest Balanced'\n",
        "\n",
        "# Specify algorithm with desired default parameters\n",
        "algorithm = RandomForestClassifier(class_weight='balanced', random_state=seed)\n",
        "\n",
        "# Hyperparameter options for GridSearch to test and identify best hyperparameters combination\n",
        "hparam_grid = {\n",
        "    'max_depth': [2, 4, 8, 16, 32, None],\n",
        "    'n_estimators': [5, 50, 250]\n",
        "}\n",
        "\n",
        "# Execute cross validation, report results, and store top model to models list\n",
        "crossval_func(name, algorithm, hparam_grid, priority_score, k)"
      ]
    },
    {
      "cell_type": "markdown",
      "metadata": {
        "id": "mAHGJiOCN8PH"
      },
      "source": [
        "## Gradient Boosting Classifier"
      ]
    },
    {
      "cell_type": "code",
      "execution_count": 21,
      "metadata": {
        "colab": {
          "base_uri": "https://localhost:8080/",
          "height": 260
        },
        "id": "xIGWL7ONN8PH",
        "outputId": "6e8b5d51-1671-40d7-9109-57cd6b729d40"
      },
      "outputs": [
        {
          "output_type": "stream",
          "name": "stdout",
          "text": [
            "Fitting 5 folds for each of 100 candidates, totalling 500 fits\n",
            "Training Time: 59.97s\n",
            "\n",
            "Gradient Boosting CROSS-VALIDATION RESULTS\n",
            "Tuned for mean_test_roc_auc in cross-validation:\n"
          ]
        },
        {
          "output_type": "display_data",
          "data": {
            "text/plain": [
              "                                              params  mean_test_roc_auc  \\\n",
              "1  {'learning_rate': 100, 'max_depth': 5, 'n_esti...            0.78784   \n",
              "\n",
              "   mean_test_recall  mean_test_precision  mean_test_accuracy  \n",
              "1          0.649347             0.630791            0.881952  "
            ],
            "text/html": [
              "\n",
              "  <div id=\"df-198ddfcc-cff6-465a-850b-b9b64a26b6a8\">\n",
              "    <div class=\"colab-df-container\">\n",
              "      <div>\n",
              "<style scoped>\n",
              "    .dataframe tbody tr th:only-of-type {\n",
              "        vertical-align: middle;\n",
              "    }\n",
              "\n",
              "    .dataframe tbody tr th {\n",
              "        vertical-align: top;\n",
              "    }\n",
              "\n",
              "    .dataframe thead th {\n",
              "        text-align: right;\n",
              "    }\n",
              "</style>\n",
              "<table border=\"1\" class=\"dataframe\">\n",
              "  <thead>\n",
              "    <tr style=\"text-align: right;\">\n",
              "      <th></th>\n",
              "      <th>params</th>\n",
              "      <th>mean_test_roc_auc</th>\n",
              "      <th>mean_test_recall</th>\n",
              "      <th>mean_test_precision</th>\n",
              "      <th>mean_test_accuracy</th>\n",
              "    </tr>\n",
              "  </thead>\n",
              "  <tbody>\n",
              "    <tr>\n",
              "      <th>1</th>\n",
              "      <td>{'learning_rate': 100, 'max_depth': 5, 'n_esti...</td>\n",
              "      <td>0.78784</td>\n",
              "      <td>0.649347</td>\n",
              "      <td>0.630791</td>\n",
              "      <td>0.881952</td>\n",
              "    </tr>\n",
              "  </tbody>\n",
              "</table>\n",
              "</div>\n",
              "      <button class=\"colab-df-convert\" onclick=\"convertToInteractive('df-198ddfcc-cff6-465a-850b-b9b64a26b6a8')\"\n",
              "              title=\"Convert this dataframe to an interactive table.\"\n",
              "              style=\"display:none;\">\n",
              "        \n",
              "  <svg xmlns=\"http://www.w3.org/2000/svg\" height=\"24px\"viewBox=\"0 0 24 24\"\n",
              "       width=\"24px\">\n",
              "    <path d=\"M0 0h24v24H0V0z\" fill=\"none\"/>\n",
              "    <path d=\"M18.56 5.44l.94 2.06.94-2.06 2.06-.94-2.06-.94-.94-2.06-.94 2.06-2.06.94zm-11 1L8.5 8.5l.94-2.06 2.06-.94-2.06-.94L8.5 2.5l-.94 2.06-2.06.94zm10 10l.94 2.06.94-2.06 2.06-.94-2.06-.94-.94-2.06-.94 2.06-2.06.94z\"/><path d=\"M17.41 7.96l-1.37-1.37c-.4-.4-.92-.59-1.43-.59-.52 0-1.04.2-1.43.59L10.3 9.45l-7.72 7.72c-.78.78-.78 2.05 0 2.83L4 21.41c.39.39.9.59 1.41.59.51 0 1.02-.2 1.41-.59l7.78-7.78 2.81-2.81c.8-.78.8-2.07 0-2.86zM5.41 20L4 18.59l7.72-7.72 1.47 1.35L5.41 20z\"/>\n",
              "  </svg>\n",
              "      </button>\n",
              "      \n",
              "  <style>\n",
              "    .colab-df-container {\n",
              "      display:flex;\n",
              "      flex-wrap:wrap;\n",
              "      gap: 12px;\n",
              "    }\n",
              "\n",
              "    .colab-df-convert {\n",
              "      background-color: #E8F0FE;\n",
              "      border: none;\n",
              "      border-radius: 50%;\n",
              "      cursor: pointer;\n",
              "      display: none;\n",
              "      fill: #1967D2;\n",
              "      height: 32px;\n",
              "      padding: 0 0 0 0;\n",
              "      width: 32px;\n",
              "    }\n",
              "\n",
              "    .colab-df-convert:hover {\n",
              "      background-color: #E2EBFA;\n",
              "      box-shadow: 0px 1px 2px rgba(60, 64, 67, 0.3), 0px 1px 3px 1px rgba(60, 64, 67, 0.15);\n",
              "      fill: #174EA6;\n",
              "    }\n",
              "\n",
              "    [theme=dark] .colab-df-convert {\n",
              "      background-color: #3B4455;\n",
              "      fill: #D2E3FC;\n",
              "    }\n",
              "\n",
              "    [theme=dark] .colab-df-convert:hover {\n",
              "      background-color: #434B5C;\n",
              "      box-shadow: 0px 1px 3px 1px rgba(0, 0, 0, 0.15);\n",
              "      filter: drop-shadow(0px 1px 2px rgba(0, 0, 0, 0.3));\n",
              "      fill: #FFFFFF;\n",
              "    }\n",
              "  </style>\n",
              "\n",
              "      <script>\n",
              "        const buttonEl =\n",
              "          document.querySelector('#df-198ddfcc-cff6-465a-850b-b9b64a26b6a8 button.colab-df-convert');\n",
              "        buttonEl.style.display =\n",
              "          google.colab.kernel.accessAllowed ? 'block' : 'none';\n",
              "\n",
              "        async function convertToInteractive(key) {\n",
              "          const element = document.querySelector('#df-198ddfcc-cff6-465a-850b-b9b64a26b6a8');\n",
              "          const dataTable =\n",
              "            await google.colab.kernel.invokeFunction('convertToInteractive',\n",
              "                                                     [key], {});\n",
              "          if (!dataTable) return;\n",
              "\n",
              "          const docLinkHtml = 'Like what you see? Visit the ' +\n",
              "            '<a target=\"_blank\" href=https://colab.research.google.com/notebooks/data_table.ipynb>data table notebook</a>'\n",
              "            + ' to learn more about interactive tables.';\n",
              "          element.innerHTML = '';\n",
              "          dataTable['output_type'] = 'display_data';\n",
              "          await google.colab.output.renderOutput(dataTable, element);\n",
              "          const docLink = document.createElement('div');\n",
              "          docLink.innerHTML = docLinkHtml;\n",
              "          element.appendChild(docLink);\n",
              "        }\n",
              "      </script>\n",
              "    </div>\n",
              "  </div>\n",
              "  "
            ]
          },
          "metadata": {}
        },
        {
          "output_type": "stream",
          "name": "stdout",
          "text": [
            "Topmost model added to list of models for testing:\n",
            "\tGradientBoostingClassifier(learning_rate=100, max_depth=5, n_estimators=1,\n",
            "                           random_state=42)\n",
            "\n"
          ]
        }
      ],
      "source": [
        "# Specify Algorithm shortname\n",
        "name = 'Gradient Boosting'\n",
        "\n",
        "# Specify algorithm with desired default parameters\n",
        "algorithm = GradientBoostingClassifier(random_state=seed)\n",
        "\n",
        "# Hyperparameter options for GridSearch to test and identify best hyperparameters combination\n",
        "hparam_grid = {\n",
        "    'max_depth': [5, 50, 250, 500],\n",
        "    'n_estimators': [1, 3, 5, 7, 9],\n",
        "    'learning_rate': [0.01, 0.1, 1, 10, 100]\n",
        "}\n",
        "\n",
        "# Execute cross validation, report results, and store top model to models list\n",
        "crossval_func(name, algorithm, hparam_grid, priority_score, k)"
      ]
    },
    {
      "cell_type": "markdown",
      "metadata": {
        "id": "FiAW_d1iN8PI"
      },
      "source": [
        "# 4. Test & Evaluate Tuned Models"
      ]
    },
    {
      "cell_type": "code",
      "execution_count": 32,
      "metadata": {
        "id": "kiNor0DAN8PI"
      },
      "outputs": [],
      "source": [
        "# Function for generating model scores and confusion matrices with custom colors and descriptive labels\n",
        "\n",
        "def report_scores_enhanced(model):\n",
        "    '''\n",
        "    Generate model scores and enhanced confusion matrices\n",
        "    '''\n",
        "    y_pred = model['Model'].predict(X_test)\n",
        "    auc = roc_auc_score(y_test, y_pred)\n",
        "    recall = recall_score(y_test, y_pred) * 100\n",
        "    precision = precision_score(y_test, y_pred) * 100\n",
        "    accuracy = accuracy_score(y_test, y_pred) * 100\n",
        "#    f1 = f1_score(y_test, y_pred) * 100\n",
        "\n",
        "\n",
        "    cm = confusion_matrix(y_test, y_pred)\n",
        "    cm_norm = confusion_matrix(y_test, y_pred, normalize='true')\n",
        "    cm_colors = sns.color_palette(['gainsboro', 'cornflowerblue'])\n",
        "\n",
        "    # axis labels for the confusion matrix plot\n",
        "    cm_y_labels = ['0','1'] # column labels\n",
        "    cm_x_labels = ['0','1'] # row labels\n",
        "    \n",
        "    # Confusion matrix labels\n",
        "    # Review and update to match the appropriate labels for your data set\n",
        "    group_names = ['True Negative', 'False Positive', 'False Negative', 'True Positive']\n",
        "    group_counts = ['{0:0.0f}'.format(value) for value in cm.flatten()]\n",
        "    group_percentages = ['{0:.2%}'.format(value) for value in cm_norm.flatten()]\n",
        "    group_labels = [f'{v1}\\n{v2}\\n{v3}' for v1, v2, v3 in\n",
        "              zip(group_counts, group_names, group_percentages)]\n",
        "    group_labels = np.asarray(group_labels).reshape(2,2)\n",
        "\n",
        "    # Begin plot setup\n",
        "    fig, ax = plt.subplots(figsize=(4.2, 4.2))\n",
        "\n",
        "    # Heatmap\n",
        "    sns.heatmap(np.eye(2), annot=group_labels, annot_kws={'size': 11}, fmt='', \n",
        "                cmap=cm_colors, cbar=False,\n",
        "                yticklabels=cm_y_labels, xticklabels=cm_x_labels, ax=ax)\n",
        "    \n",
        "    # Axis elements\n",
        "    ax.xaxis.tick_top()\n",
        "    ax.xaxis.set_label_position('top')\n",
        "    ax.tick_params(labelsize=10, length=0)\n",
        "    ax.set_xlabel('Predicted Values', size=10)\n",
        "    ax.set_ylabel('Actual Values', size=10)\n",
        "    \n",
        "    # Position group labels and set colors\n",
        "    for text_elt, group_label in zip(ax.texts, group_labels):\n",
        "        ax.text(*text_elt.get_position(), '\\n', color=text_elt.get_color(),\n",
        "                ha='center', va='top')\n",
        "\n",
        "    # Title for each plot\n",
        "    # Adjust pad to provide room for the score report below title and above confusion matrix plot\n",
        "    plt.title(f'{model[\"Name\"]}', pad=100, loc='left', fontsize=12, fontweight='bold')\n",
        "\n",
        "    # Score reports beneath each title\n",
        "    # Adjust x and y to fit report -- try 0.74 for the y if you activate F1 and AUC\n",
        "    (\n",
        "        plt.figtext(0.21, 0.74,\n",
        "                    f'ROC AUC: {round(auc, 3)}\\n'\n",
        "                    + f'Recall:  {round(recall,3)}%\\n'\n",
        "                    + f'Precision:  {round(precision, 3)}%\\n' \n",
        "                    + f'Accuracy:  {round(accuracy, 3)}%\\n'\n",
        "                    # + f'F1: {round(f1, 2)}%\\n'\n",
        "                    , \n",
        "                    wrap=True, ha='left', fontsize=10)\n",
        "    )\n",
        "\n",
        "    # Display the plot!\n",
        "    plt.tight_layout()\n",
        "    plt.subplots_adjust(left=0.2)\n",
        "    print('\\n') # Add a blank line for improved spacing\n",
        "    plt.show()\n",
        "    \n",
        "# =========================================\n",
        "# List scores ranked by priority score\n",
        "# =========================================\n",
        "\n",
        "# List to hold scores for each model\n",
        "scoreslist = []\n",
        "\n",
        "scorenames = [\n",
        "              'ROC AUC',\n",
        "              'Recall',\n",
        "              'Precision',\n",
        "              'Accuracy'\n",
        "              #, 'F1 Score'\n",
        "             ]\n",
        "\n",
        "# Define function to record and report scores\n",
        "def record_scores(name, model, features, labels):\n",
        "    '''\n",
        "    name = model name\n",
        "    model = model variable\n",
        "    features = features of desired split\n",
        "    labels = labels of desired split\n",
        "    '''\n",
        "    predictions = model.predict(features)\n",
        "\n",
        "    scores = [\n",
        "              round(roc_auc_score(labels, predictions), 3),\n",
        "              round(recall_score(labels, predictions) * 100, 3),\n",
        "              round(precision_score(labels, predictions) * 100, 3),\n",
        "              round(accuracy_score(labels, predictions) * 100, 3)\n",
        "              #, f1_score(labels, predictions)\n",
        "             ]\n",
        "\n",
        "    \n",
        "    # Create list with model name, model, and scores\n",
        "    modelscores = []\n",
        "    modelscores.append(name)\n",
        "    for score in scores:\n",
        "        modelscores.append(score)\n",
        "\n",
        "    scoreslist.append(modelscores)\n",
        "\n",
        "# Define function to score all models and report results\n",
        "def score_models(models_list, features, labels, priority='Accuracy'):\n",
        "    # Score all models with test split\n",
        "    for model in models_list:\n",
        "        record_scores(model['Name'], model['Model'], features, labels)\n",
        "\n",
        "    # Store to dataframe, including melted version of dataframe for visualization\n",
        "    tsdf = pd.DataFrame(scoreslist, columns = ['Model'] + scorenames)\n",
        "    tsdf = tsdf.sort_values(priority, ascending=False).copy()\n",
        "    tsdf_melt = pd.melt(tsdf, id_vars=\"Model\", var_name=\"Metric\", value_name=\"Score\")\n",
        "    tsdf_melt\n",
        "    tsdf.set_index('Model', inplace=True)\n",
        "\n",
        "    # Display the dataframe\n",
        "    print(f\"\\nModel scores ranked by {priority}:\")\n",
        "    display(tsdf)"
      ]
    },
    {
      "cell_type": "markdown",
      "metadata": {
        "id": "LS6g7kSrWQS3"
      },
      "source": [
        "## Model Scores Ranked by Priority Score"
      ]
    },
    {
      "cell_type": "code",
      "execution_count": 33,
      "metadata": {
        "colab": {
          "base_uri": "https://localhost:8080/",
          "height": 358
        },
        "id": "0dBWK-t_rYIg",
        "outputId": "8777aa7e-26ea-4752-fa74-d01d499e7eba"
      },
      "outputs": [
        {
          "output_type": "stream",
          "name": "stdout",
          "text": [
            "\n",
            "Model scores ranked by ROC AUC:\n"
          ]
        },
        {
          "output_type": "display_data",
          "data": {
            "text/plain": [
              "                              ROC AUC  Recall  Precision  Accuracy\n",
              "Model                                                             \n",
              "Decision Tree Balanced          0.789  65.579     60.792    87.980\n",
              "Gradient Boosting               0.788  65.467     60.688    87.945\n",
              "Random Forest Balanced          0.786  62.092     70.051    89.901\n",
              "Decision Tree                   0.771  54.781     94.015    92.369\n",
              "Random Forest                   0.769  54.893     91.045    92.087\n",
              "Logistic Regression             0.517   3.712     75.000    84.720\n",
              "Logistic Regression Balanced    0.395  33.183     10.229    43.902"
            ],
            "text/html": [
              "\n",
              "  <div id=\"df-c486c3e9-be0d-4da4-897c-cbd99a154c00\">\n",
              "    <div class=\"colab-df-container\">\n",
              "      <div>\n",
              "<style scoped>\n",
              "    .dataframe tbody tr th:only-of-type {\n",
              "        vertical-align: middle;\n",
              "    }\n",
              "\n",
              "    .dataframe tbody tr th {\n",
              "        vertical-align: top;\n",
              "    }\n",
              "\n",
              "    .dataframe thead th {\n",
              "        text-align: right;\n",
              "    }\n",
              "</style>\n",
              "<table border=\"1\" class=\"dataframe\">\n",
              "  <thead>\n",
              "    <tr style=\"text-align: right;\">\n",
              "      <th></th>\n",
              "      <th>ROC AUC</th>\n",
              "      <th>Recall</th>\n",
              "      <th>Precision</th>\n",
              "      <th>Accuracy</th>\n",
              "    </tr>\n",
              "    <tr>\n",
              "      <th>Model</th>\n",
              "      <th></th>\n",
              "      <th></th>\n",
              "      <th></th>\n",
              "      <th></th>\n",
              "    </tr>\n",
              "  </thead>\n",
              "  <tbody>\n",
              "    <tr>\n",
              "      <th>Decision Tree Balanced</th>\n",
              "      <td>0.789</td>\n",
              "      <td>65.579</td>\n",
              "      <td>60.792</td>\n",
              "      <td>87.980</td>\n",
              "    </tr>\n",
              "    <tr>\n",
              "      <th>Gradient Boosting</th>\n",
              "      <td>0.788</td>\n",
              "      <td>65.467</td>\n",
              "      <td>60.688</td>\n",
              "      <td>87.945</td>\n",
              "    </tr>\n",
              "    <tr>\n",
              "      <th>Random Forest Balanced</th>\n",
              "      <td>0.786</td>\n",
              "      <td>62.092</td>\n",
              "      <td>70.051</td>\n",
              "      <td>89.901</td>\n",
              "    </tr>\n",
              "    <tr>\n",
              "      <th>Decision Tree</th>\n",
              "      <td>0.771</td>\n",
              "      <td>54.781</td>\n",
              "      <td>94.015</td>\n",
              "      <td>92.369</td>\n",
              "    </tr>\n",
              "    <tr>\n",
              "      <th>Random Forest</th>\n",
              "      <td>0.769</td>\n",
              "      <td>54.893</td>\n",
              "      <td>91.045</td>\n",
              "      <td>92.087</td>\n",
              "    </tr>\n",
              "    <tr>\n",
              "      <th>Logistic Regression</th>\n",
              "      <td>0.517</td>\n",
              "      <td>3.712</td>\n",
              "      <td>75.000</td>\n",
              "      <td>84.720</td>\n",
              "    </tr>\n",
              "    <tr>\n",
              "      <th>Logistic Regression Balanced</th>\n",
              "      <td>0.395</td>\n",
              "      <td>33.183</td>\n",
              "      <td>10.229</td>\n",
              "      <td>43.902</td>\n",
              "    </tr>\n",
              "  </tbody>\n",
              "</table>\n",
              "</div>\n",
              "      <button class=\"colab-df-convert\" onclick=\"convertToInteractive('df-c486c3e9-be0d-4da4-897c-cbd99a154c00')\"\n",
              "              title=\"Convert this dataframe to an interactive table.\"\n",
              "              style=\"display:none;\">\n",
              "        \n",
              "  <svg xmlns=\"http://www.w3.org/2000/svg\" height=\"24px\"viewBox=\"0 0 24 24\"\n",
              "       width=\"24px\">\n",
              "    <path d=\"M0 0h24v24H0V0z\" fill=\"none\"/>\n",
              "    <path d=\"M18.56 5.44l.94 2.06.94-2.06 2.06-.94-2.06-.94-.94-2.06-.94 2.06-2.06.94zm-11 1L8.5 8.5l.94-2.06 2.06-.94-2.06-.94L8.5 2.5l-.94 2.06-2.06.94zm10 10l.94 2.06.94-2.06 2.06-.94-2.06-.94-.94-2.06-.94 2.06-2.06.94z\"/><path d=\"M17.41 7.96l-1.37-1.37c-.4-.4-.92-.59-1.43-.59-.52 0-1.04.2-1.43.59L10.3 9.45l-7.72 7.72c-.78.78-.78 2.05 0 2.83L4 21.41c.39.39.9.59 1.41.59.51 0 1.02-.2 1.41-.59l7.78-7.78 2.81-2.81c.8-.78.8-2.07 0-2.86zM5.41 20L4 18.59l7.72-7.72 1.47 1.35L5.41 20z\"/>\n",
              "  </svg>\n",
              "      </button>\n",
              "      \n",
              "  <style>\n",
              "    .colab-df-container {\n",
              "      display:flex;\n",
              "      flex-wrap:wrap;\n",
              "      gap: 12px;\n",
              "    }\n",
              "\n",
              "    .colab-df-convert {\n",
              "      background-color: #E8F0FE;\n",
              "      border: none;\n",
              "      border-radius: 50%;\n",
              "      cursor: pointer;\n",
              "      display: none;\n",
              "      fill: #1967D2;\n",
              "      height: 32px;\n",
              "      padding: 0 0 0 0;\n",
              "      width: 32px;\n",
              "    }\n",
              "\n",
              "    .colab-df-convert:hover {\n",
              "      background-color: #E2EBFA;\n",
              "      box-shadow: 0px 1px 2px rgba(60, 64, 67, 0.3), 0px 1px 3px 1px rgba(60, 64, 67, 0.15);\n",
              "      fill: #174EA6;\n",
              "    }\n",
              "\n",
              "    [theme=dark] .colab-df-convert {\n",
              "      background-color: #3B4455;\n",
              "      fill: #D2E3FC;\n",
              "    }\n",
              "\n",
              "    [theme=dark] .colab-df-convert:hover {\n",
              "      background-color: #434B5C;\n",
              "      box-shadow: 0px 1px 3px 1px rgba(0, 0, 0, 0.15);\n",
              "      filter: drop-shadow(0px 1px 2px rgba(0, 0, 0, 0.3));\n",
              "      fill: #FFFFFF;\n",
              "    }\n",
              "  </style>\n",
              "\n",
              "      <script>\n",
              "        const buttonEl =\n",
              "          document.querySelector('#df-c486c3e9-be0d-4da4-897c-cbd99a154c00 button.colab-df-convert');\n",
              "        buttonEl.style.display =\n",
              "          google.colab.kernel.accessAllowed ? 'block' : 'none';\n",
              "\n",
              "        async function convertToInteractive(key) {\n",
              "          const element = document.querySelector('#df-c486c3e9-be0d-4da4-897c-cbd99a154c00');\n",
              "          const dataTable =\n",
              "            await google.colab.kernel.invokeFunction('convertToInteractive',\n",
              "                                                     [key], {});\n",
              "          if (!dataTable) return;\n",
              "\n",
              "          const docLinkHtml = 'Like what you see? Visit the ' +\n",
              "            '<a target=\"_blank\" href=https://colab.research.google.com/notebooks/data_table.ipynb>data table notebook</a>'\n",
              "            + ' to learn more about interactive tables.';\n",
              "          element.innerHTML = '';\n",
              "          dataTable['output_type'] = 'display_data';\n",
              "          await google.colab.output.renderOutput(dataTable, element);\n",
              "          const docLink = document.createElement('div');\n",
              "          docLink.innerHTML = docLinkHtml;\n",
              "          element.appendChild(docLink);\n",
              "        }\n",
              "      </script>\n",
              "    </div>\n",
              "  </div>\n",
              "  "
            ]
          },
          "metadata": {}
        }
      ],
      "source": [
        "# View model scores ranked by priority score\n",
        "score_models(models_tuned, X_test, y_test, priority='ROC AUC')"
      ]
    },
    {
      "cell_type": "markdown",
      "metadata": {
        "id": "12nqLn-4WQS4"
      },
      "source": [
        "## Model Scores with Confusion Matrices"
      ]
    },
    {
      "cell_type": "code",
      "execution_count": 34,
      "metadata": {
        "colab": {
          "base_uri": "https://localhost:8080/",
          "height": 1000
        },
        "id": "UBBQxFyfN8PJ",
        "outputId": "aee98bc6-3592-4a4f-cdae-52a515bf74f7",
        "scrolled": false
      },
      "outputs": [
        {
          "output_type": "stream",
          "name": "stdout",
          "text": [
            "\n",
            "\n"
          ]
        },
        {
          "output_type": "display_data",
          "data": {
            "text/plain": [
              "<Figure size 302.4x302.4 with 1 Axes>"
            ],
            "image/png": "[encoded data removed]"
          },
          "metadata": {
            "image/png": {
              "width": 272,
              "height": 294
            },
            "needs_background": "light"
          }
        },
        {
          "output_type": "stream",
          "name": "stdout",
          "text": [
            "\n",
            "\n"
          ]
        },
        {
          "output_type": "display_data",
          "data": {
            "text/plain": [
              "<Figure size 302.4x302.4 with 1 Axes>"
            ],
            "image/png": "[encoded data removed]"
          },
          "metadata": {
            "image/png": {
              "width": 272,
              "height": 294
            },
            "needs_background": "light"
          }
        },
        {
          "output_type": "stream",
          "name": "stdout",
          "text": [
            "\n",
            "\n"
          ]
        },
        {
          "output_type": "display_data",
          "data": {
            "text/plain": [
              "<Figure size 302.4x302.4 with 1 Axes>"
            ],
            "image/png": "[encoded data removed]"
          },
          "metadata": {
            "image/png": {
              "width": 272,
              "height": 294
            },
            "needs_background": "light"
          }
        },
        {
          "output_type": "stream",
          "name": "stdout",
          "text": [
            "\n",
            "\n"
          ]
        },
        {
          "output_type": "display_data",
          "data": {
            "text/plain": [
              "<Figure size 302.4x302.4 with 1 Axes>"
            ],
            "image/png": "[encoded data removed]"
          },
          "metadata": {
            "image/png": {
              "width": 272,
              "height": 294
            },
            "needs_background": "light"
          }
        },
        {
          "output_type": "stream",
          "name": "stdout",
          "text": [
            "\n",
            "\n"
          ]
        },
        {
          "output_type": "display_data",
          "data": {
            "text/plain": [
              "<Figure size 302.4x302.4 with 1 Axes>"
            ],
            "image/png": "[encoded data removed]"
          },
          "metadata": {
            "image/png": {
              "width": 272,
              "height": 294
            },
            "needs_background": "light"
          }
        },
        {
          "output_type": "stream",
          "name": "stdout",
          "text": [
            "\n",
            "\n"
          ]
        },
        {
          "output_type": "display_data",
          "data": {
            "text/plain": [
              "<Figure size 302.4x302.4 with 1 Axes>"
            ],
            "image/png": "[encoded data removed]"
          },
          "metadata": {
            "image/png": {
              "width": 272,
              "height": 294
            },
            "needs_background": "light"
          }
        },
        {
          "output_type": "stream",
          "name": "stdout",
          "text": [
            "\n",
            "\n"
          ]
        },
        {
          "output_type": "display_data",
          "data": {
            "text/plain": [
              "<Figure size 302.4x302.4 with 1 Axes>"
            ],
            "image/png": "[encoded data removed]"
          },
          "metadata": {
            "image/png": {
              "width": 272,
              "height": 294
            },
            "needs_background": "light"
          }
        }
      ],
      "source": [
        "for model in models_tuned:\n",
        "    report_scores_enhanced(model)"
      ]
    },
    {
      "cell_type": "code",
      "execution_count": 24,
      "metadata": {
        "id": "pYXCSW7eWQS5"
      },
      "outputs": [],
      "source": [
        ""
      ]
    }
  ],
  "metadata": {
    "colab": {
      "collapsed_sections": [
        "WIIjcoy499Ar",
        "vHp63oGi99Ax",
        "t5RA9tAdWQSo",
        "MVnwjqzO99Az",
        "BXIxVJZBN8PD",
        "KStJ6xbVWQSt",
        "C-IviultWQSu",
        "uACdAzdeWQSv",
        "17eqgUKZidqq",
        "eyAjhs8yN8PF",
        "8pEd0_aFjWxd",
        "zpC6zL6jN8PG",
        "j-cOsxXyjyD7",
        "mAHGJiOCN8PH"
      ],
      "name": "CustomerTransactions_Models_4periods ROC-AUC.ipynb",
      "provenance": []
    },
    "kernelspec": {
      "display_name": "Python 3 (ipykernel)",
      "language": "python",
      "name": "python3"
    },
    "language_info": {
      "codemirror_mode": {
        "name": "ipython",
        "version": 3
      },
      "file_extension": ".py",
      "mimetype": "text/x-python",
      "name": "python",
      "nbconvert_exporter": "python",
      "pygments_lexer": "ipython3",
      "version": "3.9.7"
    }
  },
  "nbformat": 4,
  "nbformat_minor": 0
}
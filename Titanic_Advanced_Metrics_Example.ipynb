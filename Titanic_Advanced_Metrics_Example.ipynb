{
 "cells": [
  {
   "cell_type": "markdown",
   "metadata": {},
   "source": [
    "# Titanic Advanced Metrics Example\n",
    "**Example by David Cochran**\n",
    "\n",
    "Using the Titanic dataset from [this](https://www.kaggle.com/c/titanic/overview) Kaggle competition ...\n",
    "\n",
    "1. Data prep\n",
    "2. Split the data into Train (70%) / Test (30%)\n",
    "3. Use GridSearch to train and tune models -- Logistic Regression and Random Forest.\n",
    "4. Prioritizing ROC_AUC score, and then Recall -- creating specially tuned models for each.\n",
    "3. Evaluate model performance on the test split, with confusion matrices and ROC curves.\n",
    "\n",
    "References and Resources:\n",
    "- [Churn Modeling Notebook by cutterback](https://github.com/cutterback/p03-telco-churn-model/blob/master/Telco-Churn-Classification-Model.ipynb)\n",
    "- https://scikit-learn.org/stable/auto_examples/model_selection/plot_multi_metric_evaluation.html\n",
    "- https://towardsdatascience.com/fine-tuning-a-classifier-in-scikit-learn-66e048c21e65\n"
   ]
  },
  {
   "cell_type": "markdown",
   "metadata": {},
   "source": [
    "# Setup"
   ]
  },
  {
   "cell_type": "code",
   "execution_count": 1,
   "metadata": {},
   "outputs": [],
   "source": [
    "import numpy as np\n",
    "import pandas as pd\n",
    "import matplotlib.pyplot as plt\n",
    "import seaborn as sns\n",
    "sns.set_context('notebook', font_scale = 1.1)\n",
    "%matplotlib inline\n",
    "from time import time\n",
    "\n",
    "# Machine Learning Training, Scoring, and Metrics\n",
    "from sklearn.pipeline import Pipeline\n",
    "from sklearn.model_selection import train_test_split, GridSearchCV, StratifiedKFold\n",
    "from sklearn.preprocessing import OneHotEncoder, FunctionTransformer\n",
    "from sklearn.preprocessing import StandardScaler, MinMaxScaler\n",
    "from sklearn.metrics import make_scorer\n",
    "from sklearn.metrics import auc, roc_auc_score, f1_score, accuracy_score, precision_score, recall_score\n",
    "from sklearn.metrics import confusion_matrix, plot_confusion_matrix, roc_curve, plot_roc_curve\n",
    "from sklearn.metrics import precision_recall_curve, plot_precision_recall_curve, classification_report\n",
    "\n",
    "# Classifiers\n",
    "from sklearn.linear_model import LogisticRegression\n",
    "from sklearn.ensemble import RandomForestClassifier\n",
    "from sklearn.neural_network import MLPClassifier\n",
    "from sklearn.ensemble import GradientBoostingClassifier"
   ]
  },
  {
   "cell_type": "markdown",
   "metadata": {},
   "source": [
    "# Data Preparation"
   ]
  },
  {
   "cell_type": "code",
   "execution_count": 2,
   "metadata": {},
   "outputs": [
    {
     "data": {
      "text/html": [
       "<div>\n",
       "<style scoped>\n",
       "    .dataframe tbody tr th:only-of-type {\n",
       "        vertical-align: middle;\n",
       "    }\n",
       "\n",
       "    .dataframe tbody tr th {\n",
       "        vertical-align: top;\n",
       "    }\n",
       "\n",
       "    .dataframe thead th {\n",
       "        text-align: right;\n",
       "    }\n",
       "</style>\n",
       "<table border=\"1\" class=\"dataframe\">\n",
       "  <thead>\n",
       "    <tr style=\"text-align: right;\">\n",
       "      <th></th>\n",
       "      <th>PassengerId</th>\n",
       "      <th>Survived</th>\n",
       "      <th>Pclass</th>\n",
       "      <th>Name</th>\n",
       "      <th>Sex</th>\n",
       "      <th>Age</th>\n",
       "      <th>SibSp</th>\n",
       "      <th>Parch</th>\n",
       "      <th>Ticket</th>\n",
       "      <th>Fare</th>\n",
       "      <th>Cabin</th>\n",
       "      <th>Embarked</th>\n",
       "    </tr>\n",
       "  </thead>\n",
       "  <tbody>\n",
       "    <tr>\n",
       "      <th>0</th>\n",
       "      <td>1</td>\n",
       "      <td>0</td>\n",
       "      <td>3</td>\n",
       "      <td>Braund, Mr. Owen Harris</td>\n",
       "      <td>male</td>\n",
       "      <td>22.0</td>\n",
       "      <td>1</td>\n",
       "      <td>0</td>\n",
       "      <td>A/5 21171</td>\n",
       "      <td>7.2500</td>\n",
       "      <td>NaN</td>\n",
       "      <td>S</td>\n",
       "    </tr>\n",
       "    <tr>\n",
       "      <th>1</th>\n",
       "      <td>2</td>\n",
       "      <td>1</td>\n",
       "      <td>1</td>\n",
       "      <td>Cumings, Mrs. John Bradley (Florence Briggs Th...</td>\n",
       "      <td>female</td>\n",
       "      <td>38.0</td>\n",
       "      <td>1</td>\n",
       "      <td>0</td>\n",
       "      <td>PC 17599</td>\n",
       "      <td>71.2833</td>\n",
       "      <td>C85</td>\n",
       "      <td>C</td>\n",
       "    </tr>\n",
       "    <tr>\n",
       "      <th>2</th>\n",
       "      <td>3</td>\n",
       "      <td>1</td>\n",
       "      <td>3</td>\n",
       "      <td>Heikkinen, Miss. Laina</td>\n",
       "      <td>female</td>\n",
       "      <td>26.0</td>\n",
       "      <td>0</td>\n",
       "      <td>0</td>\n",
       "      <td>STON/O2. 3101282</td>\n",
       "      <td>7.9250</td>\n",
       "      <td>NaN</td>\n",
       "      <td>S</td>\n",
       "    </tr>\n",
       "    <tr>\n",
       "      <th>3</th>\n",
       "      <td>4</td>\n",
       "      <td>1</td>\n",
       "      <td>1</td>\n",
       "      <td>Futrelle, Mrs. Jacques Heath (Lily May Peel)</td>\n",
       "      <td>female</td>\n",
       "      <td>35.0</td>\n",
       "      <td>1</td>\n",
       "      <td>0</td>\n",
       "      <td>113803</td>\n",
       "      <td>53.1000</td>\n",
       "      <td>C123</td>\n",
       "      <td>S</td>\n",
       "    </tr>\n",
       "    <tr>\n",
       "      <th>4</th>\n",
       "      <td>5</td>\n",
       "      <td>0</td>\n",
       "      <td>3</td>\n",
       "      <td>Allen, Mr. William Henry</td>\n",
       "      <td>male</td>\n",
       "      <td>35.0</td>\n",
       "      <td>0</td>\n",
       "      <td>0</td>\n",
       "      <td>373450</td>\n",
       "      <td>8.0500</td>\n",
       "      <td>NaN</td>\n",
       "      <td>S</td>\n",
       "    </tr>\n",
       "  </tbody>\n",
       "</table>\n",
       "</div>"
      ],
      "text/plain": [
       "   PassengerId  Survived  Pclass  \\\n",
       "0            1         0       3   \n",
       "1            2         1       1   \n",
       "2            3         1       3   \n",
       "3            4         1       1   \n",
       "4            5         0       3   \n",
       "\n",
       "                                                Name     Sex   Age  SibSp  \\\n",
       "0                            Braund, Mr. Owen Harris    male  22.0      1   \n",
       "1  Cumings, Mrs. John Bradley (Florence Briggs Th...  female  38.0      1   \n",
       "2                             Heikkinen, Miss. Laina  female  26.0      0   \n",
       "3       Futrelle, Mrs. Jacques Heath (Lily May Peel)  female  35.0      1   \n",
       "4                           Allen, Mr. William Henry    male  35.0      0   \n",
       "\n",
       "   Parch            Ticket     Fare Cabin Embarked  \n",
       "0      0         A/5 21171   7.2500   NaN        S  \n",
       "1      0          PC 17599  71.2833   C85        C  \n",
       "2      0  STON/O2. 3101282   7.9250   NaN        S  \n",
       "3      0            113803  53.1000  C123        S  \n",
       "4      0            373450   8.0500   NaN        S  "
      ]
     },
     "execution_count": 2,
     "metadata": {},
     "output_type": "execute_result"
    }
   ],
   "source": [
    "df = pd.read_csv('data/titanic.csv')\n",
    "df.head()"
   ]
  },
  {
   "cell_type": "code",
   "execution_count": 3,
   "metadata": {},
   "outputs": [
    {
     "name": "stdout",
     "output_type": "stream",
     "text": [
      "<class 'pandas.core.frame.DataFrame'>\n",
      "RangeIndex: 891 entries, 0 to 890\n",
      "Data columns (total 12 columns):\n",
      " #   Column       Non-Null Count  Dtype  \n",
      "---  ------       --------------  -----  \n",
      " 0   PassengerId  891 non-null    int64  \n",
      " 1   Survived     891 non-null    int64  \n",
      " 2   Pclass       891 non-null    int64  \n",
      " 3   Name         891 non-null    object \n",
      " 4   Sex          891 non-null    object \n",
      " 5   Age          714 non-null    float64\n",
      " 6   SibSp        891 non-null    int64  \n",
      " 7   Parch        891 non-null    int64  \n",
      " 8   Ticket       891 non-null    object \n",
      " 9   Fare         891 non-null    float64\n",
      " 10  Cabin        204 non-null    object \n",
      " 11  Embarked     889 non-null    object \n",
      "dtypes: float64(2), int64(5), object(5)\n",
      "memory usage: 83.7+ KB\n"
     ]
    }
   ],
   "source": [
    "df.info()"
   ]
  },
  {
   "cell_type": "code",
   "execution_count": 4,
   "metadata": {},
   "outputs": [
    {
     "name": "stdout",
     "output_type": "stream",
     "text": [
      "<class 'pandas.core.frame.DataFrame'>\n",
      "RangeIndex: 891 entries, 0 to 890\n",
      "Data columns (total 7 columns):\n",
      " #   Column        Non-Null Count  Dtype  \n",
      "---  ------        --------------  -----  \n",
      " 0   Survived      891 non-null    int64  \n",
      " 1   Pclass        891 non-null    int64  \n",
      " 2   Sex           891 non-null    int64  \n",
      " 3   Age           891 non-null    float64\n",
      " 4   Fare          891 non-null    float64\n",
      " 5   Family_count  891 non-null    int64  \n",
      " 6   Cabin_ind     891 non-null    int64  \n",
      "dtypes: float64(2), int64(5)\n",
      "memory usage: 48.9 KB\n"
     ]
    }
   ],
   "source": [
    "# Drop irrelevant columns\n",
    "df.drop(['PassengerId','Name','Ticket'], axis=1, inplace=True)\n",
    "\n",
    "# Fill missing age values with average age\n",
    "df['Age'].fillna(df['Age'].mean(), inplace = True)\n",
    "\n",
    "# Create Family_count from SibSp and Parch\n",
    "df['Family_count'] = df['SibSp'] + df['Parch']\n",
    "\n",
    "# Drop SibSp and Parch\n",
    "df.drop(['SibSp','Parch'], axis=1, inplace=True)\n",
    "\n",
    "# Create Cabin_ind\n",
    "df['Cabin_ind'] = np.where(df['Cabin'].isnull(), 0, 1)\n",
    "\n",
    "# Drop Cabin and Embarked\n",
    "df.drop(['Cabin','Embarked'], axis=1, inplace=True)\n",
    "\n",
    "# Convert sex to numeric indicator\n",
    "gender_map = {'male': 0, 'female': 1}\n",
    "df['Sex'] = df['Sex'].map(gender_map)\n",
    "\n",
    "# View Updated Dataframe Info\n",
    "df.info()"
   ]
  },
  {
   "cell_type": "code",
   "execution_count": 5,
   "metadata": {},
   "outputs": [
    {
     "data": {
      "text/html": [
       "<div>\n",
       "<style scoped>\n",
       "    .dataframe tbody tr th:only-of-type {\n",
       "        vertical-align: middle;\n",
       "    }\n",
       "\n",
       "    .dataframe tbody tr th {\n",
       "        vertical-align: top;\n",
       "    }\n",
       "\n",
       "    .dataframe thead th {\n",
       "        text-align: right;\n",
       "    }\n",
       "</style>\n",
       "<table border=\"1\" class=\"dataframe\">\n",
       "  <thead>\n",
       "    <tr style=\"text-align: right;\">\n",
       "      <th></th>\n",
       "      <th>Survived</th>\n",
       "      <th>Pclass</th>\n",
       "      <th>Sex</th>\n",
       "      <th>Age</th>\n",
       "      <th>Fare</th>\n",
       "      <th>Family_count</th>\n",
       "      <th>Cabin_ind</th>\n",
       "    </tr>\n",
       "  </thead>\n",
       "  <tbody>\n",
       "    <tr>\n",
       "      <th>0</th>\n",
       "      <td>0</td>\n",
       "      <td>3</td>\n",
       "      <td>0</td>\n",
       "      <td>22.0</td>\n",
       "      <td>7.2500</td>\n",
       "      <td>1</td>\n",
       "      <td>0</td>\n",
       "    </tr>\n",
       "    <tr>\n",
       "      <th>1</th>\n",
       "      <td>1</td>\n",
       "      <td>1</td>\n",
       "      <td>1</td>\n",
       "      <td>38.0</td>\n",
       "      <td>71.2833</td>\n",
       "      <td>1</td>\n",
       "      <td>1</td>\n",
       "    </tr>\n",
       "    <tr>\n",
       "      <th>2</th>\n",
       "      <td>1</td>\n",
       "      <td>3</td>\n",
       "      <td>1</td>\n",
       "      <td>26.0</td>\n",
       "      <td>7.9250</td>\n",
       "      <td>0</td>\n",
       "      <td>0</td>\n",
       "    </tr>\n",
       "    <tr>\n",
       "      <th>3</th>\n",
       "      <td>1</td>\n",
       "      <td>1</td>\n",
       "      <td>1</td>\n",
       "      <td>35.0</td>\n",
       "      <td>53.1000</td>\n",
       "      <td>1</td>\n",
       "      <td>1</td>\n",
       "    </tr>\n",
       "    <tr>\n",
       "      <th>4</th>\n",
       "      <td>0</td>\n",
       "      <td>3</td>\n",
       "      <td>0</td>\n",
       "      <td>35.0</td>\n",
       "      <td>8.0500</td>\n",
       "      <td>0</td>\n",
       "      <td>0</td>\n",
       "    </tr>\n",
       "  </tbody>\n",
       "</table>\n",
       "</div>"
      ],
      "text/plain": [
       "   Survived  Pclass  Sex   Age     Fare  Family_count  Cabin_ind\n",
       "0         0       3    0  22.0   7.2500             1          0\n",
       "1         1       1    1  38.0  71.2833             1          1\n",
       "2         1       3    1  26.0   7.9250             0          0\n",
       "3         1       1    1  35.0  53.1000             1          1\n",
       "4         0       3    0  35.0   8.0500             0          0"
      ]
     },
     "execution_count": 5,
     "metadata": {},
     "output_type": "execute_result"
    }
   ],
   "source": [
    "# View first records\n",
    "df.head()"
   ]
  },
  {
   "cell_type": "markdown",
   "metadata": {},
   "source": [
    "# ///////////////////////////////////////////////////\n",
    "\n",
    "# Modeling & Eval Setup\n",
    "\n",
    "# ///////////////////////////////////////////////////"
   ]
  },
  {
   "cell_type": "code",
   "execution_count": 6,
   "metadata": {},
   "outputs": [],
   "source": [
    "# Specify random seed value to ensure results are reproducible\n",
    "# See: https://towardsdatascience.com/how-to-use-random-seeds-effectively-54a4cd855a79\n",
    "seed = 42"
   ]
  },
  {
   "cell_type": "markdown",
   "metadata": {},
   "source": [
    "# Split into Train and Test Sets (70/30)\n",
    "See the [train_test_split docs](https://scikit-learn.org/stable/modules/generated/sklearn.model_selection.train_test_split.html)\n",
    "\n",
    "- Train = 70%\n",
    "- Validation = 30%"
   ]
  },
  {
   "cell_type": "code",
   "execution_count": 7,
   "metadata": {},
   "outputs": [],
   "source": [
    "# All Features\n",
    "all_features = df.drop('Survived', axis=1)\n",
    "\n",
    "# All Labels\n",
    "all_labels = df['Survived']"
   ]
  },
  {
   "cell_type": "code",
   "execution_count": 8,
   "metadata": {},
   "outputs": [
    {
     "name": "stdout",
     "output_type": "stream",
     "text": [
      "Training Features, Labels:\n",
      "623 Records, 623 Labels\n",
      "-----------\n",
      "Test Features, Labels:\n",
      "268 Records, 268 Labels\n"
     ]
    }
   ],
   "source": [
    "# Create 70/30 split: 70% training, 30% test\n",
    "train_features, test_features, train_labels, test_labels = train_test_split(all_features, all_labels, test_size=0.3, random_state=seed)\n",
    "\n",
    "# Report the number of records and labels in each new split:\n",
    "print('Training Features, Labels:')\n",
    "print(f'{train_features.shape[0]} Records, {len(train_labels)} Labels')\n",
    "print('-----------')\n",
    "print('Test Features, Labels:')\n",
    "print(f'{test_features.shape[0]} Records, {len(test_labels)} Labels')"
   ]
  },
  {
   "cell_type": "markdown",
   "metadata": {},
   "source": [
    "# Train and Tune Models using 5-Fold Cross-Validation"
   ]
  },
  {
   "cell_type": "markdown",
   "metadata": {},
   "source": [
    "See the [GridSearchCV docs](https://scikit-learn.org/stable/modules/generated/sklearn.model_selection.GridSearchCV.html)\n",
    "\n",
    "## Setup\n",
    "- Create an empty list to hold our best models\n",
    "- Set fundamental parameters\n",
    "- Define functions to implement gridsearch and report results"
   ]
  },
  {
   "cell_type": "code",
   "execution_count": 9,
   "metadata": {},
   "outputs": [],
   "source": [
    "# Create an empty list to hold our best models\n",
    "models = []\n",
    "\n",
    "# Establish number of splits for k-fold cross-validation\n",
    "k = 5"
   ]
  },
  {
   "cell_type": "markdown",
   "metadata": {},
   "source": [
    "## Logistic Regression ROC_AUC: Train and Tune \n",
    "### Prioritizing ROC_AUC\n",
    "- [GridSearchCV Docs](https://scikit-learn.org/stable/modules/generated/sklearn.model_selection.GridSearchCV.html)\n",
    "- [LogisticRegression Docs](https://scikit-learn.org/stable/modules/generated/sklearn.linear_model.LogisticRegression.html)"
   ]
  },
  {
   "cell_type": "code",
   "execution_count": 10,
   "metadata": {},
   "outputs": [
    {
     "name": "stdout",
     "output_type": "stream",
     "text": [
      "\n",
      "TOP-PERFORMING LR_AUC MODELS\n",
      "Priority: roc_auc\n",
      "\n",
      "Training Latency: 4.4s\n",
      "\n",
      "Top Model: LogisticRegression(C=10, fit_intercept=False, max_iter=500, n_jobs=-1,\n",
      "                   random_state=42)\n",
      "\t77.64 roc_auc score\n",
      "\n",
      "TOP MODELS (ranked by mean_test_roc_auc)\n"
     ]
    },
    {
     "data": {
      "text/html": [
       "<div>\n",
       "<style scoped>\n",
       "    .dataframe tbody tr th:only-of-type {\n",
       "        vertical-align: middle;\n",
       "    }\n",
       "\n",
       "    .dataframe tbody tr th {\n",
       "        vertical-align: top;\n",
       "    }\n",
       "\n",
       "    .dataframe thead th {\n",
       "        text-align: right;\n",
       "    }\n",
       "</style>\n",
       "<table border=\"1\" class=\"dataframe\">\n",
       "  <thead>\n",
       "    <tr style=\"text-align: right;\">\n",
       "      <th></th>\n",
       "      <th>params</th>\n",
       "      <th>rank_test_roc_auc</th>\n",
       "      <th>mean_test_roc_auc</th>\n",
       "      <th>rank_test_recall</th>\n",
       "      <th>mean_test_recall</th>\n",
       "      <th>mean_test_accuracy</th>\n",
       "      <th>mean_test_precision</th>\n",
       "      <th>mean_test_f1</th>\n",
       "    </tr>\n",
       "  </thead>\n",
       "  <tbody>\n",
       "    <tr>\n",
       "      <th>3</th>\n",
       "      <td>{'C': 10}</td>\n",
       "      <td>1</td>\n",
       "      <td>0.776404</td>\n",
       "      <td>1</td>\n",
       "      <td>0.688252</td>\n",
       "      <td>0.799213</td>\n",
       "      <td>0.756260</td>\n",
       "      <td>0.718556</td>\n",
       "    </tr>\n",
       "    <tr>\n",
       "      <th>4</th>\n",
       "      <td>{'C': 100}</td>\n",
       "      <td>1</td>\n",
       "      <td>0.776404</td>\n",
       "      <td>1</td>\n",
       "      <td>0.688252</td>\n",
       "      <td>0.799213</td>\n",
       "      <td>0.756260</td>\n",
       "      <td>0.718556</td>\n",
       "    </tr>\n",
       "    <tr>\n",
       "      <th>5</th>\n",
       "      <td>{'C': 1000}</td>\n",
       "      <td>1</td>\n",
       "      <td>0.776404</td>\n",
       "      <td>1</td>\n",
       "      <td>0.688252</td>\n",
       "      <td>0.799213</td>\n",
       "      <td>0.756260</td>\n",
       "      <td>0.718556</td>\n",
       "    </tr>\n",
       "    <tr>\n",
       "      <th>2</th>\n",
       "      <td>{'C': 1}</td>\n",
       "      <td>4</td>\n",
       "      <td>0.774230</td>\n",
       "      <td>4</td>\n",
       "      <td>0.683904</td>\n",
       "      <td>0.797600</td>\n",
       "      <td>0.754644</td>\n",
       "      <td>0.715528</td>\n",
       "    </tr>\n",
       "    <tr>\n",
       "      <th>1</th>\n",
       "      <td>{'C': 0.01}</td>\n",
       "      <td>5</td>\n",
       "      <td>0.625451</td>\n",
       "      <td>5</td>\n",
       "      <td>0.294265</td>\n",
       "      <td>0.711058</td>\n",
       "      <td>0.806227</td>\n",
       "      <td>0.428589</td>\n",
       "    </tr>\n",
       "    <tr>\n",
       "      <th>0</th>\n",
       "      <td>{'C': 0.001}</td>\n",
       "      <td>6</td>\n",
       "      <td>0.609595</td>\n",
       "      <td>6</td>\n",
       "      <td>0.285661</td>\n",
       "      <td>0.693381</td>\n",
       "      <td>0.730579</td>\n",
       "      <td>0.407987</td>\n",
       "    </tr>\n",
       "  </tbody>\n",
       "</table>\n",
       "</div>"
      ],
      "text/plain": [
       "         params  rank_test_roc_auc  mean_test_roc_auc  rank_test_recall  \\\n",
       "3     {'C': 10}                  1           0.776404                 1   \n",
       "4    {'C': 100}                  1           0.776404                 1   \n",
       "5   {'C': 1000}                  1           0.776404                 1   \n",
       "2      {'C': 1}                  4           0.774230                 4   \n",
       "1   {'C': 0.01}                  5           0.625451                 5   \n",
       "0  {'C': 0.001}                  6           0.609595                 6   \n",
       "\n",
       "   mean_test_recall  mean_test_accuracy  mean_test_precision  mean_test_f1  \n",
       "3          0.688252            0.799213             0.756260      0.718556  \n",
       "4          0.688252            0.799213             0.756260      0.718556  \n",
       "5          0.688252            0.799213             0.756260      0.718556  \n",
       "2          0.683904            0.797600             0.754644      0.715528  \n",
       "1          0.294265            0.711058             0.806227      0.428589  \n",
       "0          0.285661            0.693381             0.730579      0.407987  "
      ]
     },
     "metadata": {},
     "output_type": "display_data"
    }
   ],
   "source": [
    "# Execute GridSearch and Report Results\n",
    "\n",
    "# Specify Algorithm shortname\n",
    "name = 'LR_AUC'\n",
    "\n",
    "# Specify algorithm with desired default parameters\n",
    "# Logistic Regression\n",
    "# https://scikit-learn.org/stable/modules/generated/sklearn.linear_model.LogisticRegression.html\n",
    "algorithm = LogisticRegression(random_state=seed, fit_intercept=False, max_iter=500, n_jobs=-1)\n",
    "\n",
    "# Set parameters for GridSearch, to identify best parameters\n",
    "param_grid = {\n",
    "    'C': [.001, .01, 1, 10, 100, 1000]\n",
    "}\n",
    "\n",
    "# Set priority score for selecting best model\n",
    "priority_score = 'roc_auc'\n",
    "\n",
    "# ///////////////////////////////////////////////////////////////////////\n",
    "\n",
    "# Consistent repeatable process for cross-validating using Gridsearch\n",
    "\n",
    "# ///////////////////////////////////////////////////////////////////////\n",
    "# Set up scorers\n",
    "scoring = {\n",
    "            'roc_auc': make_scorer(roc_auc_score, greater_is_better=True,\n",
    "                     needs_threshold=False),\n",
    "            'recall': make_scorer(recall_score),\n",
    "            'accuracy': make_scorer(accuracy_score),\n",
    "            'precision': make_scorer(precision_score),\n",
    "            'f1': make_scorer(f1_score)\n",
    "          }\n",
    "\n",
    "cv = GridSearchCV(\n",
    "            estimator = algorithm,\n",
    "            param_grid = param_grid, \n",
    "            scoring = scoring,\n",
    "            refit = priority_score, \n",
    "            cv = StratifiedKFold(n_splits=k, random_state=seed, shuffle=True)\n",
    "         )\n",
    "\n",
    "# Keep track of training time\n",
    "start = time()\n",
    "\n",
    "# Activate gridsearch\n",
    "cv.fit(train_features, train_labels)\n",
    "\n",
    "end = time()\n",
    "latency = round((end-start), 2)\n",
    "\n",
    "# Create dataframe from gridsearch cv_results_\n",
    "cv_results = pd.DataFrame.from_dict(cv.cv_results_)\n",
    "\n",
    "# Specify evaluation metrics that we desire from GridSearchCV results\n",
    "metrics = ['params',\n",
    "           'rank_test_roc_auc',\n",
    "           'mean_test_roc_auc',\n",
    "           'rank_test_recall',\n",
    "           'mean_test_recall',\n",
    "           'mean_test_accuracy', \n",
    "           'mean_test_precision',\n",
    "           'mean_test_f1'\n",
    "          ]\n",
    "\n",
    "# Specify desired data from our results dataframe\n",
    "# cv_results_metrics = cv_results.loc[:, metrics]\n",
    "cv_results_metrics = cv_results[metrics].copy()\n",
    "\n",
    "#  Sort values\n",
    "sortby = 'mean_test_' + priority_score\n",
    "cv_results_metrics.sort_values(sortby, ascending=False, inplace=True)\n",
    "\n",
    "# Report results\n",
    "print(f'\\nTOP-PERFORMING {name} MODELS')\n",
    "print(f'Priority: {priority_score}')\n",
    "print()\n",
    "print(f'Training Latency: {latency}s')\n",
    "print()\n",
    "print(f'Top Model: {cv.best_estimator_}')\n",
    "print(f'\\t{round(cv.best_score_*100, 3)} {priority_score} score')\n",
    "\n",
    "print(f'\\nTOP MODELS (ranked by {sortby})')\n",
    "display(cv_results_metrics.head(10))"
   ]
  },
  {
   "cell_type": "code",
   "execution_count": 11,
   "metadata": {},
   "outputs": [
    {
     "data": {
      "text/plain": [
       "0.7764042904483659"
      ]
     },
     "execution_count": 11,
     "metadata": {},
     "output_type": "execute_result"
    }
   ],
   "source": [
    "# Best score is the best mean_test_roc_auc score, as configured in GridSearchCV setup\n",
    "cv.best_score_"
   ]
  },
  {
   "cell_type": "code",
   "execution_count": 12,
   "metadata": {
    "scrolled": true
   },
   "outputs": [
    {
     "data": {
      "text/plain": [
       "LogisticRegression(C=10, fit_intercept=False, max_iter=500, n_jobs=-1,\n",
       "                   random_state=42)"
      ]
     },
     "execution_count": 12,
     "metadata": {},
     "output_type": "execute_result"
    }
   ],
   "source": [
    "# Best estimator is the model with the best mean_test_roc_auc score\n",
    "cv.best_estimator_"
   ]
  },
  {
   "cell_type": "code",
   "execution_count": 13,
   "metadata": {},
   "outputs": [
    {
     "data": {
      "text/plain": [
       "{'C': 10}"
      ]
     },
     "execution_count": 13,
     "metadata": {},
     "output_type": "execute_result"
    }
   ],
   "source": [
    "# Best params are the params for the best estimator\n",
    "cv.best_params_"
   ]
  },
  {
   "cell_type": "code",
   "execution_count": 14,
   "metadata": {},
   "outputs": [],
   "source": [
    "# If desired, use this to view the entire GridSearch CV results object\n",
    "# gs.cv_results_"
   ]
  },
  {
   "cell_type": "markdown",
   "metadata": {},
   "source": [
    "### Store the best model to our models list"
   ]
  },
  {
   "cell_type": "code",
   "execution_count": 15,
   "metadata": {
    "scrolled": true
   },
   "outputs": [
    {
     "name": "stdout",
     "output_type": "stream",
     "text": [
      "LR_AUC MODEL {'C': 10}\n",
      "\t Score: 77.64\n",
      "\n"
     ]
    }
   ],
   "source": [
    "# Auto-add model information to models list\n",
    "model = cv.best_estimator_\n",
    "params = cv.best_params_\n",
    "score = round(cv.best_score_ * 100, 3)\n",
    "models.append({'Name': name, 'Params': params, 'Model': model, 'Score': score})\n",
    "for m in models:\n",
    "    print(f'{m[\"Name\"]} MODEL {m[\"Params\"]}\\n\\t Score: {m[\"Score\"]}\\n')"
   ]
  },
  {
   "cell_type": "code",
   "execution_count": 16,
   "metadata": {
    "scrolled": false
   },
   "outputs": [
    {
     "data": {
      "text/plain": [
       "LogisticRegression(C=10, fit_intercept=False, max_iter=500, n_jobs=-1,\n",
       "                   random_state=42)"
      ]
     },
     "execution_count": 16,
     "metadata": {},
     "output_type": "execute_result"
    }
   ],
   "source": [
    "# Store LR model to its own variable\n",
    "LR_AUCmodel = cv.best_estimator_\n",
    "LR_AUCmodel"
   ]
  },
  {
   "cell_type": "markdown",
   "metadata": {},
   "source": [
    "## Logistic Regression Recall: Train and Tune \n",
    "### Prioritizing Recall\n",
    "\n",
    "**_Let's compare the results when we prioritize Recall Score._**"
   ]
  },
  {
   "cell_type": "code",
   "execution_count": 17,
   "metadata": {},
   "outputs": [
    {
     "name": "stdout",
     "output_type": "stream",
     "text": [
      "\n",
      "TOP-PERFORMING LR_Recall MODELS\n",
      "Priority: recall\n",
      "\n",
      "Training Latency: 1.83s\n",
      "\n",
      "Top Model: LogisticRegression(C=10, fit_intercept=False, max_iter=500, n_jobs=-1,\n",
      "                   random_state=42)\n",
      "\t68.825 recall score\n",
      "\n",
      "TOP MODELS (ranked by mean_test_recall)\n"
     ]
    },
    {
     "data": {
      "text/html": [
       "<div>\n",
       "<style scoped>\n",
       "    .dataframe tbody tr th:only-of-type {\n",
       "        vertical-align: middle;\n",
       "    }\n",
       "\n",
       "    .dataframe tbody tr th {\n",
       "        vertical-align: top;\n",
       "    }\n",
       "\n",
       "    .dataframe thead th {\n",
       "        text-align: right;\n",
       "    }\n",
       "</style>\n",
       "<table border=\"1\" class=\"dataframe\">\n",
       "  <thead>\n",
       "    <tr style=\"text-align: right;\">\n",
       "      <th></th>\n",
       "      <th>params</th>\n",
       "      <th>rank_test_roc_auc</th>\n",
       "      <th>mean_test_roc_auc</th>\n",
       "      <th>rank_test_recall</th>\n",
       "      <th>mean_test_recall</th>\n",
       "      <th>mean_test_accuracy</th>\n",
       "      <th>mean_test_precision</th>\n",
       "      <th>mean_test_f1</th>\n",
       "    </tr>\n",
       "  </thead>\n",
       "  <tbody>\n",
       "    <tr>\n",
       "      <th>3</th>\n",
       "      <td>{'C': 10}</td>\n",
       "      <td>1</td>\n",
       "      <td>0.776404</td>\n",
       "      <td>1</td>\n",
       "      <td>0.688252</td>\n",
       "      <td>0.799213</td>\n",
       "      <td>0.756260</td>\n",
       "      <td>0.718556</td>\n",
       "    </tr>\n",
       "    <tr>\n",
       "      <th>4</th>\n",
       "      <td>{'C': 100}</td>\n",
       "      <td>1</td>\n",
       "      <td>0.776404</td>\n",
       "      <td>1</td>\n",
       "      <td>0.688252</td>\n",
       "      <td>0.799213</td>\n",
       "      <td>0.756260</td>\n",
       "      <td>0.718556</td>\n",
       "    </tr>\n",
       "    <tr>\n",
       "      <th>5</th>\n",
       "      <td>{'C': 1000}</td>\n",
       "      <td>1</td>\n",
       "      <td>0.776404</td>\n",
       "      <td>1</td>\n",
       "      <td>0.688252</td>\n",
       "      <td>0.799213</td>\n",
       "      <td>0.756260</td>\n",
       "      <td>0.718556</td>\n",
       "    </tr>\n",
       "    <tr>\n",
       "      <th>2</th>\n",
       "      <td>{'C': 1}</td>\n",
       "      <td>4</td>\n",
       "      <td>0.774230</td>\n",
       "      <td>4</td>\n",
       "      <td>0.683904</td>\n",
       "      <td>0.797600</td>\n",
       "      <td>0.754644</td>\n",
       "      <td>0.715528</td>\n",
       "    </tr>\n",
       "    <tr>\n",
       "      <th>1</th>\n",
       "      <td>{'C': 0.01}</td>\n",
       "      <td>5</td>\n",
       "      <td>0.625451</td>\n",
       "      <td>5</td>\n",
       "      <td>0.294265</td>\n",
       "      <td>0.711058</td>\n",
       "      <td>0.806227</td>\n",
       "      <td>0.428589</td>\n",
       "    </tr>\n",
       "    <tr>\n",
       "      <th>0</th>\n",
       "      <td>{'C': 0.001}</td>\n",
       "      <td>6</td>\n",
       "      <td>0.609595</td>\n",
       "      <td>6</td>\n",
       "      <td>0.285661</td>\n",
       "      <td>0.693381</td>\n",
       "      <td>0.730579</td>\n",
       "      <td>0.407987</td>\n",
       "    </tr>\n",
       "  </tbody>\n",
       "</table>\n",
       "</div>"
      ],
      "text/plain": [
       "         params  rank_test_roc_auc  mean_test_roc_auc  rank_test_recall  \\\n",
       "3     {'C': 10}                  1           0.776404                 1   \n",
       "4    {'C': 100}                  1           0.776404                 1   \n",
       "5   {'C': 1000}                  1           0.776404                 1   \n",
       "2      {'C': 1}                  4           0.774230                 4   \n",
       "1   {'C': 0.01}                  5           0.625451                 5   \n",
       "0  {'C': 0.001}                  6           0.609595                 6   \n",
       "\n",
       "   mean_test_recall  mean_test_accuracy  mean_test_precision  mean_test_f1  \n",
       "3          0.688252            0.799213             0.756260      0.718556  \n",
       "4          0.688252            0.799213             0.756260      0.718556  \n",
       "5          0.688252            0.799213             0.756260      0.718556  \n",
       "2          0.683904            0.797600             0.754644      0.715528  \n",
       "1          0.294265            0.711058             0.806227      0.428589  \n",
       "0          0.285661            0.693381             0.730579      0.407987  "
      ]
     },
     "metadata": {},
     "output_type": "display_data"
    }
   ],
   "source": [
    "# Execute GridSearch and Report Results\n",
    "\n",
    "# Specify Algorithm shortname\n",
    "name = 'LR_Recall'\n",
    "\n",
    "# Specify algorithm with desired default parameters\n",
    "# Logistic Regression\n",
    "# https://scikit-learn.org/stable/modules/generated/sklearn.linear_model.LogisticRegression.html\n",
    "algorithm = LogisticRegression(random_state=seed, fit_intercept=False, max_iter=500, n_jobs=-1)\n",
    "\n",
    "# Set parameters for GridSearch, to identify best parameters\n",
    "param_grid = {\n",
    "    'C': [.001, .01, 1, 10, 100, 1000]\n",
    "}\n",
    "\n",
    "# Set priority score for selecting best model\n",
    "priority_score = 'recall'\n",
    "\n",
    "# ///////////////////////////////////////////////////////////////////////\n",
    "\n",
    "# Consistent repeatable process for cross-validating using Gridsearch\n",
    "\n",
    "# ///////////////////////////////////////////////////////////////////////\n",
    "# Set up scorers\n",
    "scoring = {\n",
    "            'roc_auc': make_scorer(roc_auc_score, greater_is_better=True,\n",
    "                     needs_threshold=False),\n",
    "            'recall': make_scorer(recall_score),\n",
    "            'accuracy': make_scorer(accuracy_score),\n",
    "            'precision': make_scorer(precision_score),\n",
    "            'f1': make_scorer(f1_score)\n",
    "          }\n",
    "\n",
    "cv = GridSearchCV(\n",
    "            estimator = algorithm,\n",
    "            param_grid = param_grid, \n",
    "            scoring = scoring,\n",
    "            refit = priority_score, \n",
    "            cv = StratifiedKFold(n_splits=k, random_state=seed, shuffle=True)\n",
    "         )\n",
    "\n",
    "# Keep track of training time\n",
    "start = time()\n",
    "\n",
    "# Activate gridsearch\n",
    "cv.fit(train_features, train_labels)\n",
    "\n",
    "end = time()\n",
    "latency = round((end-start), 2)\n",
    "\n",
    "# Create dataframe from gridsearch cv_results_\n",
    "cv_results = pd.DataFrame.from_dict(cv.cv_results_)\n",
    "\n",
    "# Specify evaluation metrics that we desire from GridSearchCV results\n",
    "metrics = ['params',\n",
    "           'rank_test_roc_auc',\n",
    "           'mean_test_roc_auc',\n",
    "           'rank_test_recall',\n",
    "           'mean_test_recall',\n",
    "           'mean_test_accuracy', \n",
    "           'mean_test_precision',\n",
    "           'mean_test_f1'\n",
    "          ]\n",
    "\n",
    "# Specify desired data from our results dataframe\n",
    "# cv_results_metrics = cv_results.loc[:, metrics]\n",
    "cv_results_metrics = cv_results[metrics].copy()\n",
    "\n",
    "#  Sort values\n",
    "sortby = 'mean_test_' + priority_score\n",
    "cv_results_metrics.sort_values(sortby, ascending=False, inplace=True)\n",
    "\n",
    "# Report results\n",
    "print(f'\\nTOP-PERFORMING {name} MODELS')\n",
    "print(f'Priority: {priority_score}')\n",
    "print()\n",
    "print(f'Training Latency: {latency}s')\n",
    "print()\n",
    "print(f'Top Model: {cv.best_estimator_}')\n",
    "print(f'\\t{round(cv.best_score_*100, 3)} {priority_score} score')\n",
    "\n",
    "print(f'\\nTOP MODELS (ranked by {sortby})')\n",
    "display(cv_results_metrics.head(10))"
   ]
  },
  {
   "cell_type": "markdown",
   "metadata": {},
   "source": [
    "**_The same model scored highest in recall. We do not need to add it again to our models list._**"
   ]
  },
  {
   "cell_type": "code",
   "execution_count": 18,
   "metadata": {
    "scrolled": true
   },
   "outputs": [],
   "source": [
    "# # Auto-add model information to models list\n",
    "# model = cv.best_estimator_\n",
    "# params = cv.best_params_\n",
    "# score = round(cv.best_score_ * 100, 3)\n",
    "# models.append({'Name': name, 'Params': params, 'Model': model, 'Score': score})\n",
    "# for m in models:\n",
    "#     print(f'{m[\"Name\"]} MODEL {m[\"Params\"]}\\n\\t Score: {m[\"Score\"]}\\n')"
   ]
  },
  {
   "cell_type": "code",
   "execution_count": 19,
   "metadata": {
    "scrolled": true
   },
   "outputs": [],
   "source": [
    "# # Store LR model to its own variable\n",
    "# LR_Recallmodel = cv.best_estimator_\n",
    "# LR_Recallmodel"
   ]
  },
  {
   "cell_type": "markdown",
   "metadata": {},
   "source": [
    "## Random Forest ROC_AUC: Train and Tune \n",
    "### Prioritizing ROC_AUC Score\n",
    "\n",
    "- [Random Forest Classifier Docs](https://scikit-learn.org/stable/modules/generated/sklearn.ensemble.RandomForestClassifier.html)"
   ]
  },
  {
   "cell_type": "code",
   "execution_count": 20,
   "metadata": {
    "scrolled": false
   },
   "outputs": [
    {
     "name": "stdout",
     "output_type": "stream",
     "text": [
      "\n",
      "TOP-PERFORMING RF_AUC MODELS\n",
      "Priority: roc_auc\n",
      "\n",
      "Training Latency: 10.85s\n",
      "\n",
      "Top Model: RandomForestClassifier(max_depth=8, n_estimators=250)\n",
      "\t79.648 roc_auc score\n",
      "\n",
      "TOP MODELS (ranked by mean_test_roc_auc)\n"
     ]
    },
    {
     "data": {
      "text/html": [
       "<div>\n",
       "<style scoped>\n",
       "    .dataframe tbody tr th:only-of-type {\n",
       "        vertical-align: middle;\n",
       "    }\n",
       "\n",
       "    .dataframe tbody tr th {\n",
       "        vertical-align: top;\n",
       "    }\n",
       "\n",
       "    .dataframe thead th {\n",
       "        text-align: right;\n",
       "    }\n",
       "</style>\n",
       "<table border=\"1\" class=\"dataframe\">\n",
       "  <thead>\n",
       "    <tr style=\"text-align: right;\">\n",
       "      <th></th>\n",
       "      <th>params</th>\n",
       "      <th>rank_test_roc_auc</th>\n",
       "      <th>mean_test_roc_auc</th>\n",
       "      <th>rank_test_recall</th>\n",
       "      <th>mean_test_recall</th>\n",
       "      <th>mean_test_accuracy</th>\n",
       "      <th>mean_test_precision</th>\n",
       "      <th>mean_test_f1</th>\n",
       "    </tr>\n",
       "  </thead>\n",
       "  <tbody>\n",
       "    <tr>\n",
       "      <th>8</th>\n",
       "      <td>{'max_depth': 8, 'n_estimators': 250}</td>\n",
       "      <td>1</td>\n",
       "      <td>0.796477</td>\n",
       "      <td>9</td>\n",
       "      <td>0.674746</td>\n",
       "      <td>0.828129</td>\n",
       "      <td>0.834367</td>\n",
       "      <td>0.743593</td>\n",
       "    </tr>\n",
       "    <tr>\n",
       "      <th>7</th>\n",
       "      <td>{'max_depth': 8, 'n_estimators': 50}</td>\n",
       "      <td>2</td>\n",
       "      <td>0.794271</td>\n",
       "      <td>10</td>\n",
       "      <td>0.670398</td>\n",
       "      <td>0.826516</td>\n",
       "      <td>0.835376</td>\n",
       "      <td>0.740349</td>\n",
       "    </tr>\n",
       "    <tr>\n",
       "      <th>11</th>\n",
       "      <td>{'max_depth': 16, 'n_estimators': 250}</td>\n",
       "      <td>3</td>\n",
       "      <td>0.792189</td>\n",
       "      <td>2</td>\n",
       "      <td>0.709436</td>\n",
       "      <td>0.813716</td>\n",
       "      <td>0.771062</td>\n",
       "      <td>0.737765</td>\n",
       "    </tr>\n",
       "    <tr>\n",
       "      <th>14</th>\n",
       "      <td>{'max_depth': 32, 'n_estimators': 250}</td>\n",
       "      <td>4</td>\n",
       "      <td>0.792092</td>\n",
       "      <td>6</td>\n",
       "      <td>0.696485</td>\n",
       "      <td>0.816942</td>\n",
       "      <td>0.788963</td>\n",
       "      <td>0.737915</td>\n",
       "    </tr>\n",
       "    <tr>\n",
       "      <th>16</th>\n",
       "      <td>{'max_depth': None, 'n_estimators': 50}</td>\n",
       "      <td>5</td>\n",
       "      <td>0.791376</td>\n",
       "      <td>3</td>\n",
       "      <td>0.705180</td>\n",
       "      <td>0.813742</td>\n",
       "      <td>0.774666</td>\n",
       "      <td>0.736975</td>\n",
       "    </tr>\n",
       "    <tr>\n",
       "      <th>17</th>\n",
       "      <td>{'max_depth': None, 'n_estimators': 250}</td>\n",
       "      <td>6</td>\n",
       "      <td>0.787888</td>\n",
       "      <td>5</td>\n",
       "      <td>0.700833</td>\n",
       "      <td>0.810490</td>\n",
       "      <td>0.769246</td>\n",
       "      <td>0.732046</td>\n",
       "    </tr>\n",
       "    <tr>\n",
       "      <th>13</th>\n",
       "      <td>{'max_depth': 32, 'n_estimators': 50}</td>\n",
       "      <td>7</td>\n",
       "      <td>0.787872</td>\n",
       "      <td>4</td>\n",
       "      <td>0.700833</td>\n",
       "      <td>0.810503</td>\n",
       "      <td>0.772285</td>\n",
       "      <td>0.732979</td>\n",
       "    </tr>\n",
       "    <tr>\n",
       "      <th>6</th>\n",
       "      <td>{'max_depth': 8, 'n_estimators': 5}</td>\n",
       "      <td>8</td>\n",
       "      <td>0.787611</td>\n",
       "      <td>12</td>\n",
       "      <td>0.661980</td>\n",
       "      <td>0.820181</td>\n",
       "      <td>0.824725</td>\n",
       "      <td>0.730865</td>\n",
       "    </tr>\n",
       "    <tr>\n",
       "      <th>10</th>\n",
       "      <td>{'max_depth': 16, 'n_estimators': 50}</td>\n",
       "      <td>9</td>\n",
       "      <td>0.786399</td>\n",
       "      <td>8</td>\n",
       "      <td>0.687697</td>\n",
       "      <td>0.812077</td>\n",
       "      <td>0.783838</td>\n",
       "      <td>0.729691</td>\n",
       "    </tr>\n",
       "    <tr>\n",
       "      <th>15</th>\n",
       "      <td>{'max_depth': None, 'n_estimators': 5}</td>\n",
       "      <td>10</td>\n",
       "      <td>0.782874</td>\n",
       "      <td>1</td>\n",
       "      <td>0.713784</td>\n",
       "      <td>0.800890</td>\n",
       "      <td>0.744811</td>\n",
       "      <td>0.726158</td>\n",
       "    </tr>\n",
       "  </tbody>\n",
       "</table>\n",
       "</div>"
      ],
      "text/plain": [
       "                                      params  rank_test_roc_auc  \\\n",
       "8      {'max_depth': 8, 'n_estimators': 250}                  1   \n",
       "7       {'max_depth': 8, 'n_estimators': 50}                  2   \n",
       "11    {'max_depth': 16, 'n_estimators': 250}                  3   \n",
       "14    {'max_depth': 32, 'n_estimators': 250}                  4   \n",
       "16   {'max_depth': None, 'n_estimators': 50}                  5   \n",
       "17  {'max_depth': None, 'n_estimators': 250}                  6   \n",
       "13     {'max_depth': 32, 'n_estimators': 50}                  7   \n",
       "6        {'max_depth': 8, 'n_estimators': 5}                  8   \n",
       "10     {'max_depth': 16, 'n_estimators': 50}                  9   \n",
       "15    {'max_depth': None, 'n_estimators': 5}                 10   \n",
       "\n",
       "    mean_test_roc_auc  rank_test_recall  mean_test_recall  mean_test_accuracy  \\\n",
       "8            0.796477                 9          0.674746            0.828129   \n",
       "7            0.794271                10          0.670398            0.826516   \n",
       "11           0.792189                 2          0.709436            0.813716   \n",
       "14           0.792092                 6          0.696485            0.816942   \n",
       "16           0.791376                 3          0.705180            0.813742   \n",
       "17           0.787888                 5          0.700833            0.810490   \n",
       "13           0.787872                 4          0.700833            0.810503   \n",
       "6            0.787611                12          0.661980            0.820181   \n",
       "10           0.786399                 8          0.687697            0.812077   \n",
       "15           0.782874                 1          0.713784            0.800890   \n",
       "\n",
       "    mean_test_precision  mean_test_f1  \n",
       "8              0.834367      0.743593  \n",
       "7              0.835376      0.740349  \n",
       "11             0.771062      0.737765  \n",
       "14             0.788963      0.737915  \n",
       "16             0.774666      0.736975  \n",
       "17             0.769246      0.732046  \n",
       "13             0.772285      0.732979  \n",
       "6              0.824725      0.730865  \n",
       "10             0.783838      0.729691  \n",
       "15             0.744811      0.726158  "
      ]
     },
     "metadata": {},
     "output_type": "display_data"
    }
   ],
   "source": [
    "# Execute GridSearch and Report Results\n",
    "\n",
    "# Specify Algorithm shortname\n",
    "name = 'RF_AUC'\n",
    "\n",
    "# Specify algorithm with desired default parameters\n",
    "algorithm = RandomForestClassifier()\n",
    "\n",
    "# Set parameters for GridSearch, to identify best parameters\n",
    "param_grid = {\n",
    "    'max_depth': [2, 4, 8, 16, 32, None],\n",
    "    'n_estimators': [5, 50, 250]\n",
    "}\n",
    "\n",
    "# Set priority score for selecting best model\n",
    "priority_score = 'roc_auc'\n",
    "\n",
    "# ///////////////////////////////////////////////////////////////////////\n",
    "\n",
    "# Consistent repeatable process for cross-validating using Gridsearch\n",
    "\n",
    "# ///////////////////////////////////////////////////////////////////////\n",
    "# Set up scorers\n",
    "scoring = {\n",
    "            'roc_auc': make_scorer(roc_auc_score, greater_is_better=True,\n",
    "                     needs_threshold=False),\n",
    "            'recall': make_scorer(recall_score),\n",
    "            'accuracy': make_scorer(accuracy_score),\n",
    "            'precision': make_scorer(precision_score),\n",
    "            'f1': make_scorer(f1_score)\n",
    "          }\n",
    "\n",
    "cv = GridSearchCV(\n",
    "            estimator = algorithm,\n",
    "            param_grid = param_grid, \n",
    "            scoring = scoring,\n",
    "            refit = priority_score, \n",
    "            cv = StratifiedKFold(n_splits=k, random_state=seed, shuffle=True)\n",
    "         )\n",
    "\n",
    "# Keep track of training time\n",
    "start = time()\n",
    "\n",
    "# Activate gridsearch\n",
    "cv.fit(train_features, train_labels)\n",
    "\n",
    "end = time()\n",
    "latency = round((end-start), 2)\n",
    "\n",
    "# Create dataframe from gridsearch cv_results_\n",
    "cv_results = pd.DataFrame.from_dict(cv.cv_results_)\n",
    "\n",
    "# Specify evaluation metrics that we desire from GridSearchCV results\n",
    "metrics = ['params',\n",
    "           'rank_test_roc_auc',\n",
    "           'mean_test_roc_auc',\n",
    "           'rank_test_recall',\n",
    "           'mean_test_recall',\n",
    "           'mean_test_accuracy', \n",
    "           'mean_test_precision',\n",
    "           'mean_test_f1'\n",
    "          ]\n",
    "\n",
    "# Specify desired data from our results dataframe\n",
    "# cv_results_metrics = cv_results.loc[:, metrics]\n",
    "cv_results_metrics = cv_results[metrics].copy()\n",
    "\n",
    "#  Sort values\n",
    "sortby = 'mean_test_' + priority_score\n",
    "cv_results_metrics.sort_values(sortby, ascending=False, inplace=True)\n",
    "\n",
    "# Report results\n",
    "print(f'\\nTOP-PERFORMING {name} MODELS')\n",
    "print(f'Priority: {priority_score}')\n",
    "print()\n",
    "print(f'Training Latency: {latency}s')\n",
    "print()\n",
    "print(f'Top Model: {cv.best_estimator_}')\n",
    "print(f'\\t{round(cv.best_score_*100, 3)} {priority_score} score')\n",
    "\n",
    "print(f'\\nTOP MODELS (ranked by {sortby})')\n",
    "display(cv_results_metrics.head(10))"
   ]
  },
  {
   "cell_type": "markdown",
   "metadata": {},
   "source": [
    "### Store the best model to our models list"
   ]
  },
  {
   "cell_type": "code",
   "execution_count": 21,
   "metadata": {
    "scrolled": false
   },
   "outputs": [
    {
     "name": "stdout",
     "output_type": "stream",
     "text": [
      "LR_AUC MODEL {'C': 10}\n",
      "\t Score: 77.64\n",
      "\n",
      "RF_AUC MODEL {'max_depth': 8, 'n_estimators': 250}\n",
      "\t Score: 79.648\n",
      "\n"
     ]
    }
   ],
   "source": [
    "# Auto-add model information to models list\n",
    "model = cv.best_estimator_\n",
    "params = cv.best_params_\n",
    "score = round(cv.best_score_ * 100, 3)\n",
    "models.append({'Name': name, 'Params': params, 'Model': model, 'Score': score})\n",
    "for m in models:\n",
    "    print(f'{m[\"Name\"]} MODEL {m[\"Params\"]}\\n\\t Score: {m[\"Score\"]}\\n')"
   ]
  },
  {
   "cell_type": "code",
   "execution_count": 22,
   "metadata": {
    "scrolled": false
   },
   "outputs": [
    {
     "data": {
      "text/plain": [
       "RandomForestClassifier(max_depth=8, n_estimators=250)"
      ]
     },
     "execution_count": 22,
     "metadata": {},
     "output_type": "execute_result"
    }
   ],
   "source": [
    "# Store LR model to its own variable\n",
    "RF_AUCmodel = cv.best_estimator_\n",
    "RF_AUCmodel"
   ]
  },
  {
   "cell_type": "markdown",
   "metadata": {},
   "source": [
    "## Random Forest Recall: Train and Tune \n",
    "### Prioritizing Recall Score"
   ]
  },
  {
   "cell_type": "code",
   "execution_count": 23,
   "metadata": {
    "scrolled": false
   },
   "outputs": [
    {
     "name": "stdout",
     "output_type": "stream",
     "text": [
      "\n",
      "TOP-PERFORMING RF_Recall MODELS\n",
      "Priority: recall\n",
      "\n",
      "Training Latency: 10.62s\n",
      "\n",
      "Top Model: RandomForestClassifier(max_depth=16, n_estimators=5)\n",
      "\t71.397 recall score\n",
      "\n",
      "TOP MODELS (ranked by mean_test_recall)\n"
     ]
    },
    {
     "data": {
      "text/html": [
       "<div>\n",
       "<style scoped>\n",
       "    .dataframe tbody tr th:only-of-type {\n",
       "        vertical-align: middle;\n",
       "    }\n",
       "\n",
       "    .dataframe tbody tr th {\n",
       "        vertical-align: top;\n",
       "    }\n",
       "\n",
       "    .dataframe thead th {\n",
       "        text-align: right;\n",
       "    }\n",
       "</style>\n",
       "<table border=\"1\" class=\"dataframe\">\n",
       "  <thead>\n",
       "    <tr style=\"text-align: right;\">\n",
       "      <th></th>\n",
       "      <th>params</th>\n",
       "      <th>rank_test_roc_auc</th>\n",
       "      <th>mean_test_roc_auc</th>\n",
       "      <th>rank_test_recall</th>\n",
       "      <th>mean_test_recall</th>\n",
       "      <th>mean_test_accuracy</th>\n",
       "      <th>mean_test_precision</th>\n",
       "      <th>mean_test_f1</th>\n",
       "    </tr>\n",
       "  </thead>\n",
       "  <tbody>\n",
       "    <tr>\n",
       "      <th>9</th>\n",
       "      <td>{'max_depth': 16, 'n_estimators': 5}</td>\n",
       "      <td>13</td>\n",
       "      <td>0.777870</td>\n",
       "      <td>1</td>\n",
       "      <td>0.713969</td>\n",
       "      <td>0.794439</td>\n",
       "      <td>0.725852</td>\n",
       "      <td>0.719329</td>\n",
       "    </tr>\n",
       "    <tr>\n",
       "      <th>14</th>\n",
       "      <td>{'max_depth': 32, 'n_estimators': 250}</td>\n",
       "      <td>5</td>\n",
       "      <td>0.796911</td>\n",
       "      <td>2</td>\n",
       "      <td>0.713784</td>\n",
       "      <td>0.818516</td>\n",
       "      <td>0.780303</td>\n",
       "      <td>0.743918</td>\n",
       "    </tr>\n",
       "    <tr>\n",
       "      <th>10</th>\n",
       "      <td>{'max_depth': 16, 'n_estimators': 50}</td>\n",
       "      <td>4</td>\n",
       "      <td>0.797331</td>\n",
       "      <td>3</td>\n",
       "      <td>0.709528</td>\n",
       "      <td>0.820168</td>\n",
       "      <td>0.787123</td>\n",
       "      <td>0.744846</td>\n",
       "    </tr>\n",
       "    <tr>\n",
       "      <th>13</th>\n",
       "      <td>{'max_depth': 32, 'n_estimators': 50}</td>\n",
       "      <td>2</td>\n",
       "      <td>0.799879</td>\n",
       "      <td>3</td>\n",
       "      <td>0.709528</td>\n",
       "      <td>0.823342</td>\n",
       "      <td>0.794506</td>\n",
       "      <td>0.748369</td>\n",
       "    </tr>\n",
       "    <tr>\n",
       "      <th>11</th>\n",
       "      <td>{'max_depth': 16, 'n_estimators': 250}</td>\n",
       "      <td>7</td>\n",
       "      <td>0.794721</td>\n",
       "      <td>5</td>\n",
       "      <td>0.709436</td>\n",
       "      <td>0.816903</td>\n",
       "      <td>0.778585</td>\n",
       "      <td>0.740750</td>\n",
       "    </tr>\n",
       "    <tr>\n",
       "      <th>17</th>\n",
       "      <td>{'max_depth': None, 'n_estimators': 250}</td>\n",
       "      <td>8</td>\n",
       "      <td>0.793813</td>\n",
       "      <td>6</td>\n",
       "      <td>0.705088</td>\n",
       "      <td>0.816877</td>\n",
       "      <td>0.781009</td>\n",
       "      <td>0.739481</td>\n",
       "    </tr>\n",
       "    <tr>\n",
       "      <th>6</th>\n",
       "      <td>{'max_depth': 8, 'n_estimators': 5}</td>\n",
       "      <td>3</td>\n",
       "      <td>0.798500</td>\n",
       "      <td>7</td>\n",
       "      <td>0.696577</td>\n",
       "      <td>0.824968</td>\n",
       "      <td>0.806635</td>\n",
       "      <td>0.746365</td>\n",
       "    </tr>\n",
       "    <tr>\n",
       "      <th>16</th>\n",
       "      <td>{'max_depth': None, 'n_estimators': 50}</td>\n",
       "      <td>9</td>\n",
       "      <td>0.788262</td>\n",
       "      <td>8</td>\n",
       "      <td>0.696485</td>\n",
       "      <td>0.812129</td>\n",
       "      <td>0.778523</td>\n",
       "      <td>0.733218</td>\n",
       "    </tr>\n",
       "    <tr>\n",
       "      <th>12</th>\n",
       "      <td>{'max_depth': 32, 'n_estimators': 5}</td>\n",
       "      <td>15</td>\n",
       "      <td>0.766968</td>\n",
       "      <td>9</td>\n",
       "      <td>0.692229</td>\n",
       "      <td>0.786413</td>\n",
       "      <td>0.723892</td>\n",
       "      <td>0.705822</td>\n",
       "    </tr>\n",
       "    <tr>\n",
       "      <th>15</th>\n",
       "      <td>{'max_depth': None, 'n_estimators': 5}</td>\n",
       "      <td>14</td>\n",
       "      <td>0.775896</td>\n",
       "      <td>10</td>\n",
       "      <td>0.692137</td>\n",
       "      <td>0.797652</td>\n",
       "      <td>0.746292</td>\n",
       "      <td>0.715146</td>\n",
       "    </tr>\n",
       "  </tbody>\n",
       "</table>\n",
       "</div>"
      ],
      "text/plain": [
       "                                      params  rank_test_roc_auc  \\\n",
       "9       {'max_depth': 16, 'n_estimators': 5}                 13   \n",
       "14    {'max_depth': 32, 'n_estimators': 250}                  5   \n",
       "10     {'max_depth': 16, 'n_estimators': 50}                  4   \n",
       "13     {'max_depth': 32, 'n_estimators': 50}                  2   \n",
       "11    {'max_depth': 16, 'n_estimators': 250}                  7   \n",
       "17  {'max_depth': None, 'n_estimators': 250}                  8   \n",
       "6        {'max_depth': 8, 'n_estimators': 5}                  3   \n",
       "16   {'max_depth': None, 'n_estimators': 50}                  9   \n",
       "12      {'max_depth': 32, 'n_estimators': 5}                 15   \n",
       "15    {'max_depth': None, 'n_estimators': 5}                 14   \n",
       "\n",
       "    mean_test_roc_auc  rank_test_recall  mean_test_recall  mean_test_accuracy  \\\n",
       "9            0.777870                 1          0.713969            0.794439   \n",
       "14           0.796911                 2          0.713784            0.818516   \n",
       "10           0.797331                 3          0.709528            0.820168   \n",
       "13           0.799879                 3          0.709528            0.823342   \n",
       "11           0.794721                 5          0.709436            0.816903   \n",
       "17           0.793813                 6          0.705088            0.816877   \n",
       "6            0.798500                 7          0.696577            0.824968   \n",
       "16           0.788262                 8          0.696485            0.812129   \n",
       "12           0.766968                 9          0.692229            0.786413   \n",
       "15           0.775896                10          0.692137            0.797652   \n",
       "\n",
       "    mean_test_precision  mean_test_f1  \n",
       "9              0.725852      0.719329  \n",
       "14             0.780303      0.743918  \n",
       "10             0.787123      0.744846  \n",
       "13             0.794506      0.748369  \n",
       "11             0.778585      0.740750  \n",
       "17             0.781009      0.739481  \n",
       "6              0.806635      0.746365  \n",
       "16             0.778523      0.733218  \n",
       "12             0.723892      0.705822  \n",
       "15             0.746292      0.715146  "
      ]
     },
     "metadata": {},
     "output_type": "display_data"
    }
   ],
   "source": [
    "# Execute GridSearch and Report Results\n",
    "\n",
    "# Specify Algorithm shortname\n",
    "name = 'RF_Recall'\n",
    "\n",
    "# Specify algorithm with desired default parameters\n",
    "algorithm = RandomForestClassifier()\n",
    "\n",
    "# Set parameters for GridSearch, to identify best parameters\n",
    "param_grid = {\n",
    "    'max_depth': [2, 4, 8, 16, 32, None],\n",
    "    'n_estimators': [5, 50, 250]\n",
    "}\n",
    "\n",
    "# Set priority score for selecting best model\n",
    "priority_score = 'recall'\n",
    "\n",
    "# ///////////////////////////////////////////////////////////////////////\n",
    "\n",
    "# Consistent repeatable process for cross-validating using Gridsearch\n",
    "\n",
    "# ///////////////////////////////////////////////////////////////////////\n",
    "# Set up scorers\n",
    "scoring = {\n",
    "            'roc_auc': make_scorer(roc_auc_score, greater_is_better=True,\n",
    "                     needs_threshold=False),\n",
    "            'recall': make_scorer(recall_score),\n",
    "            'accuracy': make_scorer(accuracy_score),\n",
    "            'precision': make_scorer(precision_score),\n",
    "            'f1': make_scorer(f1_score)\n",
    "          }\n",
    "\n",
    "cv = GridSearchCV(\n",
    "            estimator = algorithm,\n",
    "            param_grid = param_grid, \n",
    "            scoring = scoring,\n",
    "            refit = priority_score, \n",
    "            cv = StratifiedKFold(n_splits=k, random_state=seed, shuffle=True)\n",
    "         )\n",
    "\n",
    "# Keep track of training time\n",
    "start = time()\n",
    "\n",
    "# Activate gridsearch\n",
    "cv.fit(train_features, train_labels)\n",
    "\n",
    "end = time()\n",
    "latency = round((end-start), 2)\n",
    "\n",
    "# Create dataframe from gridsearch cv_results_\n",
    "cv_results = pd.DataFrame.from_dict(cv.cv_results_)\n",
    "\n",
    "# Specify evaluation metrics that we desire from GridSearchCV results\n",
    "metrics = ['params',\n",
    "           'rank_test_roc_auc',\n",
    "           'mean_test_roc_auc',\n",
    "           'rank_test_recall',\n",
    "           'mean_test_recall',\n",
    "           'mean_test_accuracy', \n",
    "           'mean_test_precision',\n",
    "           'mean_test_f1'\n",
    "          ]\n",
    "\n",
    "# Specify desired data from our results dataframe\n",
    "# cv_results_metrics = cv_results.loc[:, metrics]\n",
    "cv_results_metrics = cv_results[metrics].copy()\n",
    "\n",
    "#  Sort values\n",
    "sortby = 'mean_test_' + priority_score\n",
    "cv_results_metrics.sort_values(sortby, ascending=False, inplace=True)\n",
    "\n",
    "# Report results\n",
    "print(f'\\nTOP-PERFORMING {name} MODELS')\n",
    "print(f'Priority: {priority_score}')\n",
    "print()\n",
    "print(f'Training Latency: {latency}s')\n",
    "print()\n",
    "print(f'Top Model: {cv.best_estimator_}')\n",
    "print(f'\\t{round(cv.best_score_*100, 3)} {priority_score} score')\n",
    "\n",
    "print(f'\\nTOP MODELS (ranked by {sortby})')\n",
    "display(cv_results_metrics.head(10))"
   ]
  },
  {
   "cell_type": "markdown",
   "metadata": {},
   "source": [
    "### Store the best model to our models list"
   ]
  },
  {
   "cell_type": "code",
   "execution_count": 24,
   "metadata": {
    "scrolled": false
   },
   "outputs": [
    {
     "name": "stdout",
     "output_type": "stream",
     "text": [
      "LR_AUC MODEL {'C': 10}\n",
      "\t Score: 77.64\n",
      "\n",
      "RF_AUC MODEL {'max_depth': 8, 'n_estimators': 250}\n",
      "\t Score: 79.648\n",
      "\n",
      "RF_Recall MODEL {'max_depth': 16, 'n_estimators': 5}\n",
      "\t Score: 71.397\n",
      "\n"
     ]
    }
   ],
   "source": [
    "# Auto-add model information to models list\n",
    "model = cv.best_estimator_\n",
    "params = cv.best_params_\n",
    "score = round(cv.best_score_ * 100, 3)\n",
    "models.append({'Name': name, 'Params': params, 'Model': model, 'Score': score})\n",
    "for m in models:\n",
    "    print(f'{m[\"Name\"]} MODEL {m[\"Params\"]}\\n\\t Score: {m[\"Score\"]}\\n')"
   ]
  },
  {
   "cell_type": "code",
   "execution_count": 25,
   "metadata": {
    "scrolled": false
   },
   "outputs": [
    {
     "data": {
      "text/plain": [
       "RandomForestClassifier(max_depth=16, n_estimators=5)"
      ]
     },
     "execution_count": 25,
     "metadata": {},
     "output_type": "execute_result"
    }
   ],
   "source": [
    "# Store LR model to its own variable\n",
    "RF_Recallmodel = cv.best_estimator_\n",
    "RF_Recallmodel"
   ]
  },
  {
   "cell_type": "markdown",
   "metadata": {},
   "source": [
    "# ///////////////////////////////////////////////\n",
    "\n",
    "# Test\n",
    "\n",
    "# ///////////////////////////////////////////////\n",
    "\n",
    "- Test our models with the test split.\n",
    "- Evaluate by top ROC_AUC + Recall scores.\n",
    "\n",
    "### Resources:\n",
    "- Scikit Learn Docs: [3.3. Metrics and scoring: quantifying the quality of predictions](https://scikit-learn.org/stable/modules/model_evaluation.html)"
   ]
  },
  {
   "cell_type": "markdown",
   "metadata": {},
   "source": [
    "### Define a function to print all scores\n",
    "\n",
    "This function needs these arguments:\n",
    "- model = the variable for the model to score\n",
    "- features = features of the desired split to use\n",
    "- labels = labels of the desired split to use"
   ]
  },
  {
   "cell_type": "code",
   "execution_count": 26,
   "metadata": {},
   "outputs": [],
   "source": [
    "# Define function to print all scores at once\n",
    "def print_scores(name, model, features, labels):\n",
    "    '''\n",
    "    name = model name\n",
    "    model = model variable\n",
    "    features = features of desired split\n",
    "    labels = labels of desired split\n",
    "    '''\n",
    "    predictions = model.predict(features)\n",
    "    scorenames = ['ROC AUC','Recall','Accuracy','Precision','F1 Score']\n",
    "    scores = [roc_auc_score(labels, predictions),\n",
    "             recall_score(labels, predictions),\n",
    "             accuracy_score(labels, predictions),\n",
    "             precision_score(labels, predictions),\n",
    "             f1_score(labels, predictions)\n",
    "             ]\n",
    "    print(name)\n",
    "    print(model)\n",
    "    for scorename, score in zip(scorenames, scores):\n",
    "        print(f'\\t{scorename}: \\t{round(score*100,3)}')"
   ]
  },
  {
   "cell_type": "code",
   "execution_count": 27,
   "metadata": {},
   "outputs": [
    {
     "name": "stdout",
     "output_type": "stream",
     "text": [
      "LR_AUC\n",
      "LogisticRegression(C=10, fit_intercept=False, max_iter=500, n_jobs=-1,\n",
      "                   random_state=42)\n",
      "\tROC AUC: \t79.667\n",
      "\tRecall: \t72.072\n",
      "\tAccuracy: \t80.97\n",
      "\tPrecision: \t80.0\n",
      "\tF1 Score: \t75.829\n",
      "\n",
      "\n",
      "RF_AUC\n",
      "RandomForestClassifier(max_depth=8, n_estimators=250)\n",
      "\tROC AUC: \t77.787\n",
      "\tRecall: \t65.766\n",
      "\tAccuracy: \t79.851\n",
      "\tPrecision: \t82.022\n",
      "\tF1 Score: \t73.0\n",
      "\n",
      "\n",
      "RF_Recall\n",
      "RandomForestClassifier(max_depth=16, n_estimators=5)\n",
      "\tROC AUC: \t76.14\n",
      "\tRecall: \t67.568\n",
      "\tAccuracy: \t77.612\n",
      "\tPrecision: \t75.758\n",
      "\tF1 Score: \t71.429\n",
      "\n",
      "\n"
     ]
    }
   ],
   "source": [
    "# Print scores for all models with test split\n",
    "for model in models:\n",
    "    print_scores(model['Name'], model['Model'], test_features, test_labels)\n",
    "    print('\\n')"
   ]
  },
  {
   "cell_type": "markdown",
   "metadata": {},
   "source": [
    "## Compare Confusion Matrices\n",
    "Resources:\n",
    "- [Scikit-Learn Confusion Matrix Docs](https://scikit-learn.org/stable/modules/generated/sklearn.metrics.confusion_matrix.html)\n",
    "- [Scikit-Learn Model Evaluation Docs](https://scikit-learn.org/stable/modules/model_evaluation.html)\n",
    "- [Confusion Matrix Visualization - Dennis T](https://medium.com/@dtuk81/confusion-matrix-visualization-fc31e3f30fea)\n",
    "- [Stackoverflow example](https://stackoverflow.com/a/36165952)\n",
    "- [Various Confusion Matrix Plots - Kaggle Notebook](https://www.kaggle.com/agungor2/various-confusion-matrix-plots)"
   ]
  },
  {
   "cell_type": "code",
   "execution_count": 31,
   "metadata": {},
   "outputs": [],
   "source": [
    "# Define a function to generate confusion matrices\n",
    "def make_cm(name, model, features, labels):\n",
    "    '''\n",
    "    name = model name\n",
    "    model = model variable\n",
    "    features = features of desired split\n",
    "    labels = labels of desired split\n",
    "    '''\n",
    "    predictions = model.predict(features)\n",
    "    cm = confusion_matrix(labels, predictions)\n",
    "    cm_norm = confusion_matrix(labels, predictions, normalize='true')\n",
    "\n",
    "    # Generate plot\n",
    "    group_names = ['True Neg','False Pos','False Neg','True Pos']\n",
    "    group_counts = ['{0:0.0f}'.format(value) for value in cm.flatten()]\n",
    "    group_percentages = ['{0:.2%}'.format(value) for value in cm_norm.flatten()]\n",
    "    group_labels = [f'{v1}\\n\\n{v2}\\n\\n{v3}' for v1, v2, v3 in\n",
    "              zip(group_names, group_percentages, group_counts)]\n",
    "    group_labels = np.asarray(group_labels).reshape(2,2)\n",
    "    plt.figure(figsize = (5,4))\n",
    "    plt.title(f'\\n{name} Confusion Matrix\\n')\n",
    "    sns.heatmap(cm, annot=group_labels, fmt='', cmap='Blues', annot_kws={\"size\": 12}, cbar=None); # NOTE: fmt='' is required! "
   ]
  },
  {
   "cell_type": "code",
   "execution_count": 32,
   "metadata": {},
   "outputs": [
    {
     "data": {
      "image/png": "[encoded data removed]",
      "text/plain": [
       "<Figure size 360x288 with 1 Axes>"
      ]
     },
     "metadata": {
      "needs_background": "light"
     },
     "output_type": "display_data"
    },
    {
     "data": {
      "image/png": "[encoded data removed]",
      "text/plain": [
       "<Figure size 360x288 with 1 Axes>"
      ]
     },
     "metadata": {
      "needs_background": "light"
     },
     "output_type": "display_data"
    },
    {
     "data": {
      "image/png": "[encoded data removed]",
      "text/plain": [
       "<Figure size 360x288 with 1 Axes>"
      ]
     },
     "metadata": {
      "needs_background": "light"
     },
     "output_type": "display_data"
    }
   ],
   "source": [
    "# Plot confusion matrices for all models with test split\n",
    "for model in models:\n",
    "    make_cm(model['Name'], model['Model'], test_features, test_labels)"
   ]
  },
  {
   "cell_type": "markdown",
   "metadata": {},
   "source": [
    "## Compare ROC Curves\n",
    "\n",
    "Resources: \n",
    "- https://abdalimran.github.io/2019-06-01/Drawing-multiple-ROC-Curves-in-a-single-plot \n",
    "- https://stats.stackexchange.com/questions/437358/how-to-plot-multiple-classifiers-roc-curves-using-scikitplot\n",
    "- https://scikit-learn.org/stable/auto_examples/release_highlights/plot_release_highlights_0_22_0.html"
   ]
  },
  {
   "cell_type": "code",
   "execution_count": 34,
   "metadata": {},
   "outputs": [
    {
     "data": {
      "image/png": "[encoded data removed]",
      "text/plain": [
       "<Figure size 432x288 with 1 Axes>"
      ]
     },
     "metadata": {
      "needs_background": "light"
     },
     "output_type": "display_data"
    },
    {
     "data": {
      "image/png": "[encoded data removed]",
      "text/plain": [
       "<Figure size 432x288 with 1 Axes>"
      ]
     },
     "metadata": {
      "needs_background": "light"
     },
     "output_type": "display_data"
    },
    {
     "data": {
      "image/png": "[encoded data removed]",
      "text/plain": [
       "<Figure size 432x288 with 1 Axes>"
      ]
     },
     "metadata": {
      "needs_background": "light"
     },
     "output_type": "display_data"
    }
   ],
   "source": [
    "for model in models:\n",
    "    plot_roc_curve(model['Model'], test_features, test_labels);"
   ]
  },
  {
   "cell_type": "code",
   "execution_count": 42,
   "metadata": {},
   "outputs": [
    {
     "data": {
      "image/png": "[encoded data removed]",
      "text/plain": [
       "<Figure size 432x288 with 1 Axes>"
      ]
     },
     "metadata": {
      "needs_background": "light"
     },
     "output_type": "display_data"
    }
   ],
   "source": [
    "# Plot all together on same chart\n",
    "LR_AUC_roc = plot_roc_curve(LR_AUCmodel, test_features, test_labels);\n",
    "RF_AUC_roc = plot_roc_curve(RF_AUCmodel, test_features, test_labels, ax=LR_AUC_roc.ax_);\n",
    "RF_Recall_roc = plot_roc_curve(RF_Recallmodel, test_features, test_labels, ax=LR_AUC_roc.ax_);\n",
    "RF_Recall_roc.figure_.suptitle(\"ROC Curve Comparison\")\n",
    "plt.show()"
   ]
  },
  {
   "cell_type": "code",
   "execution_count": null,
   "metadata": {},
   "outputs": [],
   "source": []
  }
 ],
 "metadata": {
  "kernelspec": {
   "display_name": "Python 3",
   "language": "python",
   "name": "python3"
  },
  "language_info": {
   "codemirror_mode": {
    "name": "ipython",
    "version": 3
   },
   "file_extension": ".py",
   "mimetype": "text/x-python",
   "name": "python",
   "nbconvert_exporter": "python",
   "pygments_lexer": "ipython3",
   "version": "3.8.5"
  }
 },
 "nbformat": 4,
 "nbformat_minor": 2
}
